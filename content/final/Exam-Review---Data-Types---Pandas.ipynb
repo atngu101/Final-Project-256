{
 "cells": [
  {
   "cell_type": "markdown",
   "metadata": {},
   "source": [
    "## Exam 3 Review\n",
    "\n",
    "- Data Types\n",
    "- Comparing Data Types\n",
    "- APIs\n",
    "- JSON\n",
    "- Parsing complex JSON Objects\n",
    "- Pandas \n",
    "    - Series\n",
    "    - DataFrame\n"
   ]
  },
  {
   "cell_type": "markdown",
   "metadata": {
    "collapsed": true
   },
   "source": [
    "| Data Type        | Bool           | Integer  | Float  | String  | List  | Dictionary  |\n",
    "| :--------------------:|:-------------:| -----:|\n",
    "| Create New            | x = True | x = 1 | x = 1.0  | x = \"1\" < enclosed in single or double quotes >  | x = [1]  | x = { \"a\": 1 }  |\n",
    "| Container/Homogenous  | n/a | n/a | n/a  | Collection of 'chars'  | collection of all data types  | collection of all data types  |\n",
    "| [Mutable](https://en.wikibooks.org/wiki/Python_Programming/Data_Types#Mutable_vs_Immutable_Objects)               | no | no | no  | no  | yes  | yes  |\n",
    "| Index                 | n/a | n/a | n/a  | int starting with 0  |  int starting with 0  | user initialized strings  |\n",
    "| Maintains Order       |  |  |   |   | Yes  | No  |\n",
    "| Methods               | ?? |?? | ??  | ??  | ??  | ??  |\n",
    "| Iteration             |  |  |   | for char in x:  | for item in x  | for key in x.keys():  |\n",
    "| Splicing              |  |  |   | Yes  | Yes  | Yes  |"
   ]
  },
  {
   "cell_type": "code",
   "execution_count": 38,
   "metadata": {
    "collapsed": false
   },
   "outputs": [
    {
     "data": {
      "text/plain": [
       "['__class__',\n",
       " '__contains__',\n",
       " '__delattr__',\n",
       " '__delitem__',\n",
       " '__dir__',\n",
       " '__doc__',\n",
       " '__eq__',\n",
       " '__format__',\n",
       " '__ge__',\n",
       " '__getattribute__',\n",
       " '__getitem__',\n",
       " '__gt__',\n",
       " '__hash__',\n",
       " '__init__',\n",
       " '__iter__',\n",
       " '__le__',\n",
       " '__len__',\n",
       " '__lt__',\n",
       " '__ne__',\n",
       " '__new__',\n",
       " '__reduce__',\n",
       " '__reduce_ex__',\n",
       " '__repr__',\n",
       " '__setattr__',\n",
       " '__setitem__',\n",
       " '__sizeof__',\n",
       " '__str__',\n",
       " '__subclasshook__',\n",
       " 'clear',\n",
       " 'copy',\n",
       " 'fromkeys',\n",
       " 'get',\n",
       " 'items',\n",
       " 'keys',\n",
       " 'pop',\n",
       " 'popitem',\n",
       " 'setdefault',\n",
       " 'update',\n",
       " 'values']"
      ]
     },
     "execution_count": 38,
     "metadata": {},
     "output_type": "execute_result"
    }
   ],
   "source": [
    "dir( dict )"
   ]
  },
  {
   "cell_type": "code",
   "execution_count": 3,
   "metadata": {
    "collapsed": false,
    "scrolled": false
   },
   "outputs": [
    {
     "name": "stdout",
     "output_type": "stream",
     "text": [
      "[1, 2, 3, 4, 5, 6]\n",
      "[1, 2, 3, 4]\n",
      "[1, 3]\n"
     ]
    },
    {
     "ename": "IndexError",
     "evalue": "list index out of range",
     "output_type": "error",
     "traceback": [
      "\u001b[0;31m---------------------------------------------------------------------------\u001b[0m",
      "\u001b[0;31mIndexError\u001b[0m                                Traceback (most recent call last)",
      "\u001b[0;32m<ipython-input-3-e76cce68216f>\u001b[0m in \u001b[0;36m<module>\u001b[0;34m()\u001b[0m\n\u001b[1;32m     14\u001b[0m \u001b[1;33m\u001b[0m\u001b[0m\n\u001b[1;32m     15\u001b[0m \u001b[1;31m#What error will this generate\u001b[0m\u001b[1;33m\u001b[0m\u001b[1;33m\u001b[0m\u001b[0m\n\u001b[0;32m---> 16\u001b[0;31m \u001b[0mprint\u001b[0m\u001b[1;33m(\u001b[0m \u001b[0mlistObj\u001b[0m\u001b[1;33m[\u001b[0m\u001b[1;36m10\u001b[0m\u001b[1;33m]\u001b[0m \u001b[1;33m)\u001b[0m\u001b[1;33m\u001b[0m\u001b[0m\n\u001b[0m",
      "\u001b[0;31mIndexError\u001b[0m: list index out of range"
     ]
    }
   ],
   "source": [
    "listObj = [1,2,3,4,5,6]\n",
    "\n",
    "# create pointer to listObj\n",
    "list2 = listObj\n",
    "\n",
    "# copy and assign \n",
    "list3 = listObj[:]\n",
    "\n",
    "print( listObj[:] )\n",
    "\n",
    "print( listObj[0:-2] )\n",
    "\n",
    "print( listObj[0:4:2] )\n",
    "\n",
    "#What error will this generate\n",
    "print( listObj[10] )"
   ]
  },
  {
   "cell_type": "code",
   "execution_count": 5,
   "metadata": {
    "collapsed": false
   },
   "outputs": [
    {
     "name": "stdout",
     "output_type": "stream",
     "text": [
      "Wake Up\n",
      "Go to work\n",
      "Walk Dog\n",
      "Checking email\n",
      "Wake Up\n",
      "\n",
      "\n",
      "Go to work\n",
      "Walk Dog\n",
      "Checking email\n",
      "Wake Up\n",
      "\n",
      "\n",
      "8 - Go to work\n",
      "6 - Walk Dog\n",
      "7 - Checking email\n",
      "5 - Wake Up\n",
      "\n",
      "\n"
     ]
    },
    {
     "ename": "KeyError",
     "evalue": "5",
     "output_type": "error",
     "traceback": [
      "\u001b[0;31m---------------------------------------------------------------------------\u001b[0m",
      "\u001b[0;31mKeyError\u001b[0m                                  Traceback (most recent call last)",
      "\u001b[0;32m<ipython-input-5-f2d9178df9d8>\u001b[0m in \u001b[0;36m<module>\u001b[0;34m()\u001b[0m\n\u001b[1;32m     22\u001b[0m \u001b[1;33m\u001b[0m\u001b[0m\n\u001b[1;32m     23\u001b[0m \u001b[1;31m# this will throw an error, why????\u001b[0m\u001b[1;33m\u001b[0m\u001b[1;33m\u001b[0m\u001b[0m\n\u001b[0;32m---> 24\u001b[0;31m \u001b[0mprint\u001b[0m\u001b[1;33m(\u001b[0m\u001b[0mschedule\u001b[0m\u001b[1;33m[\u001b[0m\u001b[1;36m5\u001b[0m\u001b[1;33m]\u001b[0m\u001b[1;33m)\u001b[0m\u001b[1;33m\u001b[0m\u001b[0m\n\u001b[0m",
      "\u001b[0;31mKeyError\u001b[0m: 5"
     ]
    }
   ],
   "source": [
    "schedule = { \"5\" : \"Wake Up\", \"6\" : \"Walk Dog\", \"7\" : \"Checking email\", \"8\": \"Go to work\" }\n",
    "\n",
    "print(schedule.get('5', \"Hmm nothing found\"))\n",
    "\n",
    "for hr in schedule:\n",
    "    print( schedule[hr] )\n",
    "    \n",
    "print()\n",
    "print()\n",
    "\n",
    "for r in schedule.values():\n",
    "    print( r )\n",
    "\n",
    "print()\n",
    "print()\n",
    "    \n",
    "for hr, r in schedule.items():\n",
    "    print( \"%s - %s\" % (hr, r) )\n",
    "\n",
    "print()\n",
    "print()\n",
    "\n",
    "# this will throw an error, why????\n",
    "print(schedule[5])\n"
   ]
  },
  {
   "cell_type": "code",
   "execution_count": 6,
   "metadata": {
    "collapsed": false
   },
   "outputs": [
    {
     "ename": "TypeError",
     "evalue": "Can't convert 'int' object to str implicitly",
     "output_type": "error",
     "traceback": [
      "\u001b[0;31m---------------------------------------------------------------------------\u001b[0m",
      "\u001b[0;31mTypeError\u001b[0m                                 Traceback (most recent call last)",
      "\u001b[0;32m<ipython-input-6-76c2bfe7f2e8>\u001b[0m in \u001b[0;36m<module>\u001b[0;34m()\u001b[0m\n\u001b[1;32m      5\u001b[0m \u001b[1;33m\u001b[0m\u001b[0m\n\u001b[1;32m      6\u001b[0m \u001b[1;31m#What happens below? and why?\u001b[0m\u001b[1;33m\u001b[0m\u001b[1;33m\u001b[0m\u001b[0m\n\u001b[0;32m----> 7\u001b[0;31m \u001b[0mprint\u001b[0m \u001b[1;33m(\u001b[0m \u001b[0mx\u001b[0m \u001b[1;33m+\u001b[0m \u001b[0my\u001b[0m \u001b[1;33m)\u001b[0m\u001b[1;33m\u001b[0m\u001b[0m\n\u001b[0m",
      "\u001b[0;31mTypeError\u001b[0m: Can't convert 'int' object to str implicitly"
     ]
    }
   ],
   "source": [
    "# more errors\n",
    "\n",
    "x = \"10\"\n",
    "y = 5\n",
    "\n",
    "#What happens below? and why?\n",
    "print ( x + y )"
   ]
  },
  {
   "cell_type": "code",
   "execution_count": 20,
   "metadata": {
    "collapsed": false,
    "scrolled": true
   },
   "outputs": [
    {
     "name": "stdout",
     "output_type": "stream",
     "text": [
      "{'minutely': {'data': [{'time': 1493071860, 'precipIntensity': 0, 'precipProbability': 0}, {'time': 1493071920, 'precipIntensity': 0, 'precipProbability': 0}, {'time': 1493071980, 'precipIntensity': 0, 'precipProbability': 0}, {'time': 1493072040, 'precipIntensity': 0, 'precipProbability': 0}, {'time': 1493072100, 'precipIntensity': 0, 'precipProbability': 0}, {'time': 1493072160, 'precipIntensity': 0, 'precipProbability': 0}, {'time': 1493072220, 'precipIntensity': 0, 'precipProbability': 0}, {'time': 1493072280, 'precipIntensity': 0, 'precipProbability': 0}, {'time': 1493072340, 'precipIntensity': 0, 'precipProbability': 0}, {'time': 1493072400, 'precipIntensity': 0, 'precipProbability': 0}, {'time': 1493072460, 'precipIntensity': 0, 'precipProbability': 0}, {'time': 1493072520, 'precipIntensity': 0, 'precipProbability': 0}, {'time': 1493072580, 'precipIntensity': 0, 'precipProbability': 0}, {'time': 1493072640, 'precipIntensity': 0, 'precipProbability': 0}, {'time': 1493072700, 'precipIntensity': 0, 'precipProbability': 0}, {'time': 1493072760, 'precipIntensity': 0, 'precipProbability': 0}, {'time': 1493072820, 'precipIntensity': 0, 'precipProbability': 0}, {'time': 1493072880, 'precipIntensity': 0, 'precipProbability': 0}, {'time': 1493072940, 'precipIntensity': 0, 'precipProbability': 0}, {'time': 1493073000, 'precipIntensity': 0, 'precipProbability': 0}, {'time': 1493073060, 'precipIntensity': 0, 'precipProbability': 0}, {'time': 1493073120, 'precipIntensity': 0, 'precipProbability': 0}, {'time': 1493073180, 'precipIntensity': 0, 'precipProbability': 0}, {'time': 1493073240, 'precipIntensity': 0, 'precipProbability': 0}, {'time': 1493073300, 'precipIntensity': 0, 'precipProbability': 0}, {'time': 1493073360, 'precipIntensity': 0, 'precipProbability': 0}, {'time': 1493073420, 'precipIntensity': 0, 'precipProbability': 0}, {'time': 1493073480, 'precipIntensity': 0, 'precipProbability': 0}, {'time': 1493073540, 'precipIntensity': 0, 'precipProbability': 0}, {'time': 1493073600, 'precipIntensity': 0, 'precipProbability': 0}, {'time': 1493073660, 'precipIntensity': 0, 'precipProbability': 0}, {'time': 1493073720, 'precipIntensity': 0, 'precipProbability': 0}, {'time': 1493073780, 'precipIntensity': 0, 'precipProbability': 0}, {'time': 1493073840, 'precipIntensity': 0, 'precipProbability': 0}, {'time': 1493073900, 'precipIntensity': 0, 'precipProbability': 0}, {'time': 1493073960, 'precipIntensity': 0, 'precipProbability': 0}, {'time': 1493074020, 'precipIntensity': 0, 'precipProbability': 0}, {'time': 1493074080, 'precipIntensity': 0, 'precipProbability': 0}, {'time': 1493074140, 'precipIntensity': 0, 'precipProbability': 0}, {'time': 1493074200, 'precipIntensity': 0, 'precipProbability': 0}, {'time': 1493074260, 'precipIntensity': 0, 'precipProbability': 0}, {'time': 1493074320, 'precipIntensity': 0, 'precipProbability': 0}, {'time': 1493074380, 'precipIntensity': 0, 'precipProbability': 0}, {'time': 1493074440, 'precipIntensity': 0, 'precipProbability': 0}, {'time': 1493074500, 'precipIntensity': 0, 'precipProbability': 0}, {'time': 1493074560, 'precipIntensity': 0, 'precipProbability': 0}, {'time': 1493074620, 'precipIntensity': 0, 'precipProbability': 0}, {'time': 1493074680, 'precipIntensity': 0, 'precipProbability': 0}, {'time': 1493074740, 'precipIntensity': 0, 'precipProbability': 0}, {'time': 1493074800, 'precipIntensity': 0, 'precipProbability': 0}, {'time': 1493074860, 'precipIntensity': 0, 'precipProbability': 0}, {'time': 1493074920, 'precipIntensity': 0, 'precipProbability': 0}, {'time': 1493074980, 'precipIntensity': 0, 'precipProbability': 0}, {'time': 1493075040, 'precipIntensity': 0, 'precipProbability': 0}, {'time': 1493075100, 'precipIntensity': 0, 'precipProbability': 0}, {'time': 1493075160, 'precipIntensity': 0, 'precipProbability': 0}, {'time': 1493075220, 'precipIntensity': 0, 'precipProbability': 0}, {'time': 1493075280, 'precipIntensity': 0, 'precipProbability': 0}, {'time': 1493075340, 'precipIntensity': 0, 'precipProbability': 0}, {'time': 1493075400, 'precipIntensity': 0, 'precipProbability': 0}, {'time': 1493075460, 'precipIntensity': 0, 'precipProbability': 0}], 'icon': 'partly-cloudy-day', 'summary': 'Partly cloudy for the hour.'}, 'timezone': 'America/New_York', 'latitude': 43.048122, 'offset': -4, 'daily': {'data': [{'apparentTemperatureMin': 38.87, 'precipProbability': 0, 'cloudCover': 0.2, 'pressure': 1019.71, 'apparentTemperatureMax': 70.49, 'humidity': 0.63, 'apparentTemperatureMaxTime': 1493064000, 'windBearing': 22, 'summary': 'Partly cloudy starting in the evening.', 'precipIntensityMax': 0, 'temperatureMaxTime': 1493064000, 'time': 1493006400, 'precipIntensity': 0, 'icon': 'partly-cloudy-night', 'sunriseTime': 1493028553, 'windSpeed': 2.38, 'visibility': 9.77, 'temperatureMinTime': 1493024400, 'ozone': 334.47, 'temperatureMax': 70.49, 'temperatureMin': 38.87, 'dewPoint': 41.03, 'sunsetTime': 1493078303, 'moonPhase': 0.93, 'apparentTemperatureMinTime': 1493024400}, {'precipProbability': 0.7, 'cloudCover': 0.95, 'pressure': 1017.9, 'apparentTemperatureMax': 58.6, 'apparentTemperatureMaxTime': 1493146800, 'temperatureMaxTime': 1493146800, 'precipType': 'rain', 'summary': 'Light rain throughout the day.', 'precipIntensityMax': 0.0395, 'apparentTemperatureMin': 44.36, 'time': 1493092800, 'precipIntensity': 0.0109, 'icon': 'rain', 'sunriseTime': 1493114863, 'windBearing': 88, 'sunsetTime': 1493164773, 'precipIntensityMaxTime': 1493175600, 'temperatureMinTime': 1493118000, 'ozone': 320.24, 'temperatureMax': 58.6, 'windSpeed': 10.66, 'temperatureMin': 48.4, 'dewPoint': 45.96, 'humidity': 0.79, 'moonPhase': 0.97, 'apparentTemperatureMinTime': 1493118000, 'visibility': 9.83}, {'precipProbability': 0.66, 'cloudCover': 0.53, 'pressure': 1010.45, 'apparentTemperatureMax': 73.25, 'apparentTemperatureMaxTime': 1493236800, 'temperatureMaxTime': 1493236800, 'precipType': 'rain', 'summary': 'Partly cloudy until evening.', 'precipIntensityMax': 0.0304, 'apparentTemperatureMin': 47.36, 'time': 1493179200, 'precipIntensity': 0.0021, 'icon': 'partly-cloudy-day', 'sunriseTime': 1493201175, 'windBearing': 90, 'sunsetTime': 1493251243, 'precipIntensityMaxTime': 1493179200, 'temperatureMinTime': 1493190000, 'ozone': 308.64, 'temperatureMax': 73.25, 'windSpeed': 4.62, 'temperatureMin': 49.91, 'dewPoint': 55.48, 'humidity': 0.86, 'moonPhase': 0.01, 'apparentTemperatureMinTime': 1493190000, 'visibility': 10}, {'apparentTemperatureMin': 55.98, 'precipProbability': 0, 'cloudCover': 0.26, 'pressure': 1009.6, 'apparentTemperatureMax': 85.66, 'humidity': 0.79, 'apparentTemperatureMaxTime': 1493319600, 'windBearing': 141, 'summary': 'Partly cloudy until afternoon.', 'precipIntensityMax': 0, 'temperatureMaxTime': 1493319600, 'time': 1493265600, 'precipIntensity': 0, 'icon': 'partly-cloudy-day', 'sunriseTime': 1493287487, 'windSpeed': 8.2, 'visibility': 10, 'temperatureMinTime': 1493276400, 'ozone': 301.5, 'temperatureMax': 82.87, 'temperatureMin': 55.98, 'dewPoint': 61.02, 'sunsetTime': 1493337713, 'moonPhase': 0.05, 'apparentTemperatureMinTime': 1493276400}, {'precipProbability': 0.71, 'cloudCover': 0.44, 'pressure': 1013.29, 'apparentTemperatureMax': 68.5, 'apparentTemperatureMaxTime': 1493413200, 'temperatureMaxTime': 1493413200, 'precipType': 'rain', 'summary': 'Light rain until afternoon.', 'precipIntensityMax': 0.0458, 'apparentTemperatureMin': 50.08, 'time': 1493352000, 'precipIntensity': 0.0161, 'icon': 'rain', 'sunriseTime': 1493373801, 'windBearing': 243, 'sunsetTime': 1493424183, 'precipIntensityMaxTime': 1493384400, 'temperatureMinTime': 1493434800, 'ozone': 322.5, 'temperatureMax': 68.5, 'windSpeed': 3.24, 'temperatureMin': 50.08, 'dewPoint': 59.6, 'humidity': 0.86, 'moonPhase': 0.08, 'apparentTemperatureMinTime': 1493434800}, {'precipProbability': 0.53, 'cloudCover': 0.7, 'pressure': 1016.98, 'apparentTemperatureMax': 73.86, 'apparentTemperatureMaxTime': 1493485200, 'temperatureMaxTime': 1493485200, 'precipType': 'rain', 'summary': 'Light rain starting in the afternoon.', 'precipIntensityMax': 0.012, 'apparentTemperatureMin': 49.69, 'time': 1493438400, 'precipIntensity': 0.006, 'icon': 'rain', 'sunriseTime': 1493460116, 'windBearing': 234, 'sunsetTime': 1493510653, 'precipIntensityMaxTime': 1493492400, 'temperatureMinTime': 1493445600, 'ozone': 309.35, 'temperatureMax': 73.86, 'windSpeed': 3.76, 'temperatureMin': 49.69, 'dewPoint': 55.59, 'humidity': 0.85, 'moonPhase': 0.12, 'apparentTemperatureMinTime': 1493445600}, {'precipProbability': 0.71, 'cloudCover': 0.95, 'pressure': 1015.03, 'apparentTemperatureMax': 66.75, 'apparentTemperatureMaxTime': 1493586000, 'temperatureMaxTime': 1493586000, 'precipType': 'rain', 'summary': 'Light rain throughout the day.', 'precipIntensityMax': 0.046, 'apparentTemperatureMin': 50.4, 'time': 1493524800, 'precipIntensity': 0.0196, 'icon': 'rain', 'sunriseTime': 1493546432, 'windBearing': 97, 'sunsetTime': 1493597123, 'precipIntensityMaxTime': 1493607600, 'temperatureMinTime': 1493535600, 'ozone': 292.56, 'temperatureMax': 66.75, 'windSpeed': 2.78, 'temperatureMin': 50.4, 'dewPoint': 55.63, 'humidity': 0.93, 'moonPhase': 0.16, 'apparentTemperatureMinTime': 1493535600}, {'precipProbability': 0.73, 'cloudCover': 0.89, 'pressure': 1006.91, 'apparentTemperatureMax': 72.99, 'apparentTemperatureMaxTime': 1493658000, 'temperatureMaxTime': 1493658000, 'precipType': 'rain', 'summary': 'Light rain throughout the day.', 'precipIntensityMax': 0.0525, 'apparentTemperatureMin': 61.43, 'time': 1493611200, 'precipIntensity': 0.0189, 'icon': 'rain', 'sunriseTime': 1493632750, 'windBearing': 186, 'sunsetTime': 1493683593, 'precipIntensityMaxTime': 1493694000, 'temperatureMinTime': 1493629200, 'ozone': 297.54, 'temperatureMax': 72.99, 'windSpeed': 9.64, 'temperatureMin': 61.43, 'dewPoint': 62.33, 'humidity': 0.85, 'moonPhase': 0.19, 'apparentTemperatureMinTime': 1493629200}], 'icon': 'rain', 'summary': 'Light rain tomorrow through Monday, with temperatures rising to 83°F on Thursday.'}, 'longitude': -76.147424, 'hourly': {'data': [{'temperature': 67.54, 'time': 1493071200, 'precipIntensity': 0, 'icon': 'partly-cloudy-day', 'cloudCover': 0.42, 'pressure': 1018.36, 'windSpeed': 5.26, 'visibility': 10, 'summary': 'Partly Cloudy', 'ozone': 327.17, 'windBearing': 19, 'dewPoint': 42.13, 'humidity': 0.4, 'precipProbability': 0, 'apparentTemperature': 67.54}, {'temperature': 64.01, 'time': 1493074800, 'precipIntensity': 0, 'icon': 'partly-cloudy-day', 'cloudCover': 0.56, 'pressure': 1018.94, 'windSpeed': 5.58, 'visibility': 10, 'summary': 'Partly Cloudy', 'ozone': 326.61, 'windBearing': 22, 'dewPoint': 43.7, 'humidity': 0.48, 'precipProbability': 0, 'apparentTemperature': 64.01}, {'temperature': 59.36, 'time': 1493078400, 'precipIntensity': 0, 'icon': 'partly-cloudy-night', 'cloudCover': 0.53, 'pressure': 1019.01, 'windSpeed': 5.16, 'visibility': 10, 'summary': 'Partly Cloudy', 'ozone': 325.94, 'windBearing': 23, 'dewPoint': 43.3, 'humidity': 0.55, 'precipProbability': 0, 'apparentTemperature': 59.36}, {'temperature': 57.16, 'time': 1493082000, 'precipIntensity': 0, 'icon': 'partly-cloudy-night', 'cloudCover': 0.36, 'pressure': 1019.25, 'windSpeed': 4.97, 'visibility': 9.81, 'summary': 'Partly Cloudy', 'ozone': 325.06, 'windBearing': 45, 'dewPoint': 43.61, 'humidity': 0.6, 'precipProbability': 0, 'apparentTemperature': 57.16}, {'temperature': 55.64, 'time': 1493085600, 'precipIntensity': 0, 'icon': 'partly-cloudy-night', 'cloudCover': 0.53, 'pressure': 1019.58, 'windSpeed': 5.22, 'visibility': 9.6, 'summary': 'Partly Cloudy', 'ozone': 324.06, 'windBearing': 71, 'dewPoint': 43.53, 'humidity': 0.64, 'precipProbability': 0, 'apparentTemperature': 55.64}, {'temperature': 54.25, 'time': 1493089200, 'precipIntensity': 0, 'icon': 'partly-cloudy-night', 'cloudCover': 0.57, 'pressure': 1019.83, 'windSpeed': 5.47, 'visibility': 9.48, 'summary': 'Partly Cloudy', 'ozone': 323.13, 'windBearing': 88, 'dewPoint': 43.37, 'humidity': 0.67, 'precipProbability': 0, 'apparentTemperature': 54.25}, {'temperature': 51.05, 'time': 1493092800, 'precipIntensity': 0, 'icon': 'partly-cloudy-night', 'cloudCover': 0.63, 'pressure': 1020.11, 'windSpeed': 6.31, 'visibility': 9.39, 'summary': 'Mostly Cloudy', 'ozone': 322.39, 'windBearing': 95, 'dewPoint': 41.37, 'humidity': 0.69, 'precipProbability': 0, 'apparentTemperature': 51.05}, {'temperature': 49.61, 'time': 1493096400, 'precipIntensity': 0, 'icon': 'partly-cloudy-night', 'cloudCover': 0.68, 'pressure': 1020.09, 'windSpeed': 6.58, 'visibility': 9.35, 'summary': 'Mostly Cloudy', 'ozone': 321.7, 'windBearing': 93, 'dewPoint': 40.62, 'humidity': 0.71, 'precipProbability': 0, 'apparentTemperature': 46.91}, {'temperature': 48.61, 'time': 1493100000, 'precipIntensity': 0, 'icon': 'partly-cloudy-night', 'cloudCover': 0.55, 'pressure': 1020.02, 'windSpeed': 6.77, 'visibility': 9.36, 'summary': 'Partly Cloudy', 'ozone': 320.88, 'windBearing': 92, 'dewPoint': 40.17, 'humidity': 0.72, 'precipProbability': 0, 'apparentTemperature': 45.62}, {'temperature': 48.56, 'time': 1493103600, 'precipIntensity': 0, 'icon': 'partly-cloudy-night', 'cloudCover': 0.91, 'pressure': 1019.86, 'windSpeed': 7.34, 'visibility': 9.41, 'summary': 'Mostly Cloudy', 'ozone': 319.67, 'windBearing': 95, 'dewPoint': 40.34, 'humidity': 0.73, 'precipProbability': 0, 'apparentTemperature': 45.3}, {'temperature': 48.75, 'time': 1493107200, 'precipIntensity': 0.001, 'icon': 'cloudy', 'cloudCover': 0.96, 'pressure': 1019.67, 'windSpeed': 7.67, 'visibility': 9.46, 'summary': 'Overcast', 'ozone': 318.32, 'windBearing': 90, 'humidity': 0.74, 'dewPoint': 40.88, 'precipType': 'rain', 'precipProbability': 0.01, 'apparentTemperature': 45.39}, {'temperature': 49.2, 'time': 1493110800, 'precipIntensity': 0.0021, 'icon': 'cloudy', 'cloudCover': 1, 'pressure': 1019.54, 'windSpeed': 8.07, 'visibility': 9.49, 'summary': 'Overcast', 'ozone': 317.41, 'windBearing': 82, 'humidity': 0.74, 'dewPoint': 41.3, 'precipType': 'rain', 'precipProbability': 0.05, 'apparentTemperature': 45.76}, {'temperature': 48.85, 'time': 1493114400, 'precipIntensity': 0.0035, 'icon': 'cloudy', 'cloudCover': 1, 'pressure': 1019.6, 'windSpeed': 8.59, 'visibility': 9.62, 'summary': 'Overcast', 'ozone': 317.16, 'windBearing': 77, 'humidity': 0.75, 'dewPoint': 41.25, 'precipType': 'rain', 'precipProbability': 0.12, 'apparentTemperature': 45.13}, {'temperature': 48.4, 'time': 1493118000, 'precipIntensity': 0.0064, 'icon': 'rain', 'cloudCover': 1, 'pressure': 1019.74, 'windSpeed': 9.15, 'visibility': 9.81, 'summary': 'Drizzle', 'ozone': 317.35, 'windBearing': 78, 'humidity': 0.76, 'dewPoint': 41.26, 'precipType': 'rain', 'precipProbability': 0.3, 'apparentTemperature': 44.36}, {'temperature': 49.36, 'time': 1493121600, 'precipIntensity': 0.0093, 'icon': 'rain', 'cloudCover': 1, 'pressure': 1019.79, 'windSpeed': 9.66, 'visibility': 9.98, 'summary': 'Light Rain', 'ozone': 317.91, 'windBearing': 82, 'humidity': 0.76, 'dewPoint': 42.19, 'precipType': 'rain', 'precipProbability': 0.49, 'apparentTemperature': 45.36}, {'temperature': 49.94, 'time': 1493125200, 'precipIntensity': 0.0109, 'icon': 'rain', 'cloudCover': 1, 'pressure': 1019.73, 'windSpeed': 11.15, 'visibility': 10, 'summary': 'Light Rain', 'ozone': 319.12, 'windBearing': 86, 'humidity': 0.76, 'dewPoint': 42.6, 'precipType': 'rain', 'precipProbability': 0.52, 'apparentTemperature': 45.6}, {'temperature': 51.66, 'time': 1493128800, 'precipIntensity': 0.0112, 'icon': 'rain', 'cloudCover': 1, 'pressure': 1019.59, 'windSpeed': 12.12, 'visibility': 9.98, 'summary': 'Light Rain', 'ozone': 320.7, 'windBearing': 91, 'humidity': 0.75, 'dewPoint': 44, 'precipType': 'rain', 'precipProbability': 0.52, 'apparentTemperature': 51.66}, {'temperature': 52.49, 'time': 1493132400, 'precipIntensity': 0.0156, 'icon': 'rain', 'cloudCover': 1, 'pressure': 1019.32, 'windSpeed': 12.51, 'visibility': 9.99, 'summary': 'Light Rain', 'ozone': 321.78, 'windBearing': 93, 'humidity': 0.77, 'dewPoint': 45.4, 'precipType': 'rain', 'precipProbability': 0.57, 'apparentTemperature': 52.49}, {'temperature': 54.29, 'time': 1493136000, 'precipIntensity': 0.0175, 'icon': 'rain', 'cloudCover': 1, 'pressure': 1018.87, 'windSpeed': 12.93, 'visibility': 9.99, 'summary': 'Light Rain', 'ozone': 321.95, 'windBearing': 95, 'humidity': 0.76, 'dewPoint': 46.83, 'precipType': 'rain', 'precipProbability': 0.59, 'apparentTemperature': 54.29}, {'temperature': 56.15, 'time': 1493139600, 'precipIntensity': 0.0164, 'icon': 'rain', 'cloudCover': 1, 'pressure': 1018.3, 'windSpeed': 13.14, 'visibility': 10, 'summary': 'Light Rain', 'ozone': 321.61, 'windBearing': 96, 'humidity': 0.77, 'dewPoint': 48.93, 'precipType': 'rain', 'precipProbability': 0.58, 'apparentTemperature': 56.15}, {'temperature': 57.85, 'time': 1493143200, 'precipIntensity': 0.014, 'icon': 'rain', 'cloudCover': 1, 'pressure': 1017.69, 'windSpeed': 13.22, 'visibility': 10, 'summary': 'Light Rain', 'ozone': 321.15, 'windBearing': 96, 'humidity': 0.77, 'dewPoint': 50.63, 'precipType': 'rain', 'precipProbability': 0.56, 'apparentTemperature': 57.85}, {'temperature': 58.6, 'time': 1493146800, 'precipIntensity': 0.0114, 'icon': 'rain', 'cloudCover': 1, 'pressure': 1017.01, 'windSpeed': 13.34, 'visibility': 10, 'summary': 'Light Rain', 'ozone': 320.49, 'windBearing': 93, 'humidity': 0.78, 'dewPoint': 51.67, 'precipType': 'rain', 'precipProbability': 0.52, 'apparentTemperature': 58.6}, {'temperature': 57.94, 'time': 1493150400, 'precipIntensity': 0.0076, 'icon': 'rain', 'cloudCover': 1, 'pressure': 1016.27, 'windSpeed': 13.23, 'visibility': 10, 'summary': 'Drizzle', 'ozone': 319.71, 'windBearing': 88, 'humidity': 0.79, 'dewPoint': 51.36, 'precipType': 'rain', 'precipProbability': 0.38, 'apparentTemperature': 57.94}, {'temperature': 56.96, 'time': 1493154000, 'precipIntensity': 0.0057, 'icon': 'rain', 'cloudCover': 1, 'pressure': 1015.65, 'windSpeed': 13.05, 'visibility': 10, 'summary': 'Drizzle', 'ozone': 319.37, 'windBearing': 84, 'humidity': 0.8, 'dewPoint': 50.82, 'precipType': 'rain', 'precipProbability': 0.25, 'apparentTemperature': 56.96}, {'temperature': 55.41, 'time': 1493157600, 'precipIntensity': 0.0065, 'icon': 'rain', 'cloudCover': 1, 'pressure': 1015.29, 'windSpeed': 12.54, 'visibility': 10, 'summary': 'Drizzle', 'ozone': 319.94, 'windBearing': 84, 'humidity': 0.83, 'dewPoint': 50.2, 'precipType': 'rain', 'precipProbability': 0.31, 'apparentTemperature': 55.41}, {'temperature': 54.3, 'time': 1493161200, 'precipIntensity': 0.0092, 'icon': 'rain', 'cloudCover': 1, 'pressure': 1015.11, 'windSpeed': 11.88, 'visibility': 10, 'summary': 'Light Rain', 'ozone': 320.95, 'windBearing': 85, 'humidity': 0.85, 'dewPoint': 50.04, 'precipType': 'rain', 'precipProbability': 0.49, 'apparentTemperature': 54.3}, {'temperature': 52.97, 'time': 1493164800, 'precipIntensity': 0.0139, 'icon': 'rain', 'cloudCover': 1, 'pressure': 1014.93, 'windSpeed': 11.54, 'visibility': 10, 'summary': 'Light Rain', 'ozone': 321.65, 'windBearing': 86, 'humidity': 0.88, 'dewPoint': 49.64, 'precipType': 'rain', 'precipProbability': 0.55, 'apparentTemperature': 52.97}, {'temperature': 52.83, 'time': 1493168400, 'precipIntensity': 0.0236, 'icon': 'rain', 'cloudCover': 1, 'pressure': 1014.73, 'windSpeed': 11.85, 'visibility': 10, 'summary': 'Light Rain', 'ozone': 321.78, 'windBearing': 85, 'humidity': 0.9, 'dewPoint': 50.07, 'precipType': 'rain', 'precipProbability': 0.63, 'apparentTemperature': 52.83}, {'temperature': 53.14, 'time': 1493172000, 'precipIntensity': 0.035, 'icon': 'rain', 'cloudCover': 0.99, 'pressure': 1014.48, 'windSpeed': 12.23, 'visibility': 10, 'summary': 'Light Rain', 'ozone': 321.6, 'windBearing': 83, 'humidity': 0.91, 'dewPoint': 50.71, 'precipType': 'rain', 'precipProbability': 0.68, 'apparentTemperature': 53.14}, {'temperature': 52.91, 'time': 1493175600, 'precipIntensity': 0.0395, 'icon': 'rain', 'cloudCover': 0.98, 'pressure': 1014.12, 'windSpeed': 12.21, 'visibility': 10, 'summary': 'Light Rain', 'ozone': 321.11, 'windBearing': 83, 'humidity': 0.92, 'dewPoint': 50.78, 'precipType': 'rain', 'precipProbability': 0.7, 'apparentTemperature': 52.91}, {'temperature': 52.31, 'time': 1493179200, 'precipIntensity': 0.0304, 'icon': 'rain', 'cloudCover': 0.95, 'pressure': 1013.54, 'windSpeed': 11.4, 'visibility': 10, 'summary': 'Light Rain', 'ozone': 320.25, 'windBearing': 82, 'humidity': 0.93, 'dewPoint': 50.24, 'precipType': 'rain', 'precipProbability': 0.66, 'apparentTemperature': 52.31}, {'temperature': 51.33, 'time': 1493182800, 'precipIntensity': 0.0144, 'icon': 'rain', 'cloudCover': 0.91, 'pressure': 1012.87, 'windSpeed': 9.11, 'visibility': 10, 'summary': 'Light Rain', 'ozone': 319.08, 'windBearing': 80, 'humidity': 0.93, 'dewPoint': 49.27, 'precipType': 'rain', 'precipProbability': 0.56, 'apparentTemperature': 51.33}, {'temperature': 50.31, 'time': 1493186400, 'precipIntensity': 0.0023, 'icon': 'partly-cloudy-night', 'cloudCover': 0.87, 'pressure': 1012.31, 'windSpeed': 7.12, 'visibility': 10, 'summary': 'Mostly Cloudy', 'ozone': 317.76, 'windBearing': 81, 'humidity': 0.93, 'dewPoint': 48.26, 'precipType': 'rain', 'precipProbability': 0.06, 'apparentTemperature': 50.31}, {'temperature': 49.91, 'time': 1493190000, 'precipIntensity': 0, 'icon': 'partly-cloudy-night', 'cloudCover': 0.83, 'pressure': 1011.88, 'windSpeed': 6.39, 'visibility': 10, 'summary': 'Mostly Cloudy', 'ozone': 316.2, 'windBearing': 85, 'dewPoint': 47.94, 'humidity': 0.93, 'precipProbability': 0, 'apparentTemperature': 47.36}, {'temperature': 50.07, 'time': 1493193600, 'precipIntensity': 0, 'icon': 'partly-cloudy-night', 'cloudCover': 0.79, 'pressure': 1011.53, 'windSpeed': 6.18, 'visibility': 10, 'summary': 'Mostly Cloudy', 'ozone': 314.49, 'windBearing': 87, 'dewPoint': 48.22, 'humidity': 0.93, 'precipProbability': 0, 'apparentTemperature': 50.07}, {'temperature': 50.37, 'time': 1493197200, 'precipIntensity': 0.0008, 'icon': 'partly-cloudy-night', 'cloudCover': 0.75, 'pressure': 1011.28, 'windSpeed': 6.02, 'visibility': 10, 'summary': 'Mostly Cloudy', 'ozone': 313.03, 'windBearing': 88, 'humidity': 0.93, 'dewPoint': 48.54, 'precipType': 'rain', 'precipProbability': 0.01, 'apparentTemperature': 50.37}, {'temperature': 50.83, 'time': 1493200800, 'precipIntensity': 0, 'icon': 'partly-cloudy-night', 'cloudCover': 0.71, 'pressure': 1011.18, 'windSpeed': 5.67, 'visibility': 10, 'summary': 'Mostly Cloudy', 'ozone': 312.07, 'windBearing': 89, 'dewPoint': 48.96, 'humidity': 0.93, 'precipProbability': 0, 'apparentTemperature': 50.83}, {'temperature': 51.65, 'time': 1493204400, 'precipIntensity': 0, 'icon': 'partly-cloudy-day', 'cloudCover': 0.67, 'pressure': 1011.25, 'windSpeed': 5.83, 'visibility': 10, 'summary': 'Mostly Cloudy', 'ozone': 311.37, 'windBearing': 89, 'dewPoint': 49.63, 'humidity': 0.93, 'precipProbability': 0, 'apparentTemperature': 51.65}, {'temperature': 53.28, 'time': 1493208000, 'precipIntensity': 0, 'icon': 'partly-cloudy-day', 'cloudCover': 0.63, 'pressure': 1011.29, 'windSpeed': 5.85, 'visibility': 10, 'summary': 'Mostly Cloudy', 'ozone': 310.62, 'windBearing': 89, 'dewPoint': 50.88, 'humidity': 0.92, 'precipProbability': 0, 'apparentTemperature': 53.28}, {'temperature': 55.96, 'time': 1493211600, 'precipIntensity': 0, 'icon': 'partly-cloudy-day', 'cloudCover': 0.59, 'pressure': 1011.26, 'windSpeed': 5.23, 'visibility': 10, 'summary': 'Partly Cloudy', 'ozone': 309.71, 'windBearing': 90, 'dewPoint': 52.73, 'humidity': 0.89, 'precipProbability': 0, 'apparentTemperature': 55.96}, {'temperature': 59.65, 'time': 1493215200, 'precipIntensity': 0, 'icon': 'partly-cloudy-day', 'cloudCover': 0.55, 'pressure': 1011.16, 'windSpeed': 4.37, 'visibility': 10, 'summary': 'Partly Cloudy', 'ozone': 308.75, 'windBearing': 92, 'dewPoint': 55.27, 'humidity': 0.85, 'precipProbability': 0, 'apparentTemperature': 59.65}, {'temperature': 63.23, 'time': 1493218800, 'precipIntensity': 0, 'icon': 'partly-cloudy-day', 'cloudCover': 0.53, 'pressure': 1010.95, 'windSpeed': 3.72, 'visibility': 10, 'summary': 'Partly Cloudy', 'ozone': 307.73, 'windBearing': 93, 'dewPoint': 57.65, 'humidity': 0.82, 'precipProbability': 0, 'apparentTemperature': 63.23}, {'temperature': 66.46, 'time': 1493222400, 'precipIntensity': 0, 'icon': 'partly-cloudy-day', 'cloudCover': 0.49, 'pressure': 1010.6, 'windSpeed': 3.39, 'visibility': 10, 'summary': 'Partly Cloudy', 'ozone': 306.52, 'windBearing': 91, 'dewPoint': 59.7, 'humidity': 0.79, 'precipProbability': 0, 'apparentTemperature': 66.46}, {'temperature': 69.46, 'time': 1493226000, 'precipIntensity': 0, 'icon': 'partly-cloudy-day', 'cloudCover': 0.46, 'pressure': 1010.14, 'windSpeed': 3.13, 'visibility': 10, 'summary': 'Partly Cloudy', 'ozone': 305.25, 'windBearing': 86, 'dewPoint': 61.53, 'humidity': 0.76, 'precipProbability': 0, 'apparentTemperature': 69.46}, {'temperature': 71.68, 'time': 1493229600, 'precipIntensity': 0, 'icon': 'partly-cloudy-day', 'cloudCover': 0.44, 'pressure': 1009.64, 'windSpeed': 2.87, 'visibility': 10, 'summary': 'Partly Cloudy', 'ozone': 304.23, 'windBearing': 81, 'dewPoint': 62.89, 'humidity': 0.74, 'precipProbability': 0, 'apparentTemperature': 71.68}, {'temperature': 72.95, 'time': 1493233200, 'precipIntensity': 0, 'icon': 'partly-cloudy-day', 'cloudCover': 0.47, 'pressure': 1009.08, 'windSpeed': 2.65, 'visibility': 10, 'summary': 'Partly Cloudy', 'ozone': 303.61, 'windBearing': 80, 'dewPoint': 63.65, 'humidity': 0.73, 'precipProbability': 0, 'apparentTemperature': 72.95}, {'temperature': 73.25, 'time': 1493236800, 'precipIntensity': 0, 'icon': 'partly-cloudy-day', 'cloudCover': 0.52, 'pressure': 1008.51, 'windSpeed': 2.52, 'visibility': 10, 'summary': 'Partly Cloudy', 'ozone': 303.24, 'windBearing': 79, 'dewPoint': 63.8, 'humidity': 0.72, 'precipProbability': 0, 'apparentTemperature': 73.25}, {'temperature': 72.12, 'time': 1493240400, 'precipIntensity': 0, 'icon': 'partly-cloudy-day', 'cloudCover': 0.52, 'pressure': 1008.18, 'windSpeed': 2.44, 'visibility': 10, 'summary': 'Partly Cloudy', 'ozone': 303.08, 'windBearing': 80, 'dewPoint': 63.16, 'humidity': 0.73, 'precipProbability': 0, 'apparentTemperature': 72.12}, {'temperature': 69.34, 'time': 1493244000, 'precipIntensity': 0, 'icon': 'partly-cloudy-day', 'cloudCover': 0.42, 'pressure': 1008.24, 'windSpeed': 2.41, 'visibility': 10, 'summary': 'Partly Cloudy', 'ozone': 303.24, 'windBearing': 79, 'dewPoint': 61.83, 'humidity': 0.77, 'precipProbability': 0, 'apparentTemperature': 69.34}], 'icon': 'rain', 'summary': 'Light rain starting tomorrow morning.'}, 'flags': {'sources': ['lamp', 'gfs', 'cmc', 'nam', 'rap', 'rtma', 'sref', 'fnmoc', 'isd', 'madis', 'nearest-precip', 'nwspa', 'darksky'], 'units': 'us', 'madis-stations': ['AS511', 'AU822', 'C2055', 'C6839', 'C8614', 'C9173', 'D6725', 'D8028', 'E0795', 'E1986', 'E5543', 'E5907', 'E6659', 'E7565', 'GICN6', 'KSYR'], 'lamp-stations': ['KFZY', 'KRME', 'KSYR'], 'isd-stations': ['718200-99999', '725146-54773', '725146-99999', '725155-94761', '725155-99999', '725190-14771', '725194-54778', '725194-99999', '725195-99999', '725196-14717', '725196-64775', '725197-94794', '997264-99999', '999999-14771', '999999-64758', '999999-94781']}, 'currently': {'temperature': 67.54, 'time': 1493071914, 'precipIntensity': 0, 'icon': 'partly-cloudy-day', 'cloudCover': 0.45, 'pressure': 1018.48, 'nearestStormDistance': 90, 'windSpeed': 5.32, 'visibility': 10, 'summary': 'Partly Cloudy', 'ozone': 327.06, 'windBearing': 20, 'dewPoint': 43.15, 'humidity': 0.41, 'precipProbability': 0, 'apparentTemperature': 67.54, 'nearestStormBearing': 176}}\n"
     ]
    },
    {
     "data": {
      "text/plain": [
       "'\\nday = weather_data [\\'daily\\'][\\'data\\'][0]\\nsumm = day[\\'summary\\']\\nmax_temp = day[\\'temperatureMax\\']\\nmin_temp = day[\\'temperatureMin\\']\\n\\nprint(\"The weather was %s with a  high temp was %.0f degrees and a low temp of %.0f\" % (summ, max_temp, min_temp))\\n'"
      ]
     },
     "execution_count": 20,
     "metadata": {},
     "output_type": "execute_result"
    }
   ],
   "source": [
    "import json\n",
    "import requests\n",
    "\n",
    "api_key = \"put your key here\"\n",
    "lat = 43.0481221\n",
    "lng = -76.1474244\n",
    "weather_url = 'https://api.darksky.net/forecast/%s/%f,%f' % (api_key, lat, lng)\n",
    "response = requests.get(weather_url)\n",
    "\n",
    "if( response.ok ):\n",
    "    weather_data = response.json()\n",
    "\n",
    "print(weather_data)\n",
    "\n",
    "#print(weather_data.keys())\n",
    "\n",
    "#print(weather_data['currently'])\n",
    "\n",
    "\"\"\"\n",
    "day = weather_data ['daily']['data'][0]\n",
    "summ = day['summary']\n",
    "max_temp = day['temperatureMax']\n",
    "min_temp = day['temperatureMin']\n",
    "\n",
    "print(\"The weather was %s with a  high temp was %.0f degrees and a low temp of %.0f\" % (summ, max_temp, min_temp))\n",
    "\"\"\""
   ]
  },
  {
   "cell_type": "code",
   "execution_count": 21,
   "metadata": {
    "collapsed": false
   },
   "outputs": [
    {
     "name": "stdout",
     "output_type": "stream",
     "text": [
      "dict_keys(['minutely', 'timezone', 'latitude', 'offset', 'daily', 'longitude', 'hourly', 'flags', 'currently'])\n"
     ]
    }
   ],
   "source": [
    "print( weather_data.keys() )"
   ]
  },
  {
   "cell_type": "code",
   "execution_count": 28,
   "metadata": {
    "collapsed": false,
    "scrolled": true
   },
   "outputs": [
    {
     "name": "stdout",
     "output_type": "stream",
     "text": [
      "[{'apparentTemperatureMin': 38.87, 'precipProbability': 0, 'cloudCover': 0.2, 'pressure': 1019.71, 'apparentTemperatureMax': 70.49, 'humidity': 0.63, 'apparentTemperatureMaxTime': 1493064000, 'windBearing': 22, 'summary': 'Partly cloudy starting in the evening.', 'precipIntensityMax': 0, 'temperatureMaxTime': 1493064000, 'time': 1493006400, 'precipIntensity': 0, 'icon': 'partly-cloudy-night', 'sunriseTime': 1493028553, 'windSpeed': 2.38, 'visibility': 9.77, 'temperatureMinTime': 1493024400, 'ozone': 334.47, 'temperatureMax': 70.49, 'temperatureMin': 38.87, 'dewPoint': 41.03, 'sunsetTime': 1493078303, 'moonPhase': 0.93, 'apparentTemperatureMinTime': 1493024400}, {'precipProbability': 0.7, 'cloudCover': 0.95, 'pressure': 1017.9, 'apparentTemperatureMax': 58.6, 'apparentTemperatureMaxTime': 1493146800, 'temperatureMaxTime': 1493146800, 'precipType': 'rain', 'summary': 'Light rain throughout the day.', 'precipIntensityMax': 0.0395, 'apparentTemperatureMin': 44.36, 'time': 1493092800, 'precipIntensity': 0.0109, 'icon': 'rain', 'sunriseTime': 1493114863, 'windBearing': 88, 'sunsetTime': 1493164773, 'precipIntensityMaxTime': 1493175600, 'temperatureMinTime': 1493118000, 'ozone': 320.24, 'temperatureMax': 58.6, 'windSpeed': 10.66, 'temperatureMin': 48.4, 'dewPoint': 45.96, 'humidity': 0.79, 'moonPhase': 0.97, 'apparentTemperatureMinTime': 1493118000, 'visibility': 9.83}, {'precipProbability': 0.66, 'cloudCover': 0.53, 'pressure': 1010.45, 'apparentTemperatureMax': 73.25, 'apparentTemperatureMaxTime': 1493236800, 'temperatureMaxTime': 1493236800, 'precipType': 'rain', 'summary': 'Partly cloudy until evening.', 'precipIntensityMax': 0.0304, 'apparentTemperatureMin': 47.36, 'time': 1493179200, 'precipIntensity': 0.0021, 'icon': 'partly-cloudy-day', 'sunriseTime': 1493201175, 'windBearing': 90, 'sunsetTime': 1493251243, 'precipIntensityMaxTime': 1493179200, 'temperatureMinTime': 1493190000, 'ozone': 308.64, 'temperatureMax': 73.25, 'windSpeed': 4.62, 'temperatureMin': 49.91, 'dewPoint': 55.48, 'humidity': 0.86, 'moonPhase': 0.01, 'apparentTemperatureMinTime': 1493190000, 'visibility': 10}, {'apparentTemperatureMin': 55.98, 'precipProbability': 0, 'cloudCover': 0.26, 'pressure': 1009.6, 'apparentTemperatureMax': 85.66, 'humidity': 0.79, 'apparentTemperatureMaxTime': 1493319600, 'windBearing': 141, 'summary': 'Partly cloudy until afternoon.', 'precipIntensityMax': 0, 'temperatureMaxTime': 1493319600, 'time': 1493265600, 'precipIntensity': 0, 'icon': 'partly-cloudy-day', 'sunriseTime': 1493287487, 'windSpeed': 8.2, 'visibility': 10, 'temperatureMinTime': 1493276400, 'ozone': 301.5, 'temperatureMax': 82.87, 'temperatureMin': 55.98, 'dewPoint': 61.02, 'sunsetTime': 1493337713, 'moonPhase': 0.05, 'apparentTemperatureMinTime': 1493276400}, {'precipProbability': 0.71, 'cloudCover': 0.44, 'pressure': 1013.29, 'apparentTemperatureMax': 68.5, 'apparentTemperatureMaxTime': 1493413200, 'temperatureMaxTime': 1493413200, 'precipType': 'rain', 'summary': 'Light rain until afternoon.', 'precipIntensityMax': 0.0458, 'apparentTemperatureMin': 50.08, 'time': 1493352000, 'precipIntensity': 0.0161, 'icon': 'rain', 'sunriseTime': 1493373801, 'windBearing': 243, 'sunsetTime': 1493424183, 'precipIntensityMaxTime': 1493384400, 'temperatureMinTime': 1493434800, 'ozone': 322.5, 'temperatureMax': 68.5, 'windSpeed': 3.24, 'temperatureMin': 50.08, 'dewPoint': 59.6, 'humidity': 0.86, 'moonPhase': 0.08, 'apparentTemperatureMinTime': 1493434800}, {'precipProbability': 0.53, 'cloudCover': 0.7, 'pressure': 1016.98, 'apparentTemperatureMax': 73.86, 'apparentTemperatureMaxTime': 1493485200, 'temperatureMaxTime': 1493485200, 'precipType': 'rain', 'summary': 'Light rain starting in the afternoon.', 'precipIntensityMax': 0.012, 'apparentTemperatureMin': 49.69, 'time': 1493438400, 'precipIntensity': 0.006, 'icon': 'rain', 'sunriseTime': 1493460116, 'windBearing': 234, 'sunsetTime': 1493510653, 'precipIntensityMaxTime': 1493492400, 'temperatureMinTime': 1493445600, 'ozone': 309.35, 'temperatureMax': 73.86, 'windSpeed': 3.76, 'temperatureMin': 49.69, 'dewPoint': 55.59, 'humidity': 0.85, 'moonPhase': 0.12, 'apparentTemperatureMinTime': 1493445600}, {'precipProbability': 0.71, 'cloudCover': 0.95, 'pressure': 1015.03, 'apparentTemperatureMax': 66.75, 'apparentTemperatureMaxTime': 1493586000, 'temperatureMaxTime': 1493586000, 'precipType': 'rain', 'summary': 'Light rain throughout the day.', 'precipIntensityMax': 0.046, 'apparentTemperatureMin': 50.4, 'time': 1493524800, 'precipIntensity': 0.0196, 'icon': 'rain', 'sunriseTime': 1493546432, 'windBearing': 97, 'sunsetTime': 1493597123, 'precipIntensityMaxTime': 1493607600, 'temperatureMinTime': 1493535600, 'ozone': 292.56, 'temperatureMax': 66.75, 'windSpeed': 2.78, 'temperatureMin': 50.4, 'dewPoint': 55.63, 'humidity': 0.93, 'moonPhase': 0.16, 'apparentTemperatureMinTime': 1493535600}, {'precipProbability': 0.73, 'cloudCover': 0.89, 'pressure': 1006.91, 'apparentTemperatureMax': 72.99, 'apparentTemperatureMaxTime': 1493658000, 'temperatureMaxTime': 1493658000, 'precipType': 'rain', 'summary': 'Light rain throughout the day.', 'precipIntensityMax': 0.0525, 'apparentTemperatureMin': 61.43, 'time': 1493611200, 'precipIntensity': 0.0189, 'icon': 'rain', 'sunriseTime': 1493632750, 'windBearing': 186, 'sunsetTime': 1493683593, 'precipIntensityMaxTime': 1493694000, 'temperatureMinTime': 1493629200, 'ozone': 297.54, 'temperatureMax': 72.99, 'windSpeed': 9.64, 'temperatureMin': 61.43, 'dewPoint': 62.33, 'humidity': 0.85, 'moonPhase': 0.19, 'apparentTemperatureMinTime': 1493629200}]\n",
      "8\n"
     ]
    }
   ],
   "source": [
    "print( weather_data['daily']['data'] )\n",
    "\n",
    "print( len( weather_data['daily']['data'] ))"
   ]
  },
  {
   "cell_type": "code",
   "execution_count": 30,
   "metadata": {
    "collapsed": false
   },
   "outputs": [
    {
     "data": {
      "text/plain": [
       "dict"
      ]
     },
     "execution_count": 30,
     "metadata": {},
     "output_type": "execute_result"
    }
   ],
   "source": [
    "type( weather_data['daily']['data'][0] )"
   ]
  },
  {
   "cell_type": "code",
   "execution_count": 31,
   "metadata": {
    "collapsed": false
   },
   "outputs": [
    {
     "name": "stdout",
     "output_type": "stream",
     "text": [
      "dict_keys(['apparentTemperatureMin', 'precipProbability', 'cloudCover', 'pressure', 'apparentTemperatureMax', 'humidity', 'apparentTemperatureMaxTime', 'windBearing', 'summary', 'precipIntensityMax', 'temperatureMaxTime', 'time', 'precipIntensity', 'icon', 'sunriseTime', 'windSpeed', 'visibility', 'temperatureMinTime', 'ozone', 'temperatureMax', 'temperatureMin', 'dewPoint', 'sunsetTime', 'moonPhase', 'apparentTemperatureMinTime'])\n"
     ]
    }
   ],
   "source": [
    "print(  weather_data['daily']['data'][0].keys() )"
   ]
  },
  {
   "cell_type": "code",
   "execution_count": null,
   "metadata": {
    "collapsed": false
   },
   "outputs": [],
   "source": [
    "for key in weather_data['hourly'].keys():\n",
    "    print( key )\n",
    "    print( weather_data['hourly'][ key ] )\n",
    "    print()\n",
    "    print()\n",
    "    "
   ]
  },
  {
   "cell_type": "code",
   "execution_count": null,
   "metadata": {
    "collapsed": false,
    "scrolled": false
   },
   "outputs": [],
   "source": [
    "weather_data['hourly']['data']"
   ]
  },
  {
   "cell_type": "code",
   "execution_count": null,
   "metadata": {
    "collapsed": true
   },
   "outputs": [],
   "source": []
  },
  {
   "cell_type": "code",
   "execution_count": null,
   "metadata": {
    "collapsed": true
   },
   "outputs": [],
   "source": []
  },
  {
   "cell_type": "code",
   "execution_count": null,
   "metadata": {
    "collapsed": true
   },
   "outputs": [],
   "source": []
  },
  {
   "cell_type": "code",
   "execution_count": null,
   "metadata": {
    "collapsed": true
   },
   "outputs": [],
   "source": []
  },
  {
   "cell_type": "code",
   "execution_count": 32,
   "metadata": {
    "collapsed": false
   },
   "outputs": [
    {
     "data": {
      "text/html": [
       "<div>\n",
       "<table border=\"1\" class=\"dataframe\">\n",
       "  <thead>\n",
       "    <tr style=\"text-align: right;\">\n",
       "      <th></th>\n",
       "      <th>alpha</th>\n",
       "      <th>ascii</th>\n",
       "    </tr>\n",
       "  </thead>\n",
       "  <tbody>\n",
       "    <tr>\n",
       "      <th>0</th>\n",
       "      <td>a</td>\n",
       "      <td>97</td>\n",
       "    </tr>\n",
       "    <tr>\n",
       "      <th>1</th>\n",
       "      <td>b</td>\n",
       "      <td>98</td>\n",
       "    </tr>\n",
       "    <tr>\n",
       "      <th>2</th>\n",
       "      <td>c</td>\n",
       "      <td>99</td>\n",
       "    </tr>\n",
       "  </tbody>\n",
       "</table>\n",
       "</div>"
      ],
      "text/plain": [
       "  alpha  ascii\n",
       "0     a     97\n",
       "1     b     98\n",
       "2     c     99"
      ]
     },
     "execution_count": 32,
     "metadata": {},
     "output_type": "execute_result"
    }
   ],
   "source": [
    "import pandas as pd\n",
    "\n",
    "# collection of numpy arrays\n",
    "name = pd.Series( [\"a\", \"b\", \"c\"], name=\"Alpha\" )\n",
    "index = pd.Series( [97,98,99], name=\"Index\" )\n",
    "\n",
    "# DataFrame is a collection of PD Series\n",
    "alphaDF = pd.DataFrame({ \"alpha\" : name, \"ascii\": index })\n",
    "\n",
    "alphaDF"
   ]
  },
  {
   "cell_type": "code",
   "execution_count": 34,
   "metadata": {
    "collapsed": false
   },
   "outputs": [
    {
     "data": {
      "text/html": [
       "<div>\n",
       "<table border=\"1\" class=\"dataframe\">\n",
       "  <thead>\n",
       "    <tr style=\"text-align: right;\">\n",
       "      <th></th>\n",
       "      <th>alpha</th>\n",
       "      <th>ascii</th>\n",
       "    </tr>\n",
       "  </thead>\n",
       "  <tbody>\n",
       "    <tr>\n",
       "      <th>0</th>\n",
       "      <td>a</td>\n",
       "      <td>97</td>\n",
       "    </tr>\n",
       "    <tr>\n",
       "      <th>1</th>\n",
       "      <td>b</td>\n",
       "      <td>98</td>\n",
       "    </tr>\n",
       "    <tr>\n",
       "      <th>2</th>\n",
       "      <td>c</td>\n",
       "      <td>99</td>\n",
       "    </tr>\n",
       "  </tbody>\n",
       "</table>\n",
       "</div>"
      ],
      "text/plain": [
       "  alpha  ascii\n",
       "0     a     97\n",
       "1     b     98\n",
       "2     c     99"
      ]
     },
     "execution_count": 34,
     "metadata": {},
     "output_type": "execute_result"
    }
   ],
   "source": [
    "# alternate way to create DataFrame\n",
    "alphaDF = pd.DataFrame( \n",
    "                        [\n",
    "                             {\"alpha\" : \"a\", \"ascii\": 97}, \n",
    "                             {\"alpha\" : \"b\", \"ascii\": 98},\n",
    "                             {\"alpha\" : \"c\", \"ascii\": 99}\n",
    "                        ]\n",
    "                      )\n",
    "alphaDF\n"
   ]
  },
  {
   "cell_type": "code",
   "execution_count": 37,
   "metadata": {
    "collapsed": false
   },
   "outputs": [
    {
     "data": {
      "text/html": [
       "<div>\n",
       "<table border=\"1\" class=\"dataframe\">\n",
       "  <thead>\n",
       "    <tr style=\"text-align: right;\">\n",
       "      <th></th>\n",
       "      <th>time</th>\n",
       "      <th>temperatureMin</th>\n",
       "      <th>temperatureMax</th>\n",
       "    </tr>\n",
       "  </thead>\n",
       "  <tbody>\n",
       "    <tr>\n",
       "      <th>0</th>\n",
       "      <td>2017-04-24 04:00:00</td>\n",
       "      <td>38.86</td>\n",
       "      <td>70.50</td>\n",
       "    </tr>\n",
       "    <tr>\n",
       "      <th>1</th>\n",
       "      <td>2017-04-25 04:00:00</td>\n",
       "      <td>48.40</td>\n",
       "      <td>58.20</td>\n",
       "    </tr>\n",
       "    <tr>\n",
       "      <th>2</th>\n",
       "      <td>2017-04-26 04:00:00</td>\n",
       "      <td>49.91</td>\n",
       "      <td>73.30</td>\n",
       "    </tr>\n",
       "    <tr>\n",
       "      <th>3</th>\n",
       "      <td>2017-04-27 04:00:00</td>\n",
       "      <td>55.98</td>\n",
       "      <td>82.87</td>\n",
       "    </tr>\n",
       "    <tr>\n",
       "      <th>4</th>\n",
       "      <td>2017-04-28 04:00:00</td>\n",
       "      <td>50.13</td>\n",
       "      <td>68.60</td>\n",
       "    </tr>\n",
       "    <tr>\n",
       "      <th>5</th>\n",
       "      <td>2017-04-29 04:00:00</td>\n",
       "      <td>49.69</td>\n",
       "      <td>73.91</td>\n",
       "    </tr>\n",
       "    <tr>\n",
       "      <th>6</th>\n",
       "      <td>2017-04-30 04:00:00</td>\n",
       "      <td>50.40</td>\n",
       "      <td>66.85</td>\n",
       "    </tr>\n",
       "    <tr>\n",
       "      <th>7</th>\n",
       "      <td>2017-05-01 04:00:00</td>\n",
       "      <td>61.41</td>\n",
       "      <td>73.04</td>\n",
       "    </tr>\n",
       "  </tbody>\n",
       "</table>\n",
       "</div>"
      ],
      "text/plain": [
       "                 time  temperatureMin  temperatureMax\n",
       "0 2017-04-24 04:00:00           38.86           70.50\n",
       "1 2017-04-25 04:00:00           48.40           58.20\n",
       "2 2017-04-26 04:00:00           49.91           73.30\n",
       "3 2017-04-27 04:00:00           55.98           82.87\n",
       "4 2017-04-28 04:00:00           50.13           68.60\n",
       "5 2017-04-29 04:00:00           49.69           73.91\n",
       "6 2017-04-30 04:00:00           50.40           66.85\n",
       "7 2017-05-01 04:00:00           61.41           73.04"
      ]
     },
     "execution_count": 37,
     "metadata": {},
     "output_type": "execute_result"
    }
   ],
   "source": [
    "import pandas as pd\n",
    "import numpy as np\n",
    "import requests\n",
    "\n",
    "api_key = \"put your key here\"\n",
    "lat = 43.0481221\n",
    "lng = -76.1474244\n",
    "weather_url = 'https://api.darksky.net/forecast/%s/%f,%f' % (api_key, lat, lng)\n",
    "\n",
    "response = requests.get(weather_url)\n",
    "data = response.json()\n",
    "forecast = data['daily']['data']\n",
    "\n",
    "# the power and simplicity of Python shows in the line below\n",
    "weather = pd.DataFrame(forecast)\n",
    "\n",
    "weather['time'] = pd.to_datetime( weather['time'], unit='s')\n",
    "weather[ ['time','temperatureMin', 'temperatureMax'] ]"
   ]
  }
 ],
 "metadata": {
  "anaconda-cloud": {},
  "kernelspec": {
   "display_name": "Python [default]",
   "language": "python",
   "name": "python3"
  },
  "language_info": {
   "codemirror_mode": {
    "name": "ipython",
    "version": 3
   },
   "file_extension": ".py",
   "mimetype": "text/x-python",
   "name": "python",
   "nbconvert_exporter": "python",
   "pygments_lexer": "ipython3",
   "version": "3.5.2"
  }
 },
 "nbformat": 4,
 "nbformat_minor": 2
}
