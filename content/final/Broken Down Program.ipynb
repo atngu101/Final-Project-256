{
 "cells": [
  {
   "cell_type": "markdown",
   "metadata": {},
   "source": [
    "# Methods Notebook"
   ]
  },
  {
   "cell_type": "code",
   "execution_count": 2,
   "metadata": {
    "collapsed": false
   },
   "outputs": [
    {
     "name": "stdout",
     "output_type": "stream",
     "text": [
      "Enter Credentialscool\n"
     ]
    },
    {
     "data": {
      "text/plain": [
       "dict_keys(['genres', 'images', 'followers', 'href', 'uri', 'id', 'type', 'popularity', 'name', 'external_urls'])"
      ]
     },
     "execution_count": 2,
     "metadata": {},
     "output_type": "execute_result"
    }
   ],
   "source": [
    "def spotify_artist(): \n",
    "    spotify_artist = spotipy.Spotify()\n",
    "    page= spotify_artist.search(q='artist:' + name, type='artist') # q stands for search query and type identifies whether it is an artist, track, or album\n",
    "    return page\n",
    "\n",
    "import spotipy\n",
    "name =str(input('Enter Credentials'))\n",
    "def spotify_artist(): \n",
    "    spotify_artist = spotipy.Spotify()\n",
    "    results= spotify_artist.search(q='artist:' + name, type='artist')\n",
    "    return results\n",
    "x = spotify_artist()\n",
    "x['artists']['items'][0].keys()"
   ]
  },
  {
   "cell_type": "code",
   "execution_count": 4,
   "metadata": {
    "collapsed": false
   },
   "outputs": [
    {
     "data": {
      "text/html": [
       "<img src=\"http://pixel.nymag.com/imgs/daily/vulture/2015/06/26/26-spotify.w1200.h630.jpg\" width=\"559\" height=\"168\"/>"
      ],
      "text/plain": [
       "<IPython.core.display.Image object>"
      ]
     },
     "metadata": {},
     "output_type": "display_data"
    },
    {
     "data": {
      "text/html": [
       "<img src=\"https://www.3scale.net/wp-content/uploads/2016/01/musicgraph.png\" width=\"559\" height=\"168\"/>"
      ],
      "text/plain": [
       "<IPython.core.display.Image object>"
      ]
     },
     "metadata": {},
     "output_type": "display_data"
    }
   ],
   "source": [
    "from IPython.display import Image # allows for all picture types to be displayed\n",
    "from IPython.display import display # allows for more than one picture and display to be shown in a single cell\n",
    "x = Image(url= \"http://pixel.nymag.com/imgs/daily/vulture/2015/06/26/26-spotify.w1200.h630.jpg\", width=559, height=168)\n",
    "y = Image(url= \"https://www.3scale.net/wp-content/uploads/2016/01/musicgraph.png\", width=559, height=168)\n",
    "display(x, y)"
   ]
  },
  {
   "cell_type": "code",
   "execution_count": null,
   "metadata": {
    "collapsed": true
   },
   "outputs": [],
   "source": []
  }
 ],
 "metadata": {
  "anaconda-cloud": {},
  "kernelspec": {
   "display_name": "Python [default]",
   "language": "python",
   "name": "python3"
  },
  "language_info": {
   "codemirror_mode": {
    "name": "ipython",
    "version": 3
   },
   "file_extension": ".py",
   "mimetype": "text/x-python",
   "name": "python",
   "nbconvert_exporter": "python",
   "pygments_lexer": "ipython3",
   "version": "3.5.2"
  }
 },
 "nbformat": 4,
 "nbformat_minor": 2
}
