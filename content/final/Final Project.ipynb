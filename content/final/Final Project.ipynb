{
 "cells": [
  {
   "cell_type": "markdown",
   "metadata": {
    "collapsed": true
   },
   "source": [
    "# Artist Discovery Powered by MusicGraph and Spotify API\n",
    "\n",
    "Summary:\n",
    "\n",
    "The purpose of our application is to allow the user to explore potential artist. This application will be using an api with music based information. Before getting this application to work in your notebook, you must run \"easy_install spotipy\" in the Anaconda Prompt or run \"pip install spotipy\" (Without Quotation Marks).\n",
    "\n",
    "Modules:\n",
    "\n",
    "We started with the interactive shell or module known as IPython. IPython allowed for Jupyter notebook to provide a GUI (Grpahics User Interface) as well as support multiple file formats such as mp3 files. \n",
    "\n",
    "Process:\n",
    "\n",
    "1.) Process begins with User choosing a genre if they can't think of artist of the top of their head.\n",
    "\n",
    "2.) Then moves to the process of choosing an (Artist or genre).\n",
    "\n",
    "3.) Then the user will be asked to continue to learn more about the artist\n",
    "\n",
    "4.) Then the user chooses a an album or song and a sample will be played.\n",
    "\n",
    "5.) Then the user will be asked whether or not they would like to see more artist with a similar type of music.\n",
    "\n",
    "Concepts used from class:\n",
    "1.) Web APIs\n",
    "\n",
    "2.) Conditionals\n",
    "\n",
    "3.) Iterations\n",
    "\n",
    "4.) List\n",
    "\n",
    "5.) Dictionary\n",
    "\n",
    "6.) Web Scrape with IPython\n",
    "\n",
    "References:\n",
    "\n",
    "https://developer.spotify.com/web-api/object-model/\n",
    "\n",
    "https://github.com/plamere/spotipy\n",
    "\n",
    "https://developer.musicgraph.com/\n",
    "\n"
   ]
  },
  {
   "cell_type": "code",
   "execution_count": 3,
   "metadata": {
    "collapsed": false
   },
   "outputs": [
    {
     "name": "stdout",
     "output_type": "stream",
     "text": [
      "Welcome to the Music Artist Discovery Page!\n",
      "To start, enter a genre of music to help explore your inner passion, or type quit to skip this part: rock\n",
      "John Mayer\n",
      "Bring Me the Horizon\n",
      "OneRepublic\n",
      "Queen\n",
      "Jack Johnson\n",
      "\n",
      "Now, enter that Artist you would like to learn about (or type \"quit\" to stop): High rule\n",
      "Artist/Band Name: High Rule\n",
      "Number of Followers on Spotify: 1752\n",
      "Here is what this artist looks like: https://i.scdn.co/image/19857278b6b42dfbb96450aed04a8489d7b2dbfc\n"
     ]
    },
    {
     "data": {
      "text/html": [
       "<img src=\"https://i.scdn.co/image/19857278b6b42dfbb96450aed04a8489d7b2dbfc\" width=\"559\" height=\"168\"/>"
      ],
      "text/plain": [
       "<IPython.core.display.Image object>"
      ]
     },
     "metadata": {},
     "output_type": "display_data"
    },
    {
     "name": "stdout",
     "output_type": "stream",
     "text": [
      "This artists' genre of music are:\n",
      "\n",
      "Do you want to learn more about the top albums or singles(Type A for albums, S for singles, or Q to quit)? A\n",
      "Here are some this Artists' Albums: \n",
      "In Real Life\n",
      "\n",
      "Do you want to learn more about the top albums or singles(Type A for albums, S for singles, or Q to quit)? S\n",
      "Here are some of this artists' most popular singles: \n",
      "Track:  Control\n",
      "Cover Art:  https://i.scdn.co/image/547b9bb97a941e26d082699238762b471d2e34b7\n",
      "Single Sample:  https://p.scdn.co/mp3-preview/3137d60f4ae3ec569f4a3ffe3d207c740c9720a1?cid=null\n"
     ]
    },
    {
     "data": {
      "text/html": [
       "\n",
       "                <audio controls=\"controls\" >\n",
       "                    <source src=\"https://p.scdn.co/mp3-preview/3137d60f4ae3ec569f4a3ffe3d207c740c9720a1?cid=null\" type=\"None\" />\n",
       "                    Your browser does not support the audio element.\n",
       "                </audio>\n",
       "              "
      ],
      "text/plain": [
       "<IPython.lib.display.Audio object>"
      ]
     },
     "metadata": {},
     "output_type": "display_data"
    },
    {
     "name": "stdout",
     "output_type": "stream",
     "text": [
      "None\n",
      "\n",
      "Track:  Fomo\n",
      "Cover Art:  https://i.scdn.co/image/f92bf17dbe6151cd2110a8d4160a2bb7b4a9bc94\n",
      "Single Sample:  https://p.scdn.co/mp3-preview/eb88ba61313541aef78a5842111c51ab729894c1?cid=null\n"
     ]
    },
    {
     "data": {
      "text/html": [
       "\n",
       "                <audio controls=\"controls\" >\n",
       "                    <source src=\"https://p.scdn.co/mp3-preview/eb88ba61313541aef78a5842111c51ab729894c1?cid=null\" type=\"None\" />\n",
       "                    Your browser does not support the audio element.\n",
       "                </audio>\n",
       "              "
      ],
      "text/plain": [
       "<IPython.lib.display.Audio object>"
      ]
     },
     "metadata": {},
     "output_type": "display_data"
    },
    {
     "name": "stdout",
     "output_type": "stream",
     "text": [
      "None\n",
      "\n",
      "Track:  Obsessed\n",
      "Cover Art:  https://i.scdn.co/image/abf766ba9dc04fb75599293236eaf7fc3cb16442\n",
      "Single Sample:  https://p.scdn.co/mp3-preview/84d6c5a18ace16c7dad189bf7cf042fd2645af3e?cid=null\n"
     ]
    },
    {
     "data": {
      "text/html": [
       "\n",
       "                <audio controls=\"controls\" >\n",
       "                    <source src=\"https://p.scdn.co/mp3-preview/84d6c5a18ace16c7dad189bf7cf042fd2645af3e?cid=null\" type=\"None\" />\n",
       "                    Your browser does not support the audio element.\n",
       "                </audio>\n",
       "              "
      ],
      "text/plain": [
       "<IPython.lib.display.Audio object>"
      ]
     },
     "metadata": {},
     "output_type": "display_data"
    },
    {
     "name": "stdout",
     "output_type": "stream",
     "text": [
      "None\n",
      "\n",
      "Track:  On Demand\n",
      "Cover Art:  https://i.scdn.co/image/f92bf17dbe6151cd2110a8d4160a2bb7b4a9bc94\n",
      "Single Sample:  https://p.scdn.co/mp3-preview/fbf36f75189f392366956a61f613cc7c9568caea?cid=null\n"
     ]
    },
    {
     "data": {
      "text/html": [
       "\n",
       "                <audio controls=\"controls\" >\n",
       "                    <source src=\"https://p.scdn.co/mp3-preview/fbf36f75189f392366956a61f613cc7c9568caea?cid=null\" type=\"None\" />\n",
       "                    Your browser does not support the audio element.\n",
       "                </audio>\n",
       "              "
      ],
      "text/plain": [
       "<IPython.lib.display.Audio object>"
      ]
     },
     "metadata": {},
     "output_type": "display_data"
    },
    {
     "name": "stdout",
     "output_type": "stream",
     "text": [
      "None\n",
      "\n",
      "Track:  Touch\n",
      "Cover Art:  https://i.scdn.co/image/47be5a05ff46f37efd6311f4315b8c43da80b780\n",
      "Single Sample:  https://p.scdn.co/mp3-preview/a98ed1b976ff2fd09c4bfca5383853475e65ef15?cid=null\n"
     ]
    },
    {
     "data": {
      "text/html": [
       "\n",
       "                <audio controls=\"controls\" >\n",
       "                    <source src=\"https://p.scdn.co/mp3-preview/a98ed1b976ff2fd09c4bfca5383853475e65ef15?cid=null\" type=\"None\" />\n",
       "                    Your browser does not support the audio element.\n",
       "                </audio>\n",
       "              "
      ],
      "text/plain": [
       "<IPython.lib.display.Audio object>"
      ]
     },
     "metadata": {},
     "output_type": "display_data"
    },
    {
     "name": "stdout",
     "output_type": "stream",
     "text": [
      "None\n",
      "\n",
      "Do you want to learn more about the top albums or singles(Type A for albums, S for singles, or Q to quit)? Q\n",
      "Thank you for using our mini-discovery app\n",
      "POWERED BY:\n"
     ]
    },
    {
     "data": {
      "text/html": [
       "<img src=\"http://pixel.nymag.com/imgs/daily/vulture/2015/06/26/26-spotify.w1200.h630.jpg\" width=\"559\" height=\"168\"/>"
      ],
      "text/plain": [
       "<IPython.core.display.Image object>"
      ]
     },
     "metadata": {},
     "output_type": "display_data"
    },
    {
     "data": {
      "text/html": [
       "<img src=\"https://www.3scale.net/wp-content/uploads/2016/01/musicgraph.png\" width=\"559\" height=\"168\"/>"
      ],
      "text/plain": [
       "<IPython.core.display.Image object>"
      ]
     },
     "metadata": {},
     "output_type": "display_data"
    }
   ],
   "source": [
    "import IPython # imports modules to allow for mp3s to play in cells\n",
    "import spotipy # imports library\n",
    "import requests #allows for json imports\n",
    "from IPython.display import Image # allows for all picture types to be displayed\n",
    "from IPython.display import display # allows for more than one picture and display to be shown in a single cell\n",
    "print('Welcome to the Music Artist Discovery Page!')\n",
    "\n",
    "#List of Functions to execute various parts\n",
    "def spotify_artist(): \n",
    "    spotify_artist = spotipy.Spotify()\n",
    "    page= spotify_artist.search(q='artist:' + name, type='artist') # q stands for search query and type identifies whether it is an artist, track, or album\n",
    "    return page\n",
    "\n",
    "def learn(text):\n",
    "    first_letter = text.lower()[0]\n",
    "    if first_letter in \"as\":\n",
    "        return first_letter\n",
    "    else:\n",
    "        return \"error\"\n",
    "def artist_random(): \n",
    "    url = 'http://api.musicgraph.com/api/v2/artist/search?api_key=eb2d906c03e1daedb57dc03ff76db1f9&genre=%s' % (genres)\n",
    "    response = requests.get(url)\n",
    "    rand = response.json()\n",
    "    return rand\n",
    "\n",
    "#part one (random artist based on Genre)\n",
    "try:\n",
    "    genres = str(input(\"To start, enter a genre of music to help explore your inner passion, or type quit to skip this part: \"))\n",
    "    randy= artist_random()\n",
    "    i = 1\n",
    "    while i<6:\n",
    "        art= randy['data'][i]['name']\n",
    "        i= i + 1\n",
    "        print(art)\n",
    "        \n",
    "except KeyError:\n",
    "    print('I guess you tried to move on because that is not a recognizable genre!')\n",
    "    pass\n",
    "\n",
    "print()\n",
    "spotify_api = spotipy.Spotify()\n",
    "try:\n",
    "    # part two (Discover your music artists)\n",
    "    name = str(input('Now, enter that Artist you would like to learn about (or type \"quit\" to stop): '))\n",
    "    if name != \"quit\":\n",
    "        artist = spotify_artist()\n",
    "        page= artist['artists']\n",
    "        print('Artist/Band Name:', page['items'][0]['name'])\n",
    "        print('Number of Followers on Spotify:', page['items'][0]['followers']['total'])\n",
    "        print('Here is what this artist looks like:', page['items'][0]['images'][0]['url'])\n",
    "        artist_photo= page['items'][0]['images'][0]['url']\n",
    "        profile_photo = Image(url= artist_photo , width=559, height=168)\n",
    "        display(profile_photo)\n",
    "        print(\"This artists' genre of music are:\")\n",
    "        for genre in page['items'][0]['genres']: #scrape page\n",
    "            print(genre) # number the genres\n",
    "        print()\n",
    "\n",
    "        #part three (albums and singles)\n",
    "        while True:\n",
    "            more = learn(input('Do you want to learn more about the top albums or singles(Type \"A\" for albums, \"S\" for singles, or \"Q\" to quit)? '))\n",
    "            if more == 'a':\n",
    "                #if yes say singles or album names?\n",
    "                uri = 'spotify:artist:' + page['items'][0]['id'] #URI stands for uniform resource identifier\n",
    "                search = spotify_api.artist_albums(uri, album_type='album')\n",
    "                albums = search['items']\n",
    "                while search['next']:\n",
    "                    search = spotify_api.next(search)\n",
    "                    albums.extend(search['items'])\n",
    "                print(\"Here are some this Artists' Albums: \")\n",
    "                for album in albums[:5]:\n",
    "                    print(album['name']) #print album names and cover # counts\n",
    "                print()\n",
    "                continue\n",
    "            elif more == \"s\":\n",
    "                singles_uri = 'spotify:artist:' + page['items'][0]['id']\n",
    "                results = spotify_api.artist_top_tracks(singles_uri)\n",
    "                print(\"Here are some of this artists' most popular singles: \")\n",
    "                for track in results['tracks'][:5]:\n",
    "                    print('Track: ',  track['name'])\n",
    "                    print('Cover Art: ', track['album']['images'][0]['url']) # turn this into a live photo\n",
    "                    print('Single Sample: ', track['preview_url']) # turn this into a live mp3 # with counts\n",
    "                    t=track['preview_url']\n",
    "                    print(IPython.display.display(IPython.display.Audio(url=t)))\n",
    "                    print()\n",
    "                continue\n",
    "            else:\n",
    "                break\n",
    "\n",
    "\n",
    "except IndexError:\n",
    "    print('That is not a artist that has a label or popular enough, in other words try again!')\n",
    "      \n",
    "print('Thank you for using our mini-discovery app')        \n",
    "print('POWERED BY:')\n",
    "x = Image(url= \"http://pixel.nymag.com/imgs/daily/vulture/2015/06/26/26-spotify.w1200.h630.jpg\", width=559, height=168)\n",
    "y = Image(url= \"https://www.3scale.net/wp-content/uploads/2016/01/musicgraph.png\", width=559, height=168)\n",
    "display(x, y)\n"
   ]
  },
  {
   "cell_type": "code",
   "execution_count": null,
   "metadata": {
    "collapsed": true
   },
   "outputs": [],
   "source": []
  }
 ],
 "metadata": {
  "anaconda-cloud": {},
  "kernelspec": {
   "display_name": "Python [default]",
   "language": "python",
   "name": "python3"
  },
  "language_info": {
   "codemirror_mode": {
    "name": "ipython",
    "version": 3
   },
   "file_extension": ".py",
   "mimetype": "text/x-python",
   "name": "python",
   "nbconvert_exporter": "python",
   "pygments_lexer": "ipython3",
   "version": "3.5.2"
  }
 },
 "nbformat": 4,
 "nbformat_minor": 2
}
