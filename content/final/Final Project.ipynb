{
 "cells": [
  {
   "cell_type": "markdown",
   "metadata": {
    "collapsed": true
   },
   "source": [
    "# Discovery Spotify Module\n",
    "\n",
    "The purpose of our application is to allow the user to explore potential artist. This application will be using an api with music based information.\n",
    "1.) It starts with the process of choosing an (Artist or genre).\n",
    "2.) Then the user chooses a an album or song and a sample will be played\n",
    "3.) Then the user will be asked whether or not they would like to see more artist with a similar type of music."
   ]
  },
  {
   "cell_type": "code",
   "execution_count": 7,
   "metadata": {
    "collapsed": false
   },
   "outputs": [
    {
     "name": "stdout",
     "output_type": "stream",
     "text": [
      "{'artists': {'next': 'https://api.spotify.com/v1/search?query=artist%3A&type=artist&offset=10&limit=10', 'href': 'https://api.spotify.com/v1/search?query=artist%3A&type=artist&offset=0&limit=10', 'offset': 0, 'total': 782, 'limit': 10, 'items': [{'type': 'artist', 'external_urls': {'spotify': 'https://open.spotify.com/artist/5a2EaR3hamoenG9rDuVn8j'}, 'id': '5a2EaR3hamoenG9rDuVn8j', 'href': 'https://api.spotify.com/v1/artists/5a2EaR3hamoenG9rDuVn8j', 'images': [{'url': 'https://i.scdn.co/image/2df771ec0ca4da2492eadd811b2553395756cfa4', 'width': 640, 'height': 640}, {'url': 'https://i.scdn.co/image/3a18704c08a514013fbe6fa937c76476eb6f9e94', 'width': 320, 'height': 320}, {'url': 'https://i.scdn.co/image/0693b08be4ec35e236849e9d3099bff461146289', 'width': 160, 'height': 160}], 'popularity': 74, 'name': 'Prince', 'uri': 'spotify:artist:5a2EaR3hamoenG9rDuVn8j', 'followers': {'total': 1074565, 'href': None}, 'genres': ['classic funk rock', 'dance pop', 'funk', 'funk rock', 'quiet storm', 'soul', 'soul christmas']}, {'type': 'artist', 'external_urls': {'spotify': 'https://open.spotify.com/artist/4AGwPDdh1y8hochNzHy5HC'}, 'id': '4AGwPDdh1y8hochNzHy5HC', 'href': 'https://api.spotify.com/v1/artists/4AGwPDdh1y8hochNzHy5HC', 'images': [{'url': 'https://i.scdn.co/image/a0d268967073ddb6732679ce901449b7a447f86c', 'width': 640, 'height': 640}, {'url': 'https://i.scdn.co/image/32a734c0dcfaf4588ba5e3293dbae9a22f54d3cf', 'width': 320, 'height': 320}, {'url': 'https://i.scdn.co/image/b33302a36652694d80a48773d97fd71aa1e64129', 'width': 160, 'height': 160}], 'popularity': 60, 'name': 'RAC', 'uri': 'spotify:artist:4AGwPDdh1y8hochNzHy5HC', 'followers': {'total': 87381, 'href': None}, 'genres': ['alternative dance', 'chillwave', 'indie pop', 'indie poptimism', 'indie psych-rock', 'indietronica', 'metropopolis', 'shimmer pop', 'synthpop', 'tropical house', 'vapor soul']}, {'type': 'artist', 'external_urls': {'spotify': 'https://open.spotify.com/artist/3kYFawNQVZ00FQbgs4rVBe'}, 'id': '3kYFawNQVZ00FQbgs4rVBe', 'href': 'https://api.spotify.com/v1/artists/3kYFawNQVZ00FQbgs4rVBe', 'images': [{'url': 'https://i.scdn.co/image/0078316432cdfb6733c3bde0dc61754d45442d0f', 'width': 1000, 'height': 1000}, {'url': 'https://i.scdn.co/image/9b99c1bb64c969e19a59bc6a8f50155d537511c1', 'width': 640, 'height': 640}, {'url': 'https://i.scdn.co/image/cfe1be969957fa426a64afefe2355dbd4c46e49c', 'width': 200, 'height': 200}, {'url': 'https://i.scdn.co/image/81d6e8a4c30e6b1875ba1a5e81f892369f29b7ee', 'width': 64, 'height': 64}], 'popularity': 44, 'name': 'Artist Vs Poet', 'uri': 'spotify:artist:3kYFawNQVZ00FQbgs4rVBe', 'followers': {'total': 38171, 'href': None}, 'genres': ['alternative pop rock', 'indie rockism', 'pixie', 'pop emo', 'pop punk', 'punk christmas']}, {'type': 'artist', 'external_urls': {'spotify': 'https://open.spotify.com/artist/1T6Em6UJ7pSdgXw5V72YHr'}, 'id': '1T6Em6UJ7pSdgXw5V72YHr', 'href': 'https://api.spotify.com/v1/artists/1T6Em6UJ7pSdgXw5V72YHr', 'images': [{'url': 'https://i.scdn.co/image/371f098d7be075e50cec849a9ff806591766393f', 'width': 640, 'height': 640}, {'url': 'https://i.scdn.co/image/a761acb0bf1734c1d13361a03362c3528a2fb464', 'width': 300, 'height': 300}, {'url': 'https://i.scdn.co/image/f39f75ba7ba25b75d92bc43420a1058985d073b3', 'width': 64, 'height': 64}], 'popularity': 36, 'name': 'TT The Artist', 'uri': 'spotify:artist:1T6Em6UJ7pSdgXw5V72YHr', 'followers': {'total': 1943, 'href': None}, 'genres': ['bmore', 'escape room']}, {'type': 'artist', 'external_urls': {'spotify': 'https://open.spotify.com/artist/5iRM7qYip6UNfQaPe2reCz'}, 'id': '5iRM7qYip6UNfQaPe2reCz', 'href': 'https://api.spotify.com/v1/artists/5iRM7qYip6UNfQaPe2reCz', 'images': [{'url': 'https://i.scdn.co/image/9010c7f52b34cfb353dc73057f8428563df85f1a', 'width': 640, 'height': 640}, {'url': 'https://i.scdn.co/image/6d99c7db5d27bbcc2f63f6688a5e6a74b7cfd86c', 'width': 320, 'height': 320}, {'url': 'https://i.scdn.co/image/95553bda2ec6fab983ceca2e6dcd01ff502d3275', 'width': 160, 'height': 160}], 'popularity': 39, 'name': 'Barney Artist', 'uri': 'spotify:artist:5iRM7qYip6UNfQaPe2reCz', 'followers': {'total': 4080, 'href': None}, 'genres': ['deep indie r&b']}, {'type': 'artist', 'external_urls': {'spotify': 'https://open.spotify.com/artist/6gjAbs229sNHhSskJpQ2mG'}, 'id': '6gjAbs229sNHhSskJpQ2mG', 'href': 'https://api.spotify.com/v1/artists/6gjAbs229sNHhSskJpQ2mG', 'images': [{'url': 'https://i.scdn.co/image/17e87db9dec9adafa053f12652206fb10c7ef84f', 'width': 640, 'height': 640}, {'url': 'https://i.scdn.co/image/9e3282f9fedf008f323d03a6a08250003f1577fe', 'width': 300, 'height': 300}, {'url': 'https://i.scdn.co/image/c8c2f5fa6fba58ee0a4bee60fa38fa73cd2641bd', 'width': 64, 'height': 64}], 'popularity': 35, 'name': 'Artist Unknown', 'uri': 'spotify:artist:6gjAbs229sNHhSskJpQ2mG', 'followers': {'total': 195, 'href': None}, 'genres': []}, {'type': 'artist', 'external_urls': {'spotify': 'https://open.spotify.com/artist/74Ch11L4833kZ9VfyziR3K'}, 'id': '74Ch11L4833kZ9VfyziR3K', 'href': 'https://api.spotify.com/v1/artists/74Ch11L4833kZ9VfyziR3K', 'images': [{'url': 'https://i.scdn.co/image/b7ab84a5a60836ceb550b385f04f93c94b95f389', 'width': 600, 'height': 600}, {'url': 'https://i.scdn.co/image/27f0a6537c670ab48f8a121db44069e8802731de', 'width': 300, 'height': 300}, {'url': 'https://i.scdn.co/image/f3088a9e78ef6f26980328715dc5b1f5903c1638', 'width': 64, 'height': 64}], 'popularity': 37, 'name': 'Unknown Artist', 'uri': 'spotify:artist:74Ch11L4833kZ9VfyziR3K', 'followers': {'total': 527, 'href': None}, 'genres': []}, {'type': 'artist', 'external_urls': {'spotify': 'https://open.spotify.com/artist/6Je5ZVR7Vg64BcI9w6sTPT'}, 'id': '6Je5ZVR7Vg64BcI9w6sTPT', 'href': 'https://api.spotify.com/v1/artists/6Je5ZVR7Vg64BcI9w6sTPT', 'images': [], 'popularity': 22, 'name': 'Tax Artist', 'uri': 'spotify:artist:6Je5ZVR7Vg64BcI9w6sTPT', 'followers': {'total': 45, 'href': None}, 'genres': []}, {'type': 'artist', 'external_urls': {'spotify': 'https://open.spotify.com/artist/2cOfIUqo1gylAVdTTQjWvi'}, 'id': '2cOfIUqo1gylAVdTTQjWvi', 'href': 'https://api.spotify.com/v1/artists/2cOfIUqo1gylAVdTTQjWvi', 'images': [{'url': 'https://i.scdn.co/image/b94c1c29ee529decbab783322df3cc52e3deeb31', 'width': 640, 'height': 640}, {'url': 'https://i.scdn.co/image/ba664f73e6a38cd4b8ba3c2e84efb261ccfe75ab', 'width': 300, 'height': 300}, {'url': 'https://i.scdn.co/image/5b6276ad40f389bdfd089a45adf78c7233bbd0a8', 'width': 64, 'height': 64}], 'popularity': 23, 'name': 'Artist Noir', 'uri': 'spotify:artist:2cOfIUqo1gylAVdTTQjWvi', 'followers': {'total': 38, 'href': None}, 'genres': []}, {'type': 'artist', 'external_urls': {'spotify': 'https://open.spotify.com/artist/2foVH7kKgvrUsIgsh6XYmd'}, 'id': '2foVH7kKgvrUsIgsh6XYmd', 'href': 'https://api.spotify.com/v1/artists/2foVH7kKgvrUsIgsh6XYmd', 'images': [{'url': 'https://i.scdn.co/image/bc6f98d6485bcaffdf3d5bda3caebdaaed7203b1', 'width': 640, 'height': 640}, {'url': 'https://i.scdn.co/image/8cf3cfd505f56510cdd16d5a740deef4f94864e2', 'width': 300, 'height': 300}, {'url': 'https://i.scdn.co/image/69a75bd375a7d515a8bbbfdc6bfa7dbd345631ed', 'width': 64, 'height': 64}], 'popularity': 22, 'name': 'P The Artist', 'uri': 'spotify:artist:2foVH7kKgvrUsIgsh6XYmd', 'followers': {'total': 97, 'href': None}, 'genres': []}], 'previous': None}}\n"
     ]
    }
   ],
   "source": [
    "import spotipy\n",
    "import requests"
   ]
  },
  {
   "cell_type": "code",
   "execution_count": 1,
   "metadata": {
    "collapsed": false
   },
   "outputs": [
    {
     "name": "stdout",
     "output_type": "stream",
     "text": [
      "Beautiful Lies\n",
      "Beautiful Lies\n",
      "Beautiful Lies (Deluxe)\n",
      "Beautiful Lies (Deluxe)\n",
      "Fire Within\n",
      "Fire Within\n",
      "Live In London\n",
      "Birdy\n",
      "Birdy\n",
      "Birdy\n",
      "Birdy (Spotify Exclusive)\n",
      "Birdy (Deluxe Version)\n",
      "Fire Within (Deluxe)\n",
      "Fire Within (Deluxe)\n",
      "Fire Within (Deluxe)\n"
     ]
    }
   ],
   "source": [
    "import spotipy\n",
    "\n",
    "birdy_uri = 'spotify:artist:2WX2uTcsvV5OnS0inACecP'\n",
    "spotify = spotipy.Spotify()\n",
    "\n",
    "results = spotify.artist_albums(birdy_uri, album_type='album')\n",
    "albums = results['items']\n",
    "while results['next']:\n",
    "    results = spotify.next(results)\n",
    "    albums.extend(results['items'])\n",
    "\n",
    "for album in albums:\n",
    "    print(album['name'])"
   ]
  },
  {
   "cell_type": "code",
   "execution_count": 1,
   "metadata": {
    "collapsed": false
   },
   "outputs": [
    {
     "name": "stdout",
     "output_type": "stream",
     "text": [
      "track    : Stairway To Heaven\n",
      "audio    : https://p.scdn.co/mp3-preview/8226164717312bc411f8635580562d67e191a754?cid=null\n",
      "cover art: https://i.scdn.co/image/557a6058e3de72bf37ffcd2c12dd5932276df344\n",
      "track    : Whole Lotta Love\n",
      "audio    : https://p.scdn.co/mp3-preview/ce11b19a4d2de9976d7626df0717d0073863909c?cid=null\n",
      "cover art: https://i.scdn.co/image/5fa3a6cc1848ea743a293d2088046746d1b09608\n",
      "track    : Immigrant Song\n",
      "audio    : https://p.scdn.co/mp3-preview/8455599677a13017978dcd3f4b210937f0a16bcb?cid=null\n",
      "cover art: https://i.scdn.co/image/e6e513e68c4eefdfc7bc213b35061c9c30b42dfa\n",
      "track    : Ramble On\n",
      "audio    : https://p.scdn.co/mp3-preview/83383aceb01ea27b0bffdedfaebe55e29b33aca2?cid=null\n",
      "cover art: https://i.scdn.co/image/5fa3a6cc1848ea743a293d2088046746d1b09608\n",
      "track    : Good Times Bad Times\n",
      "audio    : https://p.scdn.co/mp3-preview/c1f024eb57b569b926c8e68cab0a6056dc7d9654?cid=null\n",
      "cover art: https://i.scdn.co/image/71e6a72a1b3a00d2ddabee9a3e2d5ade3be25409\n",
      "track    : Kashmir\n",
      "audio    : https://p.scdn.co/mp3-preview/13b2c47c98132f80a5ce12d8a4ceb192ba7a4345?cid=null\n",
      "cover art: https://i.scdn.co/image/e9e82cfa89aaeb1f6b1f8756a98e40ccc65e8a01\n",
      "track    : Black Dog\n",
      "audio    : https://p.scdn.co/mp3-preview/9b76619fd9d563a48d38cc90ca00c3008327b52e?cid=null\n",
      "cover art: https://i.scdn.co/image/557a6058e3de72bf37ffcd2c12dd5932276df344\n",
      "track    : Babe I'm Gonna Leave You\n",
      "audio    : https://p.scdn.co/mp3-preview/e82d356bea5c8244cee4e6d5447b46b87852dc11?cid=null\n",
      "cover art: https://i.scdn.co/image/71e6a72a1b3a00d2ddabee9a3e2d5ade3be25409\n",
      "track    : Heartbreaker\n",
      "audio    : https://p.scdn.co/mp3-preview/01ecc69cb05ce5234bd24a2224fb4edbf7c0daba?cid=null\n",
      "cover art: https://i.scdn.co/image/5fa3a6cc1848ea743a293d2088046746d1b09608\n",
      "track    : Rock And Roll\n",
      "audio    : https://p.scdn.co/mp3-preview/e7ea8a13f7caf6942c5447e9cd96aac2a076d85a?cid=null\n",
      "cover art: https://i.scdn.co/image/557a6058e3de72bf37ffcd2c12dd5932276df344\n"
     ]
    }
   ],
   "source": [
    "import spotipy\n",
    "\n",
    "lz_uri = 'spotify:artist:36QJpDe2go2KgaRleHCDTp'\n",
    "\n",
    "spotify = spotipy.Spotify()\n",
    "results = spotify.artist_top_tracks(lz_uri)\n",
    "\n",
    "for track in results['tracks'][:10]:\n",
    "    print ('track    : ' + track['name'])\n",
    "    print ('audio    : ' + track['preview_url'])\n",
    "    print ('cover art: ' + track['album']['images'][0]['url'])"
   ]
  },
  {
   "cell_type": "code",
   "execution_count": 5,
   "metadata": {
    "collapsed": false
   },
   "outputs": [
    {
     "name": "stdout",
     "output_type": "stream",
     "text": [
      "retrying ...1secs\n",
      "retrying ...2secs\n",
      "retrying ...3secs\n",
      "retrying ...4secs\n",
      "retrying ...5secs\n",
      "retrying ...6secs\n",
      "retrying ...7secs\n",
      "retrying ...8secs\n",
      "retrying ...9secs\n",
      "retrying ...10secs\n"
     ]
    },
    {
     "ename": "TypeError",
     "evalue": "'NoneType' object is not subscriptable",
     "output_type": "error",
     "traceback": [
      "\u001b[0;31m---------------------------------------------------------------------------\u001b[0m",
      "\u001b[0;31mTypeError\u001b[0m                                 Traceback (most recent call last)",
      "\u001b[0;32m<ipython-input-5-401df10948b6>\u001b[0m in \u001b[0;36m<module>\u001b[0;34m()\u001b[0m\n\u001b[1;32m     10\u001b[0m \u001b[1;33m\u001b[0m\u001b[0m\n\u001b[1;32m     11\u001b[0m \u001b[0mresults\u001b[0m \u001b[1;33m=\u001b[0m \u001b[0mspotify\u001b[0m\u001b[1;33m.\u001b[0m\u001b[0msearch\u001b[0m\u001b[1;33m(\u001b[0m\u001b[0mq\u001b[0m\u001b[1;33m=\u001b[0m\u001b[1;34m'artist:'\u001b[0m \u001b[1;33m+\u001b[0m \u001b[0mname\u001b[0m\u001b[1;33m,\u001b[0m \u001b[0mtype\u001b[0m\u001b[1;33m=\u001b[0m\u001b[1;34m'artist'\u001b[0m\u001b[1;33m)\u001b[0m\u001b[1;33m\u001b[0m\u001b[0m\n\u001b[0;32m---> 12\u001b[0;31m \u001b[0mitems\u001b[0m \u001b[1;33m=\u001b[0m \u001b[0mresults\u001b[0m\u001b[1;33m[\u001b[0m\u001b[1;34m'artists'\u001b[0m\u001b[1;33m]\u001b[0m\u001b[1;33m[\u001b[0m\u001b[1;34m'items'\u001b[0m\u001b[1;33m]\u001b[0m\u001b[1;33m\u001b[0m\u001b[0m\n\u001b[0m\u001b[1;32m     13\u001b[0m \u001b[1;32mif\u001b[0m \u001b[0mlen\u001b[0m\u001b[1;33m(\u001b[0m\u001b[0mitems\u001b[0m\u001b[1;33m)\u001b[0m \u001b[1;33m>\u001b[0m \u001b[1;36m0\u001b[0m\u001b[1;33m:\u001b[0m\u001b[1;33m\u001b[0m\u001b[0m\n\u001b[1;32m     14\u001b[0m     \u001b[0martist\u001b[0m \u001b[1;33m=\u001b[0m \u001b[0mitems\u001b[0m\u001b[1;33m[\u001b[0m\u001b[1;36m0\u001b[0m\u001b[1;33m]\u001b[0m\u001b[1;33m\u001b[0m\u001b[0m\n",
      "\u001b[0;31mTypeError\u001b[0m: 'NoneType' object is not subscriptable"
     ]
    }
   ],
   "source": [
    "import spotipy\n",
    "import sys\n",
    "\n",
    "spotify = spotipy.Spotify()\n",
    "\n",
    "if len(sys.argv) > 1:\n",
    "    name = ' '.join(sys.argv[1:])\n",
    "else:\n",
    "    name = 'Radiohead'\n",
    "\n",
    "results = spotify.search(q='artist:' + name, type='artist')\n",
    "items = results['artists']['items']\n",
    "if len(items) > 0:\n",
    "    artist = items[0]\n",
    "    print (artist['name'], artist['images'][0]['url'])"
   ]
  },
  {
   "cell_type": "code",
   "execution_count": null,
   "metadata": {
    "collapsed": true
   },
   "outputs": [],
   "source": []
  }
 ],
 "metadata": {
  "anaconda-cloud": {},
  "kernelspec": {
   "display_name": "Python [default]",
   "language": "python",
   "name": "python3"
  },
  "language_info": {
   "codemirror_mode": {
    "name": "ipython",
    "version": 3
   },
   "file_extension": ".py",
   "mimetype": "text/x-python",
   "name": "python",
   "nbconvert_exporter": "python",
   "pygments_lexer": "ipython3",
   "version": "3.5.2"
  }
 },
 "nbformat": 4,
 "nbformat_minor": 2
}
