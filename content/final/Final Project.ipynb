{
 "cells": [
  {
   "cell_type": "markdown",
   "metadata": {
    "collapsed": true
   },
   "source": [
    "# Discovery Spotify Module\n",
    "\n",
    "The purpose of our application is to allow the user to explore potential artist. This application will be using an api with music based information.\n",
    "1.) It starts with the process of choosing an (Artist or genre).\n",
    "2.) Then the user chooses a an album or song and a sample will be played\n",
    "3.) Then the user will be asked whether or not they would like to see more artist with a similar type of music."
   ]
  },
  {
   "cell_type": "code",
   "execution_count": 1,
   "metadata": {
    "collapsed": false
   },
   "outputs": [],
   "source": [
    "#To-Do:\n",
    "# 1.) Enter the artist name\n",
    "# 2.) Get a sample of the song\n",
    "import spotipy\n",
    "import requests\n"
   ]
  },
  {
   "cell_type": "code",
   "execution_count": 23,
   "metadata": {
    "collapsed": false
   },
   "outputs": [
    {
     "name": "stdout",
     "output_type": "stream",
     "text": [
      "Welcome to the Music Artist Discovery Page!\n",
      "Enter an Artist you would like to learn about(or type quit to stop): Justin Bieber\n",
      "Number of Followers on Spotify: 9279963\n",
      "Here is what this artist looks like: https://i.scdn.co/image/5c3cf2ee3494e2da71dcf26303202ec491b26213\n",
      "Genres of Music: canadian pop\n",
      "\n",
      "Genres of Music: dance pop\n",
      "\n",
      "Genres of Music: pop\n",
      "\n",
      "Genres of Music: pop christmas\n",
      "\n",
      "Genres of Music: post-teen pop\n",
      "\n",
      "Do you want to learn more about the artist [Y/N]? Y\n",
      "Purpose (Deluxe)\n",
      "Purpose (Deluxe)\n",
      "Purpose (Deluxe)\n",
      "Believe Acoustic\n",
      "Believe Acoustic\n",
      "Believe Acoustic\n",
      "Journals\n",
      "Journals\n",
      "Believe\n",
      "Believe (Deluxe Edition)\n",
      "Believe (Deluxe Edition)\n",
      "Believe (Deluxe Edition)\n",
      "Never Say Never - The Remixes\n",
      "Never Say Never - The Remixes\n",
      "Under The Mistletoe\n",
      "Under The Mistletoe\n",
      "Under The Mistletoe (Deluxe Edition)\n",
      "Under The Mistletoe (Deluxe Edition)\n",
      "Under The Mistletoe (Deluxe Edition)\n",
      "My World 2.0\n",
      "My World 2.0\n",
      "My Worlds\n",
      "My Worlds (International Version)\n",
      "My Worlds (International Version)\n",
      "My Worlds (Oz Version)\n",
      "My Worlds - The Collection (International Package)\n",
      "My Worlds - The Collection (International Package)\n",
      "My Worlds - The Collection (Oz Package)\n",
      "My Worlds Acoustic\n",
      "My Worlds Acoustic\n",
      "My World\n",
      "My World\n",
      "My World (Canada Version - All BP's)\n",
      "My World (France Version)\n"
     ]
    }
   ],
   "source": [
    "print('Welcome to the Music Artist Discovery Page!')\n",
    "#https://developer.spotify.com/web-api/object-model/\n",
    "#https://github.com/plamere/spotipy\n",
    "def spotify_artist(): \n",
    "    spotify_artist = spotipy.Spotify()\n",
    "    page= spotify_artist.search(q='artist:' + name, type='artist')\n",
    "    return page\n",
    "\n",
    "def learn(text):\n",
    "    first_letter = text.lower()[0]\n",
    "    if first_letter in \"yn\":\n",
    "        return first_letter\n",
    "    else:\n",
    "        return \"error\"\n",
    "\n",
    "    \n",
    "try:\n",
    "    # part one (Discover your music artists)\n",
    "    name = str(input('Enter an Artist you would like to learn about(or type quit to stop): '))\n",
    "    while True:\n",
    "        if name != \"quit\":\n",
    "            artist = spotify_artist()\n",
    "            page= artist['artists']\n",
    "            print('Number of Followers on Spotify:', page['items'][0]['followers']['total'])\n",
    "            print('Here is what this artist looks like:', page['items'][0]['images'][0]['url'])\n",
    "            for genre in page['items'][0]['genres']:\n",
    "                print('Genres of Music:', genre)\n",
    "                print()\n",
    "                \n",
    "                \n",
    "            #part two (albums and singles)    \n",
    "            more = learn(input('Do you want to learn more about the artist [Y/N]? '))\n",
    "            if more == 'y':\n",
    "                #if yes say singles or album names?\n",
    "                uri = 'spotify:artist:' + page['items'][0]['id'] #URI stands for uniform resource identifier\n",
    "                spotify_api= spotipy.Spotify()\n",
    "\n",
    "                search = spotify_api.artist_albums(uri, album_type='album')\n",
    "                albums = search['items']\n",
    "                while search['next']:\n",
    "                    search = spotify_api.next(search)\n",
    "                    albums.extend(search['items'])\n",
    "                for album in albums:\n",
    "                    print(album['name'])\n",
    "                break\n",
    "            elif more == \"n\":\n",
    "                break\n",
    "            print()\n",
    "        else:\n",
    "            break\n",
    "\n",
    "        \n",
    "except IndexError:\n",
    "    print('That is not a artist that has a label or popular enough (In other words try again)!')\n"
   ]
  },
  {
   "cell_type": "code",
   "execution_count": 57,
   "metadata": {
    "collapsed": false
   },
   "outputs": [
    {
     "data": {
      "text/plain": [
       "'5NANwZbfna1wwuYCBw85Af'"
      ]
     },
     "execution_count": 57,
     "metadata": {},
     "output_type": "execute_result"
    }
   ],
   "source": [
    "def spotify_artist(): \n",
    "    spotify_artist = spotipy.Spotify()\n",
    "    results= spotify_artist.search(q='artist:' + name, type='artist')\n",
    "    return results\n",
    "x= spotify_artist()\n",
    "x['artists']['items'][0]['id']"
   ]
  },
  {
   "cell_type": "code",
   "execution_count": 3,
   "metadata": {
    "collapsed": false,
    "scrolled": true
   },
   "outputs": [
    {
     "data": {
      "text/plain": [
       "dict_keys(['genres', 'popularity', 'external_urls', 'images', 'href', 'name', 'followers', 'type', 'id', 'uri'])"
      ]
     },
     "execution_count": 3,
     "metadata": {},
     "output_type": "execute_result"
    }
   ],
   "source": [
    "def spotify_artist(): \n",
    "    spotify_artist = spotipy.Spotify()\n",
    "    results= spotify_artist.search(q='artist:' + name, type='artist')\n",
    "    return results\n",
    "x = spotify_artist()\n",
    "x['artists']['items'][0].keys()"
   ]
  },
  {
   "cell_type": "code",
   "execution_count": 18,
   "metadata": {
    "collapsed": false
   },
   "outputs": [
    {
     "name": "stdout",
     "output_type": "stream",
     "text": [
      "Purpose (Deluxe)\n",
      "Purpose (Deluxe)\n",
      "Purpose (Deluxe)\n",
      "Believe Acoustic\n",
      "Believe Acoustic\n",
      "Believe Acoustic\n",
      "Journals\n",
      "Journals\n",
      "Believe\n",
      "Believe (Deluxe Edition)\n",
      "Believe (Deluxe Edition)\n",
      "Believe (Deluxe Edition)\n",
      "Never Say Never - The Remixes\n",
      "Never Say Never - The Remixes\n",
      "Under The Mistletoe\n",
      "Under The Mistletoe\n",
      "Under The Mistletoe (Deluxe Edition)\n",
      "Under The Mistletoe (Deluxe Edition)\n",
      "Under The Mistletoe (Deluxe Edition)\n",
      "My World 2.0\n",
      "My World 2.0\n",
      "My Worlds\n",
      "My Worlds (International Version)\n",
      "My Worlds (International Version)\n",
      "My Worlds (Oz Version)\n",
      "My Worlds - The Collection (International Package)\n",
      "My Worlds - The Collection (International Package)\n",
      "My Worlds - The Collection (Oz Package)\n",
      "My Worlds Acoustic\n",
      "My Worlds Acoustic\n",
      "My World\n",
      "My World\n",
      "My World (Canada Version - All BP's)\n",
      "My World (France Version)\n"
     ]
    }
   ],
   "source": [
    "def remove_duplicates():\n",
    "    output = albums\n",
    "    seen = set()\n",
    "    for album in albums:\n",
    "        if album not in seen:\n",
    "            output.append(value)\n",
    "            seen.add(value)\n",
    "    return output\n",
    "\n",
    "uri = 'spotify:artist:' + page['items'][0]['id']\n",
    "spotify_api= spotipy.Spotify()\n",
    "\n",
    "search = spotify_api.artist_albums(uri, album_type='album')\n",
    "albums = search['items']\n",
    "while search['next']:\n",
    "    search = spotify_api.next(search)\n",
    "    albums.extend(search['items'])\n",
    "for album in albums:\n",
    "    print(album['name'])\n"
   ]
  },
  {
   "cell_type": "code",
   "execution_count": 9,
   "metadata": {
    "collapsed": false
   },
   "outputs": [
    {
     "name": "stdout",
     "output_type": "stream",
     "text": [
      "Track: Love Yourself\n",
      "Single Sample: https://p.scdn.co/mp3-preview/56dc3be142d25a505ef6c1acb5f512c4e52b3d01?cid=null\n",
      "Cover Art: https://i.scdn.co/image/8b47495ce0c4a341f7196f70bcf4361e6257c1a0\n",
      "Track: Sorry\n",
      "Single Sample: https://p.scdn.co/mp3-preview/9a744ca0248dda247a682b6703b62c36a9127bbb?cid=null\n",
      "Cover Art: https://i.scdn.co/image/8b47495ce0c4a341f7196f70bcf4361e6257c1a0\n",
      "Track: What Do You Mean?\n",
      "Single Sample: https://p.scdn.co/mp3-preview/13da79dc4803f65092d583f6e3bdf1fc4d8344e5?cid=null\n",
      "Cover Art: https://i.scdn.co/image/8b47495ce0c4a341f7196f70bcf4361e6257c1a0\n",
      "Track: Company\n",
      "Single Sample: https://p.scdn.co/mp3-preview/d209d5eee0066c25bcb5122e45baff7492d3ec20?cid=null\n",
      "Cover Art: https://i.scdn.co/image/8b47495ce0c4a341f7196f70bcf4361e6257c1a0\n",
      "Track: Purpose\n",
      "Single Sample: https://p.scdn.co/mp3-preview/8ecdde0f24dc92e2f6a8e0b1b53d23688b92c20a?cid=null\n",
      "Cover Art: https://i.scdn.co/image/8b47495ce0c4a341f7196f70bcf4361e6257c1a0\n"
     ]
    }
   ],
   "source": [
    "\n",
    "singles_uri = 'spotify:artist:' + page['items'][0]['id']\n",
    "\n",
    "spotify = spotipy.Spotify()\n",
    "results = spotify.artist_top_tracks(track_uri)\n",
    "\n",
    "for track in results['tracks'][:5]:\n",
    "    print ('Track: ' + track['name'])\n",
    "    print ('Single Sample: ' + track['preview_url'])\n",
    "    print ('Cover Art: ' + track['album']['images'][0]['url'])"
   ]
  },
  {
   "cell_type": "code",
   "execution_count": null,
   "metadata": {
    "collapsed": true
   },
   "outputs": [],
   "source": []
  }
 ],
 "metadata": {
  "anaconda-cloud": {},
  "kernelspec": {
   "display_name": "Python [default]",
   "language": "python",
   "name": "python3"
  },
  "language_info": {
   "codemirror_mode": {
    "name": "ipython",
    "version": 3
   },
   "file_extension": ".py",
   "mimetype": "text/x-python",
   "name": "python",
   "nbconvert_exporter": "python",
   "pygments_lexer": "ipython3",
   "version": "3.5.2"
  }
 },
 "nbformat": 4,
 "nbformat_minor": 2
}
