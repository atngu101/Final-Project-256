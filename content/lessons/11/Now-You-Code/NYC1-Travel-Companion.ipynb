{
 "cells": [
  {
   "cell_type": "markdown",
   "metadata": {},
   "source": [
    "# Now You Code 1: Travel Companion\n",
    "\n",
    "You're heading to Europe! Write a program which when you input an amount of money in USD will convert that to GBP (British Pounts) and EUR (Euro Dollars).\n",
    "\n",
    "The program should use the API: http://fixer.io/  to calculate the exchange rates. You must read and review the API before beginning.\n",
    "\n",
    "Example Run (Based on the exchange rates from 2017-03-06:\n",
    "\n",
    "```\n",
    "Enter the amount in USD you wish to exchange: 100\n",
    "100.00 in USD is 94.41 in EUR\n",
    "100.00 in USD is 81.48 in GBP\n",
    "```\n"
   ]
  },
  {
   "cell_type": "code",
   "execution_count": 55,
   "metadata": {
    "collapsed": false
   },
   "outputs": [],
   "source": [
    "# Write your plan (todo list) here\n",
    "# input usd dollar amount and conver to float\n",
    "# set paramters. comparison to USD\n",
    "# read data from JSON.\n",
    "# get url with API\n",
    "# convert USD to EUR\n",
    "    # get rates for EUR\n",
    "    # Multiply by the input of USD\n",
    "#  convert USD to GBP\n",
    "    # get rates fro GBP\n",
    "    # Multiply by the input of USD\\\n",
    "# print the values\n",
    "# values are update every few hours\n",
    "# import request\n",
    "import requests"
   ]
  },
  {
   "cell_type": "code",
   "execution_count": 56,
   "metadata": {
    "collapsed": false
   },
   "outputs": [
    {
     "name": "stdout",
     "output_type": "stream",
     "text": [
      "Enter the amount in USD you wish to exchange: 100\n",
      "100.00 in USD is 94.07 in EUR\n",
      "100.00 in USD is 80.50 in GBP\n"
     ]
    }
   ],
   "source": [
    "#todo write code here. \n",
    "usd = float(input(\"Enter the amount in USD you wish to exchange: \"))\n",
    "\n",
    "params = { 'base' : 'USD' } # USD\n",
    "url = 'http://api.fixer.io/latest'\n",
    "response = requests.get(url, params=params)\n",
    "exchange = response.json()\n",
    "euro = exchange['rates']['EUR']\n",
    "euro_exchange = euro * usd\n",
    "pounds = exchange['rates']['GBP']\n",
    "pounds_exchange = pounds * usd\n",
    "print('%.2f'% usd, 'in USD is', '%.2f'% euro_exchange, 'in EUR')\n",
    "print('%.2f'% usd, 'in USD is', '%.2f'% pounds_exchange, 'in GBP')"
   ]
  },
  {
   "cell_type": "code",
   "execution_count": null,
   "metadata": {
    "collapsed": true
   },
   "outputs": [],
   "source": []
  }
 ],
 "metadata": {
  "anaconda-cloud": {},
  "kernelspec": {
   "display_name": "Python [default]",
   "language": "python",
   "name": "python3"
  },
  "language_info": {
   "codemirror_mode": {
    "name": "ipython",
    "version": 3
   },
   "file_extension": ".py",
   "mimetype": "text/x-python",
   "name": "python",
   "nbconvert_exporter": "python",
   "pygments_lexer": "ipython3",
   "version": "3.5.2"
  }
 },
 "nbformat": 4,
 "nbformat_minor": 0
}
