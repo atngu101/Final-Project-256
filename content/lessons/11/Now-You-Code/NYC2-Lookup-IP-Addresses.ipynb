{
 "cells": [
  {
   "cell_type": "markdown",
   "metadata": {},
   "source": [
    "# Now You Code 2: IP Addresses\n",
    "\n",
    "For this Now You Code, you will complete a very common task in data analytics: converting an IP address to an approximate location.\n",
    "\n",
    "Write a program to read the IP Addresses from the File `NYC2-IP-Addresses.txt` and for each IP address determine the approximate location (City and State) for the origin of that IP Address. This is usually done as part of analytics to determine the origins of website visitors. \n",
    "\n",
    "To perform the lookups, use the http://freegeoip.net API. You'll have to read through the API documentation first and understand how to use the API before you write the entire program.  \n",
    "\n",
    "As a first step I highly recommed that you get just the IP lookup working, perhaps writing it as a function,  and then try to read from the file and perform the lookups for each IP address in the file.\n",
    "\n",
    "Here's a sample of a geoip lookup of the IP Address `'128.230.182.217'`\n",
    "\n",
    "```\n",
    "{'city': 'Syracuse',\n",
    " 'country_code': 'US',\n",
    " 'country_name': 'United States',\n",
    " 'ip': '128.230.182.217',\n",
    " 'latitude': 43.0377,\n",
    " 'longitude': -76.1396,\n",
    " 'metro_code': 555,\n",
    " 'region_code': 'NY',\n",
    " 'region_name': 'New York',\n",
    " 'time_zone': 'America/New_York',\n",
    " 'zip_code': '13244'}\n",
    "```\n",
    "\n",
    "In this example the city and state would be `Syracuse, NY`\n",
    "\n",
    "\n",
    "Final Program Output:\n",
    "\n",
    "```\n",
    "IP: 128.122.140.238 LOCATION: New York,NY\n",
    "IP: 23.112.232.160 LOCATION: Green Bay,WI\n",
    "IP: 23.192.215.44 LOCATION: Cambridge,MA\n",
    "IP: 23.224.160.4 LOCATION: Cheyenne,WY\n",
    "IP: 23.230.12.5 LOCATION: San Jose,CA\n",
    "IP: 23.80.125.101 LOCATION: Phoenix,AZ\n",
    "IP: 23.83.132.200 LOCATION: Phoenix,AZ\n",
    "IP: 23.88.15.5 LOCATION: Los Angeles,CA\n",
    "IP: 24.0.14.56 LOCATION: Iselin,NJ\n",
    "IP: 24.1.25.140 LOCATION: Chicago,IL\n",
    "IP: 24.11.125.10 LOCATION: Orem,UT\n",
    "IP: 24.38.114.105 LOCATION: Matawan,NJ\n",
    "IP: 24.38.224.161 LOCATION: Darien,CT\n",
    "IP: 56.216.127.219 LOCATION: Raleigh,NC\n",
    "IP: 68.199.40.156 LOCATION: Elmont,NY\n",
    "IP: 74.111.18.59 LOCATION: Auburn,NY\n",
    "IP: 74.111.6.173 LOCATION: Liverpool,NY\n",
    "IP: 98.29.25.44 LOCATION: Dayton,OH\n",
    "```\n"
   ]
  },
  {
   "cell_type": "code",
   "execution_count": 2,
   "metadata": {
    "collapsed": true
   },
   "outputs": [],
   "source": [
    "# todo write logic (todo list here)\n",
    "# define function load ip address\n",
    "# open filename\n",
    "# append to larger empty list\n",
    "# load json file from web ip\n",
    "# ip = call to function\n",
    "# loop json loader of ip address\n",
    "# loop print statement\n",
    "import requests\n",
    "filename= 'NYC2-IP-Addresses.txt'"
   ]
  },
  {
   "cell_type": "code",
   "execution_count": 8,
   "metadata": {
    "collapsed": false
   },
   "outputs": [
    {
     "name": "stdout",
     "output_type": "stream",
     "text": [
      "IP: 128.122.140.238 LOCATION: New York , NY\n",
      "IP: 23.112.232.160 LOCATION: Green Bay , WI\n",
      "IP: 23.192.215.44 LOCATION: Cambridge , MA\n",
      "IP: 23.224.160.4 LOCATION: Cheyenne , WY\n",
      "IP: 23.230.12.5 LOCATION: San Jose , CA\n",
      "IP: 23.80.125.101 LOCATION: Phoenix , AZ\n",
      "IP: 23.83.132.200 LOCATION: Phoenix , AZ\n",
      "IP: 23.88.15.5 LOCATION: Los Angeles , CA\n",
      "IP: 24.0.14.56 LOCATION: Iselin , NJ\n",
      "IP: 24.1.25.140 LOCATION: Chicago , IL\n",
      "IP: 24.11.125.10 LOCATION: Orem , UT\n",
      "IP: 24.38.114.105 LOCATION: Matawan , NJ\n",
      "IP: 24.38.224.161 LOCATION: Darien , CT\n",
      "IP: 56.216.127.219 LOCATION: Raleigh , NC\n",
      "IP: 68.199.40.156 LOCATION: Elmont , NY\n",
      "IP: 74.111.18.59 LOCATION: Auburn , NY\n",
      "IP: 74.111.6.173 LOCATION: Liverpool , NY\n",
      "IP: 98.29.25.44 LOCATION: Dayton , OH\n"
     ]
    }
   ],
   "source": [
    "# write code here\n",
    "def load_ip():\n",
    "    ip_ad = []\n",
    "    with open(filename,'r') as f:\n",
    "        for line in f:\n",
    "            ip_ad.append(line.strip())\n",
    "            ip_ad.sort()\n",
    "    return ip_ad\n",
    "\n",
    "ip = load_ip()\n",
    "\n",
    "# main program and json loader\n",
    "for i in ip:\n",
    "    response = requests.get('http://freegeoip.net/json/' + i)\n",
    "    address = response.json()\n",
    "    location = address['region_code']\n",
    "    city = address['city']\n",
    "    print('IP:', i, 'LOCATION:', city,',',location)"
   ]
  },
  {
   "cell_type": "code",
   "execution_count": null,
   "metadata": {
    "collapsed": true
   },
   "outputs": [],
   "source": [
    "import requests\n",
    "# Now I can write the entire program...\n",
    "location = input(\"Where are you? (eg. Syracuse, NY) : \")\n",
    "geodata = google_geocode(location)\n",
    "coords =geodata['results'][0]['geometry']['location']\n",
    "weather = darksky_weather(coords)\n",
    "current = weather['currently']\n",
    "print(\"Current conditions in %s are %s with a temperature of %.0f degrees.\" % \n",
    "      (location, current['summary'], current['temperature']))"
   ]
  },
  {
   "cell_type": "code",
   "execution_count": 88,
   "metadata": {
    "collapsed": false
   },
   "outputs": [
    {
     "data": {
      "text/plain": [
       "{'city': 'New York',\n",
       " 'country_code': 'US',\n",
       " 'country_name': 'United States',\n",
       " 'ip': '128.122.140.238',\n",
       " 'latitude': 40.7317,\n",
       " 'longitude': -73.9885,\n",
       " 'metro_code': 501,\n",
       " 'region_code': 'NY',\n",
       " 'region_name': 'New York',\n",
       " 'time_zone': 'America/New_York',\n",
       " 'zip_code': '10003'}"
      ]
     },
     "execution_count": 88,
     "metadata": {},
     "output_type": "execute_result"
    }
   ],
   "source": [
    "ip = '128.122.140.238' \n",
    "response = requests.get('http://freegeoip.net/json/' + ip)\n",
    "address = response.json()\n",
    "address"
   ]
  }
 ],
 "metadata": {
  "anaconda-cloud": {},
  "kernelspec": {
   "display_name": "Python [default]",
   "language": "python",
   "name": "python3"
  },
  "language_info": {
   "codemirror_mode": {
    "name": "ipython",
    "version": 3
   },
   "file_extension": ".py",
   "mimetype": "text/x-python",
   "name": "python",
   "nbconvert_exporter": "python",
   "pygments_lexer": "ipython3",
   "version": "3.5.2"
  }
 },
 "nbformat": 4,
 "nbformat_minor": 0
}
