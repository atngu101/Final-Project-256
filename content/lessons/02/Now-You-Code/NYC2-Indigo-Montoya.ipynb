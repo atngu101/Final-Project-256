{
 "cells": [
  {
   "cell_type": "markdown",
   "metadata": {},
   "source": [
    "# Now You Code 1: Indigo Montoya\n",
    "\n",
    "[The Pricess Bride](https://www.rottentomatoes.com/m/princess_bride/) is an adventure film from the 80's, a true cult classic. One of the many notable scenes involves a character Indigo Montoya who explains his character's motivation for revenge through the catch-phase:\n",
    "\n",
    "\"Hello. My name is Indigo Montoya. You killed my father. Prepare to die!\"\n",
    "\n",
    "You can watch the clip here: [https://www.youtube.com/watch?v=YY4cnMmo9qw](https://www.youtube.com/watch?v=YY4cnMmo9qw)\n",
    "\n",
    "Write a program in Python which asks the user to enter **your name**, a **relative** and an **past-tense action**. For example if you enter \"Indigo Montoya\", \"Father\" and \"killed\", the program will then output:\n",
    "\n",
    "\"Hello. My name is Indigo Montoya. You killed my father. Prepare to die!\"\n",
    "\n",
    "Or you could input \"Mike Fudge\", \"Uncle\" and \"Tickled\" to get:\n",
    "\n",
    "\"Hello. My name is Mike Fudge. You Tickled my Uncle. Prepare to die!\"\n"
   ]
  },
  {
   "cell_type": "code",
   "execution_count": 9,
   "metadata": {
    "collapsed": false
   },
   "outputs": [
    {
     "name": "stdout",
     "output_type": "stream",
     "text": [
      "Full name: Alan Nguyen\n",
      "A relative: Aunt\n",
      "Past-Tense action: ate\n",
      "Hello. My name is  Alan Nguyen . You ate my Aunt . Prepare to die!\n"
     ]
    }
   ],
   "source": [
    "name=input('Full name: ')\n",
    "relative=input('A relative: ')\n",
    "action=input('Past-Tense action: ')\n",
    "print('Hello. My name is ', name, '.','You', action, 'my', relative, '.', 'Prepare to die!')"
   ]
  },
  {
   "cell_type": "code",
   "execution_count": null,
   "metadata": {
    "collapsed": true
   },
   "outputs": [],
   "source": []
  }
 ],
 "metadata": {
  "anaconda-cloud": {},
  "kernelspec": {
   "display_name": "Python [default]",
   "language": "python",
   "name": "python3"
  },
  "language_info": {
   "codemirror_mode": {
    "name": "ipython",
    "version": 3
   },
   "file_extension": ".py",
   "mimetype": "text/x-python",
   "name": "python",
   "nbconvert_exporter": "python",
   "pygments_lexer": "ipython3",
   "version": "3.5.2"
  }
 },
 "nbformat": 4,
 "nbformat_minor": 0
}
