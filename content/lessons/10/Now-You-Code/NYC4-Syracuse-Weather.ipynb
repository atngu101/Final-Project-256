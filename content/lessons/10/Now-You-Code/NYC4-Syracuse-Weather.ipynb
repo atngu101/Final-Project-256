{
 "cells": [
  {
   "cell_type": "markdown",
   "metadata": {},
   "source": [
    "# Now You Code 4: Syracuse Weather\n",
    "\n",
    "Write a program to load the Syracuse weather data from Dec 2015 in\n",
    "JSON format into a Python list of dictionary. \n",
    "\n",
    "The file with the weather data is in your `Now-You-Code` folder: `\"NYC4-syr-weather-dec-2015.json\"`\n",
    "\n",
    "You should load this data into a Python list of dictionary using the `json` package. \n",
    "\n",
    "After you load this data calculate the number of days where the Average Daily Temperature ('Mean TemperatureF') is ABOVE freezing:\n",
    "\n",
    "Store the days above freezing and below freezing into a Python dictionary\n",
    "and then print out the dictionary like this:\n",
    "```\n",
    "{'below-freezing': 4, 'above-freezing': 27}\n",
    "```\n",
    "\n",
    "Make sure to plan out your steps with a to-do list BEFORE you write code. "
   ]
  },
  {
   "cell_type": "code",
   "execution_count": null,
   "metadata": {
    "collapsed": true
   },
   "outputs": [],
   "source": [
    "# TODO: Write steps here\n",
    "# import json\n",
    "# function load_data()\n",
    "    # open json file as f (handle)\n",
    "    # load json data\n",
    "    # return function\n",
    "# count = 0\n",
    "# conditional if temperature is below certain temperature print value\n",
    "# else different value (Above)\n",
    "# print final above and below."
   ]
  },
  {
   "cell_type": "code",
   "execution_count": 6,
   "metadata": {
    "collapsed": false
   },
   "outputs": [
    {
     "name": "stdout",
     "output_type": "stream",
     "text": [
      "There were 27 days above average, and 4 days below average\n"
     ]
    }
   ],
   "source": [
    "# TODO Write code here\n",
    "import json\n",
    "def load_data():\n",
    "    with open('NYC4-syr-weather-dec-2015.json', encoding='utf8') as f:\n",
    "        data = f.read()\n",
    "        wData = json.loads(data)\n",
    "        return wData\n",
    "wData = load_data()\n",
    "\n",
    "numAbove = numBelow = 0\n",
    "for w in wData:\n",
    "    if( w.get('Mean TemperatureF', 0) <= 32):\n",
    "        numBelow += 1\n",
    "    else:\n",
    "        numAbove += 1\n",
    "    \n",
    "print(\"There were %d days above average, and %d days below average\" % (numAbove, numBelow))"
   ]
  },
  {
   "cell_type": "code",
   "execution_count": null,
   "metadata": {
    "collapsed": true
   },
   "outputs": [],
   "source": [
    "def getStats(temp=32):\n",
    "    numAbove = numBelow = 0\n",
    "    for w in wData:\n",
    "        if( w.get('Mean TemperatureF', 0) <= 32):\n",
    "            numBelow += 1\n",
    "        else:\n",
    "            numAbove += 1\n",
    "    return (numBelow, numAbove)\n",
    "wData = load_data()\n",
    "temp = 50\n",
    "daysBelow, daysAbove = getStats(32)"
   ]
  }
 ],
 "metadata": {
  "anaconda-cloud": {},
  "kernelspec": {
   "display_name": "Python [default]",
   "language": "python",
   "name": "python3"
  },
  "language_info": {
   "codemirror_mode": {
    "name": "ipython",
    "version": 3
   },
   "file_extension": ".py",
   "mimetype": "text/x-python",
   "name": "python",
   "nbconvert_exporter": "python",
   "pygments_lexer": "ipython3",
   "version": "3.5.2"
  }
 },
 "nbformat": 4,
 "nbformat_minor": 1
}
