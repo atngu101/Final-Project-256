{
 "cells": [
  {
   "cell_type": "markdown",
   "metadata": {},
   "source": [
    "# Now You Code 1: Address\n",
    "\n",
    "Write a Python program to input elements of your postal address and then output them as if they were an address label. The program should use a dictionary to store the address and complete two function defintions one for inputting the address and one for printing the address.\n",
    "\n",
    "**NOTE:** While you most certainly can write this program without using dictionaries or functions, the point of the exercise is to get used to using them!!!\n",
    "\n",
    "Sample Run:\n",
    "\n",
    "```\n",
    "Enter Street: 314 Hinds Hall\n",
    "Enter City: Syracuse\n",
    "Enter State: NY\n",
    "Enter Postal Zip Code: 13244\n",
    "Mailing Address:\n",
    "314 Hinds Hall\n",
    "Syracuse , NY 13244\n",
    "\n",
    "```"
   ]
  },
  {
   "cell_type": "code",
   "execution_count": 3,
   "metadata": {
    "collapsed": false
   },
   "outputs": [
    {
     "name": "stdout",
     "output_type": "stream",
     "text": [
      "Enter Street: 1516 Ponds Edge\n",
      "Enter City: Allen\n",
      "Enter State: Tx\n",
      "Enter Postal Zip Code: 75013\n",
      "[{'city': 'Allen', 'street': '1516 Ponds Edge', 'code': '75013', 'state': 'Tx'}]\n",
      "Mailing Address:\n",
      "1516 Ponds Edge\n",
      "Allen , Tx 75013\n",
      "None\n"
     ]
    }
   ],
   "source": [
    "#input: None (inputs from console)\n",
    "#output: dictionary of the address\n",
    "address= []\n",
    "def input_address():\n",
    "    dic_address= {}\n",
    "    # todo: write code here to input the street, city, state and zip code and add to dictionary\n",
    "    dic_address['street'] = input(str('Enter Street: '))\n",
    "    dic_address['city'] = input(str('Enter City: '))\n",
    "    dic_address['state'] = input(str('Enter State: '))\n",
    "    dic_address['code'] = input(str('Enter Postal Zip Code: '))\n",
    "    address.append(dic_address)\n",
    "    return ' '\n",
    "# input: address dictionary\n",
    "# output: none (outputs to console)\n",
    "def print_address(address):\n",
    "    # todo: write code to print the address (replace pass with yoru print statements)\n",
    "    for ads in address:\n",
    "        print(ads['street'])\n",
    "        print(ads['city'],',', ads[('state')], ads['code'])\n",
    "    return ' '\n",
    "    \n",
    "# main program\n",
    "print(input_address())\n",
    "print('Mailing Address:')\n",
    "for i in address:\n",
    "    print(print_address(address))\n",
    "\n",
    "# todo: call input_address, then print_address\n",
    "\n"
   ]
  },
  {
   "cell_type": "code",
   "execution_count": null,
   "metadata": {
    "collapsed": true
   },
   "outputs": [],
   "source": []
  }
 ],
 "metadata": {
  "anaconda-cloud": {},
  "kernelspec": {
   "display_name": "Python [default]",
   "language": "python",
   "name": "python3"
  },
  "language_info": {
   "codemirror_mode": {
    "name": "ipython",
    "version": 3
   },
   "file_extension": ".py",
   "mimetype": "text/x-python",
   "name": "python",
   "nbconvert_exporter": "python",
   "pygments_lexer": "ipython3",
   "version": "3.5.2"
  }
 },
 "nbformat": 4,
 "nbformat_minor": 0
}
