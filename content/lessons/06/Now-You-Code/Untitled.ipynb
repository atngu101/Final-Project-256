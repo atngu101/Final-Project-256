{
 "cells": [
  {
   "cell_type": "code",
   "execution_count": 22,
   "metadata": {
    "collapsed": false
   },
   "outputs": [
    {
     "name": "stdout",
     "output_type": "stream",
     "text": [
      "Enter character: r\n",
      "Enter Text: Retard\n",
      "The character ' r ' appears 1 times in the text\n"
     ]
    }
   ],
   "source": [
    "char = str(input('Enter character: '))\n",
    "text = str(input('Enter Text: '))\n",
    "def char_in_text(char, text):\n",
    "    count = str(text)\n",
    "    character = str(text).count(char)\n",
    "    return character\n",
    "\n",
    "print('The character', \"'\", char, \"'\", 'appears', char_in_text(char, text), 'times in the text')"
   ]
  },
  {
   "cell_type": "code",
   "execution_count": null,
   "metadata": {
    "collapsed": true
   },
   "outputs": [],
   "source": []
  }
 ],
 "metadata": {
  "kernelspec": {
   "display_name": "Python [default]",
   "language": "python",
   "name": "python3"
  },
  "language_info": {
   "codemirror_mode": {
    "name": "ipython",
    "version": 3
   },
   "file_extension": ".py",
   "mimetype": "text/x-python",
   "name": "python",
   "nbconvert_exporter": "python",
   "pygments_lexer": "ipython3",
   "version": "3.5.2"
  }
 },
 "nbformat": 4,
 "nbformat_minor": 2
}
