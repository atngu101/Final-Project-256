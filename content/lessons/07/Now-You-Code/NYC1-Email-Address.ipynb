{
 "cells": [
  {
   "cell_type": "markdown",
   "metadata": {},
   "source": [
    "# Now You Code 1: Is That An Email Address\n",
    "\n",
    "Let's use Python's built-in string functions to write our own function to detect if a string is an email address. \n",
    "\n",
    "The function `isEmail(text)` should return `True` when `text` is an email address, `False` otherwise.  \n",
    "\n",
    "For simplicity's sake we will define an email address to be of the form: `username@domain` where `username` and `domain` are strings, too. This means `@syr.edu` is not an email because it is missing `username` in front of the `@` \n",
    "\n",
    "There should only be ONE `@` symbol!\n",
    "\n",
    "The program should detect emails until you enter quit. \n",
    "\n",
    "Sample run:\n",
    "```\n",
    "Email address detector. Type quit to exit. \n",
    "Email: mafudge@syr.edu\n",
    "mafudge@syr.edu ==> email\n",
    "Email: mafudge@\n",
    "mafudge@ ==> NOT EMAIL\n",
    "Email: mafudge\n",
    "mafudge ==> NOT EMAIL\n",
    "Email: @syr.edu\n",
    "@syr.edu ==> NOT EMAIL\n",
    "Email: @\n",
    "@ ==> NOT EMAIL\n",
    "Email: mafudge@@syr.edu\n",
    "mafudge@@syr.edu ==> NOT EMAIL\n",
    "Email: mafudge@syr@edu\n",
    "mafudge@syr@edu ==> NOT EMAIL\n",
    "```\n",
    "Suggested approach:\n",
    "\n",
    "1. Start by writing your TODO list.\n",
    "2. Write your code\n",
    "3. Refactor into a user-defined function."
   ]
  },
  {
   "cell_type": "code",
   "execution_count": null,
   "metadata": {
    "collapsed": true
   },
   "outputs": [],
   "source": [
    "## TODO List\n",
    "# import string\n",
    "# Define isEmail Function.\n",
    "# Write conditional statement\n",
    "#loop statement\n"
   ]
  },
  {
   "cell_type": "code",
   "execution_count": 1,
   "metadata": {
    "collapsed": false
   },
   "outputs": [
    {
     "name": "stdout",
     "output_type": "stream",
     "text": [
      "Email address detector. Type quit to exit.\n",
      "Email: mafudge@syr.edu\n",
      "mafudge@syr.edu ==> EMAIL\n",
      "Email: mafudge@\n",
      "mafudge@ ==> NOT AN EMAIL\n",
      "Email: maduge\n",
      "maduge ==> NOT AN EMAIL\n",
      "Email: @syr.edu\n",
      "@syr.edu ==> NOT AN EMAIL\n",
      "Email: syr@@syr.edu\n",
      "syr@@syr.edu ==> NOT AN EMAIL\n",
      "Email: mduge@syr@edu\n",
      "mduge@syr@edu ==> NOT AN EMAIL\n",
      "Email: quit\n"
     ]
    }
   ],
   "source": [
    "import string\n",
    "print('Email address detector. Type quit to exit.')\n",
    "\n",
    "while True: \n",
    "    email = input('Email: ')\n",
    "    def isEmail(email):\n",
    "        suffix = (\"@syr.edu\")\n",
    "        end = email.endswith(suffix)\n",
    "        return end\n",
    "    if isEmail(email) == True and email != \"@syr.edu\" and email.count('@') == 1:\n",
    "        print(email, '==> EMAIL')\n",
    "    elif email == 'quit':\n",
    "        break\n",
    "    else:\n",
    "        print(email,'==> NOT AN EMAIL')"
   ]
  },
  {
   "cell_type": "code",
   "execution_count": null,
   "metadata": {
    "collapsed": true
   },
   "outputs": [],
   "source": []
  }
 ],
 "metadata": {
  "anaconda-cloud": {},
  "kernelspec": {
   "display_name": "Python [default]",
   "language": "python",
   "name": "python3"
  },
  "language_info": {
   "codemirror_mode": {
    "name": "ipython",
    "version": 3
   },
   "file_extension": ".py",
   "mimetype": "text/x-python",
   "name": "python",
   "nbconvert_exporter": "python",
   "pygments_lexer": "ipython3",
   "version": "3.5.2"
  }
 },
 "nbformat": 4,
 "nbformat_minor": 0
}
