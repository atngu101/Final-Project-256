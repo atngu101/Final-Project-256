{
 "cells": [
  {
   "cell_type": "markdown",
   "metadata": {},
   "source": [
    "# Now You Code 1: Vote or Retire?\n",
    "\n",
    "Write a program to ask for your age as input, then output whether or not you can vote and whether your not you can retire. Let's assume the voting age is 18 or higher, and the retirement age is 65 or higher.\n",
    "\n",
    "**NOTE:** This program is making two seprate decisions, and thus should have two separate if else statements.\n",
    "\n",
    "Example Run:\n",
    "\n",
    "```\n",
    "Enter your age: 45\n",
    "You can vote.\n",
    "You cannot retire.\n",
    "```\n",
    "\n",
    "After you get that working, surround your code with `try... except` so that the program handles bad input:\n",
    "\n",
    "Example run:\n",
    "\n",
    "```\n",
    "Enter your age: threve\n",
    "That's not an age!\n",
    "```\n",
    "\n",
    "Start out the program by writing your initial todo list (without the `try...except`)"
   ]
  },
  {
   "cell_type": "code",
   "execution_count": 4,
   "metadata": {
    "collapsed": false
   },
   "outputs": [
    {
     "name": "stdout",
     "output_type": "stream",
     "text": [
      "Enter your age: 19\n",
      "You can vote.\n",
      "You can't retire.\n"
     ]
    }
   ],
   "source": [
    "##TODO List\n",
    "# Enter your age in an integer \n",
    "# Make sure it is an age\n",
    "# if it is a certain age then they can vote\n",
    "# else then they can't vote\n",
    "try:\n",
    "    you = int(input('Enter your age: '))\n",
    "\n",
    "\n",
    "    if (you >= 18 and you >= 65): \n",
    "        print(\"You can vote.\")\n",
    "        print('You can retire.')\n",
    "    elif (you < 18 and you <65):\n",
    "        print(\"You can't vote.\")\n",
    "        print(\"You can't retire.\")\n",
    "    elif (you >= 18 and you < 65):\n",
    "        print('You can vote.')\n",
    "        print(\"You can't retire.\")\n",
    "        \n",
    "except ValueError:\n",
    "    print('That is not an age!')\n",
    "   \n",
    "\n",
    "\n"
   ]
  },
  {
   "cell_type": "code",
   "execution_count": null,
   "metadata": {
    "collapsed": false
   },
   "outputs": [],
   "source": [
    "## TODO Write code here"
   ]
  }
 ],
 "metadata": {
  "anaconda-cloud": {},
  "kernelspec": {
   "display_name": "Python [default]",
   "language": "python",
   "name": "python3"
  },
  "language_info": {
   "codemirror_mode": {
    "name": "ipython",
    "version": 3
   },
   "file_extension": ".py",
   "mimetype": "text/x-python",
   "name": "python",
   "nbconvert_exporter": "python",
   "pygments_lexer": "ipython3",
   "version": "3.5.2"
  }
 },
 "nbformat": 4,
 "nbformat_minor": 0
}
