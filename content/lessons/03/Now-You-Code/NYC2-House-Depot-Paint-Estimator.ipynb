{
 "cells": [
  {
   "cell_type": "markdown",
   "metadata": {},
   "source": [
    "# Now You Code 2: House Depot Paint Estimator\n",
    "\n",
    "The big-box hardware store *House Depot* as contracted you to write an App to estimate the amount of paint required to paint a room. Given that 1 gallon of paint covers 400 square feet, you must output the number of paint cans required to paint a rectangular room.\n",
    "\n",
    "The program should input:\n",
    "\n",
    "- the length of the room in feet, \n",
    "- the width of the room in feet,\n",
    "- the height of the room in feet\n",
    "\n",
    "The program should output:\n",
    "\n",
    "- total area to be painted ( sum of each of the 4 walls)\n",
    "- the number of gallons of paint required to paint the room.\n",
    "\n",
    "Example:\n",
    "\n",
    "```\n",
    "Enter length of room: 12\n",
    "Enter width of room: 14\n",
    "Enter height of room: 8\n",
    "Total area to be painted: 416.00\n",
    "Total gallons of paint requried: 2\n",
    "```\n",
    "\n",
    "HINT: Use the `math.ceil()` function to round your number of gallons up to the nearest whole number \n",
    "\n",
    "\n",
    "**Start out your program by writing your TODO list of steps you'll need to solve the problems.**\n"
   ]
  },
  {
   "cell_type": "code",
   "execution_count": 3,
   "metadata": {
    "collapsed": false
   },
   "outputs": [],
   "source": [
    "# To-Do list here\n",
    "# Enter the Length of the Room in feet\n",
    "# Enter the Width of the Room in feet\n",
    "# Enter the Height of the room\n",
    "# The Total Area to be painted\n",
    "# Gallons needed to pain the room"
   ]
  },
  {
   "cell_type": "code",
   "execution_count": 33,
   "metadata": {
    "collapsed": false
   },
   "outputs": [
    {
     "name": "stdout",
     "output_type": "stream",
     "text": [
      "Enter the Length of the Room: 12\n",
      "Enter the Width of the Room: 14\n",
      "Enter the Height of the Room: 8\n",
      "Total Area needed to be Painted: 416.00\n",
      "Gallons needed to pain the room: 2\n"
     ]
    }
   ],
   "source": [
    "import math # you need this to use math.ceil() \n",
    "length= int(input('Enter the Length of the Room: '))\n",
    "width= int(input('Enter the Width of the Room: '))\n",
    "height= int(input('Enter the Height of the Room: '))\n",
    "area_total=math.ceil((2 * (height * length)) + (2* (height * width)))\n",
    "paint_total=math.ceil(area_total/400)\n",
    "print('Total Area needed to be Painted:', '%.2f' % area_total)\n",
    "print('Gallons needed to pain the room:', paint_total)\n"
   ]
  },
  {
   "cell_type": "markdown",
   "metadata": {},
   "source": []
  }
 ],
 "metadata": {
  "anaconda-cloud": {},
  "kernelspec": {
   "display_name": "Python [default]",
   "language": "python",
   "name": "python3"
  },
  "language_info": {
   "codemirror_mode": {
    "name": "ipython",
    "version": 3
   },
   "file_extension": ".py",
   "mimetype": "text/x-python",
   "name": "python",
   "nbconvert_exporter": "python",
   "pygments_lexer": "ipython3",
   "version": "3.5.2"
  }
 },
 "nbformat": 4,
 "nbformat_minor": 0
}
