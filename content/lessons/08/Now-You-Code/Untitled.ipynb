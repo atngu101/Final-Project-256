{
 "cells": [
  {
   "cell_type": "code",
   "execution_count": null,
   "metadata": {
    "collapsed": false
   },
   "outputs": [
    {
     "name": "stdout",
     "output_type": "stream",
     "text": [
      "Enter Text: I am happy\n",
      "1 positive\n",
      "Enter Text: I happy but sad about amazon\n",
      "0 neutral\n",
      "Enter Text: quit\n"
     ]
    }
   ],
   "source": [
    "filename = \"NYC3-pos.txt\", \"NYC3-neg.txt\"\n",
    "# TODO: Write Todo list then beneath write your code\n",
    "# Link the pos and neg .text\n",
    "# Write code here\n",
    "def load_words(filename):\n",
    "    with open(filename, 'r') as handle:\n",
    "        return(handle.read().split(' '))\n",
    "\n",
    "    \n",
    "while True:\n",
    "    pos = load_words(\"NYC3-pos.txt\")\n",
    "    neg = load_words(\"NYC3-neg.txt\")\n",
    "    text = input('Enter Text: ')\n",
    "    if text == 'quit':\n",
    "        break\n",
    "        \n",
    "    def senti(pos, neg, text):\n",
    "        senti = 0\n",
    "        tokens = text.split(' ')\n",
    "        for word in tokens:\n",
    "            if word in pos:\n",
    "                senti = senti + 1\n",
    "            elif word in neg:\n",
    "                senti = senti - 1\n",
    "\n",
    "        if senti > 0:\n",
    "            print(senti, 'positive')\n",
    "        elif senti < 0:\n",
    "            print(senti, 'negative')\n",
    "        elif senti == 0:\n",
    "            print(senti, 'neutral')\n",
    "\n",
    "    senti(pos, neg, text)\n",
    "\n"
   ]
  },
  {
   "cell_type": "code",
   "execution_count": null,
   "metadata": {
    "collapsed": true
   },
   "outputs": [],
   "source": [
    "filename = \"NYC2-shopping-list.txt\"\n",
    "print(\"Let's make a shopping list. Type 'done' when you're finished:\")\n",
    "##TODO write code here\n",
    "count = 0\n",
    "with open (filename,'w') as handle:\n",
    "    while True:\n",
    "        text = input('Enter Item: ')\n",
    "        if text.lower() == 'done':\n",
    "            print('Your Shopping List: ')\n",
    "            break\n",
    "        handle.write(text + \"\\n\")\n",
    "        \n",
    "file = open(\"NYC2-shopping-list.txt\", \"r\")         \n",
    "print(file.read())"
   ]
  },
  {
   "cell_type": "code",
   "execution_count": 1,
   "metadata": {
    "collapsed": true
   },
   "outputs": [],
   "source": [
    "'''\n",
    "Now You Code 4: Email Harvesting Training\n",
    "\n",
    "Description\n",
    "\n",
    "Write a program to extract the email addresses from the mailbox\n",
    "file \"NYC4-mbox-short.txt\" and save them into another file\n",
    "\"NYC4-emails.txt\" with one extracted email address per line.\n",
    "\n",
    "The best way to find the emails in the mailbox file is to search\n",
    "for lines in the file that begin with \"From:\". When you find an email\n",
    "write just the address (not \"From:\" and the address) to\n",
    "\"NYC4-emails.txt\", and don't worry about duplicates.\n",
    "\n",
    "The program should print the number of emails it wrote to the file.\n",
    "\n",
    "Example Run:\n",
    "\n",
    "Wrote 27 emails to NYC4-emails.txt\n",
    "\n",
    "\n",
    "Start out your program by writing your TODO list of steps\n",
    "you'll need to solve the problem!\n",
    "'''\n"
   ]
  },
  {
   "cell_type": "code",
   "execution_count": 3,
   "metadata": {
    "collapsed": false
   },
   "outputs": [
    {
     "name": "stdout",
     "output_type": "stream",
     "text": [
      "Enter emails to write to the email list. Type \"done\" when you are done.\n",
      "Enter an Email: cool@gmail.com\n"
     ]
    },
    {
     "ename": "UnsupportedOperation",
     "evalue": "not readable",
     "output_type": "error",
     "traceback": [
      "\u001b[0;31m---------------------------------------------------------------------------\u001b[0m",
      "\u001b[0;31mUnsupportedOperation\u001b[0m                      Traceback (most recent call last)",
      "\u001b[0;32m<ipython-input-3-06ba4fd6df0d>\u001b[0m in \u001b[0;36m<module>\u001b[0;34m()\u001b[0m\n\u001b[1;32m     11\u001b[0m         \u001b[0mcount\u001b[0m \u001b[1;33m+=\u001b[0m \u001b[1;36m1\u001b[0m\u001b[1;33m\u001b[0m\u001b[0m\n\u001b[1;32m     12\u001b[0m         \u001b[1;32mwith\u001b[0m \u001b[0mopen\u001b[0m\u001b[1;33m(\u001b[0m\u001b[1;34m\"NYC4-emails.txt\"\u001b[0m\u001b[1;33m,\u001b[0m \u001b[1;34m\"w\"\u001b[0m\u001b[1;33m)\u001b[0m \u001b[1;32mas\u001b[0m \u001b[0mhandle\u001b[0m\u001b[1;33m:\u001b[0m\u001b[1;33m\u001b[0m\u001b[0m\n\u001b[0;32m---> 13\u001b[0;31m                 \u001b[1;32mfor\u001b[0m \u001b[0mline\u001b[0m \u001b[1;32min\u001b[0m \u001b[0mf\u001b[0m\u001b[1;33m:\u001b[0m\u001b[1;33m\u001b[0m\u001b[0m\n\u001b[0m\u001b[1;32m     14\u001b[0m                     \u001b[1;32mif\u001b[0m \u001b[0mline\u001b[0m \u001b[1;32min\u001b[0m \u001b[0memail\u001b[0m\u001b[1;33m:\u001b[0m\u001b[1;33m\u001b[0m\u001b[0m\n\u001b[1;32m     15\u001b[0m                         \u001b[0mhandle\u001b[0m\u001b[1;33m.\u001b[0m\u001b[0mwrite\u001b[0m\u001b[1;33m(\u001b[0m\u001b[0mline\u001b[0m\u001b[1;33m)\u001b[0m\u001b[1;33m\u001b[0m\u001b[0m\n",
      "\u001b[0;31mUnsupportedOperation\u001b[0m: not readable"
     ]
    }
   ],
   "source": [
    "filename = \"NYC4-emails.txt\", \"NYC4-mbox-short.txt\"\n",
    "count = 0\n",
    "\n",
    "print('Enter emails to write to the email list. Type \"done\" when you are done.')\n",
    "\n",
    "with open(\"NYC4-mbox-short.txt\", \"w\") as f:\n",
    "    while True:\n",
    "        email = input('Enter an Email: ')\n",
    "        if email.lower() == 'done':\n",
    "            break\n",
    "        count += 1\n",
    "        with open(\"NYC4-emails.txt\", \"w\") as handle:\n",
    "                for line in f:\n",
    "                    if line in email:\n",
    "                        handle.write(line)\n",
    "                    \n",
    "print('Wrote', count, 'emails to NYC-emails.txt')"
   ]
  },
  {
   "cell_type": "code",
   "execution_count": 5,
   "metadata": {
    "collapsed": false
   },
   "outputs": [
    {
     "name": "stdout",
     "output_type": "stream",
     "text": [
      "Wrote 27 emails to NYC-emails.txt\n"
     ]
    }
   ],
   "source": [
    "filename = \"NYC4-emails.txt\", \"NYC4-mbox-short.txt\"\n",
    "count = 0\n",
    "with open(\"NYC4-emails.txt\") as f:\n",
    "    with open(\"NYC4-mbox-short.txt\", \"w\") as handle:\n",
    "        for line in f:\n",
    "            if \"@\" in line:\n",
    "                handle.write(line)\n",
    "                count += 1\n",
    "print('Wrote', count, 'emails to NYC-emails.txt')"
   ]
  },
  {
   "cell_type": "code",
   "execution_count": null,
   "metadata": {
    "collapsed": true
   },
   "outputs": [],
   "source": []
  }
 ],
 "metadata": {
  "anaconda-cloud": {},
  "kernelspec": {
   "display_name": "Python [default]",
   "language": "python",
   "name": "python3"
  },
  "language_info": {
   "codemirror_mode": {
    "name": "ipython",
    "version": 3
   },
   "file_extension": ".py",
   "mimetype": "text/x-python",
   "name": "python",
   "nbconvert_exporter": "python",
   "pygments_lexer": "ipython3",
   "version": "3.5.2"
  }
 },
 "nbformat": 4,
 "nbformat_minor": 2
}
