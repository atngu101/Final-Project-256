{
 "cells": [
  {
   "cell_type": "code",
   "execution_count": 11,
   "metadata": {
    "collapsed": false
   },
   "outputs": [
    {
     "ename": "TypeError",
     "evalue": "'_io.TextIOWrapper' object is not callable",
     "output_type": "error",
     "traceback": [
      "\u001b[0;31m---------------------------------------------------------------------------\u001b[0m",
      "\u001b[0;31mTypeError\u001b[0m                                 Traceback (most recent call last)",
      "\u001b[0;32m<ipython-input-11-50a47555c676>\u001b[0m in \u001b[0;36m<module>\u001b[0;34m()\u001b[0m\n\u001b[1;32m      5\u001b[0m \u001b[1;32mwhile\u001b[0m \u001b[1;32mTrue\u001b[0m\u001b[1;33m:\u001b[0m\u001b[1;33m\u001b[0m\u001b[0m\n\u001b[1;32m      6\u001b[0m     \u001b[1;32mwith\u001b[0m \u001b[0mopen\u001b[0m \u001b[1;33m(\u001b[0m\u001b[0mfilename\u001b[0m\u001b[1;33m,\u001b[0m\u001b[1;34m\"r\"\u001b[0m\u001b[1;33m)\u001b[0m \u001b[1;32mas\u001b[0m \u001b[0mload_words\u001b[0m\u001b[1;33m:\u001b[0m\u001b[1;33m\u001b[0m\u001b[0m\n\u001b[0;32m----> 7\u001b[0;31m         \u001b[0mpos\u001b[0m \u001b[1;33m=\u001b[0m \u001b[0mload_words\u001b[0m\u001b[1;33m(\u001b[0m\u001b[1;34m\"NYC3-pos.txt\"\u001b[0m\u001b[1;33m)\u001b[0m\u001b[1;33m\u001b[0m\u001b[0m\n\u001b[0m\u001b[1;32m      8\u001b[0m         \u001b[0mneg\u001b[0m \u001b[1;33m=\u001b[0m \u001b[0mload_words\u001b[0m\u001b[1;33m(\u001b[0m\u001b[1;34m\"NYC3-neg.txt\"\u001b[0m\u001b[1;33m)\u001b[0m\u001b[1;33m\u001b[0m\u001b[0m\n\u001b[1;32m      9\u001b[0m         \u001b[0mtext\u001b[0m \u001b[1;33m=\u001b[0m \u001b[0minput\u001b[0m\u001b[1;33m(\u001b[0m\u001b[1;34m'Enter Text: '\u001b[0m\u001b[1;33m)\u001b[0m\u001b[1;33m\u001b[0m\u001b[0m\n",
      "\u001b[0;31mTypeError\u001b[0m: '_io.TextIOWrapper' object is not callable"
     ]
    }
   ],
   "source": [
    "filename = \"NYC3-pos.txt\"\n",
    "filename1 = \"NYC3-neg.txt\"\n",
    "with open (filename,'r') as handle:\n",
    "    \n",
    "while True:\n",
    "    pos = load_words(\"NYC3-pos.txt\")\n",
    "    neg = load_words(\"NYC3-neg.txt\")\n",
    "    text = input('Enter Text: ')\n",
    "    if text == 'quit':\n",
    "        break\n",
    "        \n",
    "    def senti(pos, neg, text):\n",
    "        senti = 0\n",
    "        tokens = text.split(' ')\n",
    "        for word in tokens:\n",
    "            if word in pos:\n",
    "                senti = senti + 1\n",
    "            elif word in neg:\n",
    "                senti = senti - 1\n",
    "\n",
    "        if senti > 0:\n",
    "            print(senti, 'positive')\n",
    "        elif senti < 0:\n",
    "            print(senti, 'negative')\n",
    "        elif senti == 0:\n",
    "            print(senti, 'neutral')\n",
    "\n",
    "    senti(pos, neg, text)\n"
   ]
  },
  {
   "cell_type": "code",
   "execution_count": null,
   "metadata": {
    "collapsed": true
   },
   "outputs": [],
   "source": [
    "filename = \"NYC2-shopping-list.txt\"\n",
    "print(\"Let's make a shopping list. Type 'done' when you're finished:\")\n",
    "##TODO write code here\n",
    "count = 0\n",
    "with open (filename,'w') as handle:\n",
    "    while True:\n",
    "        text = input('Enter Item: ')\n",
    "        if text.lower() == 'done':\n",
    "            print('Your Shopping List: ')\n",
    "            break\n",
    "        handle.write(text + \"\\n\")\n",
    "        \n",
    "file = open(\"NYC2-shopping-list.txt\", \"r\")         \n",
    "print(file.read())"
   ]
  }
 ],
 "metadata": {
  "kernelspec": {
   "display_name": "Python [default]",
   "language": "python",
   "name": "python3"
  },
  "language_info": {
   "codemirror_mode": {
    "name": "ipython",
    "version": 3
   },
   "file_extension": ".py",
   "mimetype": "text/x-python",
   "name": "python",
   "nbconvert_exporter": "python",
   "pygments_lexer": "ipython3",
   "version": "3.5.2"
  }
 },
 "nbformat": 4,
 "nbformat_minor": 2
}
