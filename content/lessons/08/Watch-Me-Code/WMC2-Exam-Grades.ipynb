{
 "cells": [
  {
   "cell_type": "markdown",
   "metadata": {
    "collapsed": false
   },
   "source": [
    "# Watch Me Code 2: Exam Grades\n",
    "\n",
    "A simple example of reading and writing multiple lines of data to a file.\n"
   ]
  },
  {
   "cell_type": "code",
   "execution_count": 2,
   "metadata": {
    "collapsed": true
   },
   "outputs": [],
   "source": [
    "filename = \"WMC2-Grades.txt\""
   ]
  },
  {
   "cell_type": "code",
   "execution_count": 10,
   "metadata": {
    "collapsed": false
   },
   "outputs": [
    {
     "name": "stdout",
     "output_type": "stream",
     "text": [
      "Enter Exam Grade or 'quit' to exit: 100\n",
      "Enter Exam Grade or 'quit' to exit: 50\n",
      "Enter Exam Grade or 'quit' to exit: 100\n",
      "Enter Exam Grade or 'quit' to exit: 75\n",
      "Enter Exam Grade or 'quit' to exit: 95\n",
      "Enter Exam Grade or 'quit' to exit: quit\n",
      "5 grades written.\n"
     ]
    }
   ],
   "source": [
    "# Let's input a bunch of grades and write them to a file:\n",
    "count = 0\n",
    "with open (filename,'w') as outf:\n",
    "    while True:\n",
    "        text = input(\"Enter Exam Grade or 'quit' to exit: \")\n",
    "        if text.lower() == 'quit':\n",
    "            break\n",
    "        grade = float(text)\n",
    "        outf.write(str(grade) + \"\\n\")       \n",
    "        count = count + 1\n",
    "    \n",
    "print(\"%d grades written.\" % count)"
   ]
  },
  {
   "cell_type": "code",
   "execution_count": 16,
   "metadata": {
    "collapsed": false
   },
   "outputs": [
    {
     "name": "stdout",
     "output_type": "stream",
     "text": [
      "Read in 5 grades. Average is 84.00\n"
     ]
    }
   ],
   "source": [
    "# read them in\n",
    "count = 0\n",
    "total = 0\n",
    "with open(filename,'r') as inf:\n",
    "    for line in inf.readlines():\n",
    "        grade = float(line)\n",
    "        total = total + grade\n",
    "        count = count + 1\n",
    "print(\"Read in %s grades. Average is %.2f\" % (count, total/count))"
   ]
  },
  {
   "cell_type": "markdown",
   "metadata": {},
   "source": [
    "NOTE: Show this is really persistent. \n",
    "\n",
    "- open wmc1.txt from outside Jupyter.\n",
    "- edit the message. Re-run the 2nd example. "
   ]
  },
  {
   "cell_type": "code",
   "execution_count": null,
   "metadata": {
    "collapsed": true
   },
   "outputs": [],
   "source": []
  }
 ],
 "metadata": {
  "anaconda-cloud": {},
  "kernelspec": {
   "display_name": "Python [default]",
   "language": "python",
   "name": "python3"
  },
  "language_info": {
   "codemirror_mode": {
    "name": "ipython",
    "version": 3
   },
   "file_extension": ".py",
   "mimetype": "text/x-python",
   "name": "python",
   "nbconvert_exporter": "python",
   "pygments_lexer": "ipython3",
   "version": "3.5.2"
  }
 },
 "nbformat": 4,
 "nbformat_minor": 0
}
