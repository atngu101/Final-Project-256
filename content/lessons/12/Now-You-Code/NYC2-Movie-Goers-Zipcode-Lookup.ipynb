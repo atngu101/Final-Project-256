{
 "cells": [
  {
   "cell_type": "markdown",
   "metadata": {},
   "source": [
    "# Now You Code 2: Movie Goers Zipcode Lookup\n",
    "\n",
    "The movie company has hired you to help them enhance their data set. They would like to know which **US State** each of the respondents in their movie goers survey comes from, and ask you to produce a list of states and a count of movie goers from that state.\n",
    "\n",
    "The movie goers dataset `'NYC1-moviegoers.csv'` from NYC1 contains `'zip_code'` but not city and state.\n",
    "\n",
    "We will load another pandas dataset, **the Zipcode Database** here: \n",
    "`'https://raw.githubusercontent.com/mafudge/datasets/master/zipcodes/free-zipcode-database-Primary.csv'` This data set contains Zip codes with primary city, state and approximate location.\n",
    "\n",
    "Your goal is to figure out how to use the `DataFrame.merge()` method to combine these two data sets on matching zip code values.\n",
    "http://pandas.pydata.org/pandas-docs/stable/generated/pandas.DataFrame.merge.html \n",
    "\n",
    "After you merge the dataset, then you can complete the task and provide a count of movie goers by state.\n"
   ]
  },
  {
   "cell_type": "code",
   "execution_count": 2,
   "metadata": {
    "collapsed": true
   },
   "outputs": [],
   "source": [
    "# import pandas\n",
    "import pandas as pd\n",
    "\n",
    "# this turns off warning messages\n",
    "import warnings\n",
    "warnings.filterwarnings('ignore')"
   ]
  },
  {
   "cell_type": "markdown",
   "metadata": {},
   "source": [
    "### Part 1: Load the movie goers dataset into a Pandas DataFrame\n",
    "\n",
    "Write code to load the movie goers dataset (in csv format) into the variable `moviegoers` and then print the first few rows. "
   ]
  },
  {
   "cell_type": "code",
   "execution_count": 3,
   "metadata": {
    "collapsed": false
   },
   "outputs": [
    {
     "data": {
      "text/html": [
       "<div>\n",
       "<table border=\"1\" class=\"dataframe\">\n",
       "  <thead>\n",
       "    <tr style=\"text-align: right;\">\n",
       "      <th></th>\n",
       "      <th>user_id</th>\n",
       "      <th>age</th>\n",
       "      <th>gender</th>\n",
       "      <th>occupation</th>\n",
       "      <th>zip_code</th>\n",
       "    </tr>\n",
       "  </thead>\n",
       "  <tbody>\n",
       "    <tr>\n",
       "      <th>196</th>\n",
       "      <td>197</td>\n",
       "      <td>55</td>\n",
       "      <td>M</td>\n",
       "      <td>technician</td>\n",
       "      <td>75094</td>\n",
       "    </tr>\n",
       "    <tr>\n",
       "      <th>401</th>\n",
       "      <td>402</td>\n",
       "      <td>30</td>\n",
       "      <td>M</td>\n",
       "      <td>engineer</td>\n",
       "      <td>95129</td>\n",
       "    </tr>\n",
       "    <tr>\n",
       "      <th>14</th>\n",
       "      <td>15</td>\n",
       "      <td>49</td>\n",
       "      <td>F</td>\n",
       "      <td>educator</td>\n",
       "      <td>97301</td>\n",
       "    </tr>\n",
       "    <tr>\n",
       "      <th>862</th>\n",
       "      <td>863</td>\n",
       "      <td>17</td>\n",
       "      <td>M</td>\n",
       "      <td>student</td>\n",
       "      <td>60089</td>\n",
       "    </tr>\n",
       "    <tr>\n",
       "      <th>569</th>\n",
       "      <td>570</td>\n",
       "      <td>26</td>\n",
       "      <td>M</td>\n",
       "      <td>educator</td>\n",
       "      <td>14627</td>\n",
       "    </tr>\n",
       "  </tbody>\n",
       "</table>\n",
       "</div>"
      ],
      "text/plain": [
       "     user_id  age gender  occupation zip_code\n",
       "196      197   55      M  technician    75094\n",
       "401      402   30      M    engineer    95129\n",
       "14        15   49      F    educator    97301\n",
       "862      863   17      M     student    60089\n",
       "569      570   26      M    educator    14627"
      ]
     },
     "execution_count": 3,
     "metadata": {},
     "output_type": "execute_result"
    }
   ],
   "source": [
    "moviegoers = pd.read_csv('NYC1-moviegoers.csv')\n",
    "moviegoers.head()\n",
    "moviegoers.sample(5)\n"
   ]
  },
  {
   "cell_type": "markdown",
   "metadata": {},
   "source": [
    "### Part 2: Load the zip code database into a Pandas DataFrame\n",
    "\n",
    "Write code to load the movie goers dataset (in csv format) into the variable `zipcodes` and then print the first few rows. \n",
    "\n",
    "The database (in csv format) can be found here: `'https://raw.githubusercontent.com/mafudge/datasets/master/zipcodes/free-zipcode-database-Primary.csv'`  \n",
    "\n",
    "**HINT:**  You must include the named argument `dtype={'Zipcode': object}` to the `read_csv()` method to force the `Zipcode` series to be the same type as in the `moviegoers` dataframe."
   ]
  },
  {
   "cell_type": "code",
   "execution_count": 4,
   "metadata": {
    "collapsed": false
   },
   "outputs": [
    {
     "data": {
      "text/html": [
       "<div>\n",
       "<table border=\"1\" class=\"dataframe\">\n",
       "  <thead>\n",
       "    <tr style=\"text-align: right;\">\n",
       "      <th></th>\n",
       "      <th>Zipcode</th>\n",
       "      <th>ZipCodeType</th>\n",
       "      <th>City</th>\n",
       "      <th>State</th>\n",
       "      <th>LocationType</th>\n",
       "      <th>Lat</th>\n",
       "      <th>Long</th>\n",
       "      <th>Location</th>\n",
       "      <th>Decommisioned</th>\n",
       "      <th>TaxReturnsFiled</th>\n",
       "      <th>EstimatedPopulation</th>\n",
       "      <th>TotalWages</th>\n",
       "    </tr>\n",
       "  </thead>\n",
       "  <tbody>\n",
       "    <tr>\n",
       "      <th>0</th>\n",
       "      <td>00705</td>\n",
       "      <td>STANDARD</td>\n",
       "      <td>AIBONITO</td>\n",
       "      <td>PR</td>\n",
       "      <td>PRIMARY</td>\n",
       "      <td>18.14</td>\n",
       "      <td>-66.26</td>\n",
       "      <td>NA-US-PR-AIBONITO</td>\n",
       "      <td>False</td>\n",
       "      <td>NaN</td>\n",
       "      <td>NaN</td>\n",
       "      <td>NaN</td>\n",
       "    </tr>\n",
       "    <tr>\n",
       "      <th>1</th>\n",
       "      <td>00610</td>\n",
       "      <td>STANDARD</td>\n",
       "      <td>ANASCO</td>\n",
       "      <td>PR</td>\n",
       "      <td>PRIMARY</td>\n",
       "      <td>18.28</td>\n",
       "      <td>-67.14</td>\n",
       "      <td>NA-US-PR-ANASCO</td>\n",
       "      <td>False</td>\n",
       "      <td>NaN</td>\n",
       "      <td>NaN</td>\n",
       "      <td>NaN</td>\n",
       "    </tr>\n",
       "    <tr>\n",
       "      <th>2</th>\n",
       "      <td>00611</td>\n",
       "      <td>PO BOX</td>\n",
       "      <td>ANGELES</td>\n",
       "      <td>PR</td>\n",
       "      <td>PRIMARY</td>\n",
       "      <td>18.28</td>\n",
       "      <td>-66.79</td>\n",
       "      <td>NA-US-PR-ANGELES</td>\n",
       "      <td>False</td>\n",
       "      <td>NaN</td>\n",
       "      <td>NaN</td>\n",
       "      <td>NaN</td>\n",
       "    </tr>\n",
       "    <tr>\n",
       "      <th>3</th>\n",
       "      <td>00612</td>\n",
       "      <td>STANDARD</td>\n",
       "      <td>ARECIBO</td>\n",
       "      <td>PR</td>\n",
       "      <td>PRIMARY</td>\n",
       "      <td>18.45</td>\n",
       "      <td>-66.73</td>\n",
       "      <td>NA-US-PR-ARECIBO</td>\n",
       "      <td>False</td>\n",
       "      <td>NaN</td>\n",
       "      <td>NaN</td>\n",
       "      <td>NaN</td>\n",
       "    </tr>\n",
       "    <tr>\n",
       "      <th>4</th>\n",
       "      <td>00601</td>\n",
       "      <td>STANDARD</td>\n",
       "      <td>ADJUNTAS</td>\n",
       "      <td>PR</td>\n",
       "      <td>PRIMARY</td>\n",
       "      <td>18.16</td>\n",
       "      <td>-66.72</td>\n",
       "      <td>NA-US-PR-ADJUNTAS</td>\n",
       "      <td>False</td>\n",
       "      <td>NaN</td>\n",
       "      <td>NaN</td>\n",
       "      <td>NaN</td>\n",
       "    </tr>\n",
       "  </tbody>\n",
       "</table>\n",
       "</div>"
      ],
      "text/plain": [
       "  Zipcode ZipCodeType      City State LocationType    Lat   Long  \\\n",
       "0   00705    STANDARD  AIBONITO    PR      PRIMARY  18.14 -66.26   \n",
       "1   00610    STANDARD    ANASCO    PR      PRIMARY  18.28 -67.14   \n",
       "2   00611      PO BOX   ANGELES    PR      PRIMARY  18.28 -66.79   \n",
       "3   00612    STANDARD   ARECIBO    PR      PRIMARY  18.45 -66.73   \n",
       "4   00601    STANDARD  ADJUNTAS    PR      PRIMARY  18.16 -66.72   \n",
       "\n",
       "            Location Decommisioned  TaxReturnsFiled  EstimatedPopulation  \\\n",
       "0  NA-US-PR-AIBONITO         False              NaN                  NaN   \n",
       "1    NA-US-PR-ANASCO         False              NaN                  NaN   \n",
       "2   NA-US-PR-ANGELES         False              NaN                  NaN   \n",
       "3   NA-US-PR-ARECIBO         False              NaN                  NaN   \n",
       "4  NA-US-PR-ADJUNTAS         False              NaN                  NaN   \n",
       "\n",
       "   TotalWages  \n",
       "0         NaN  \n",
       "1         NaN  \n",
       "2         NaN  \n",
       "3         NaN  \n",
       "4         NaN  "
      ]
     },
     "execution_count": 4,
     "metadata": {},
     "output_type": "execute_result"
    }
   ],
   "source": [
    "zipcodes= pd.read_csv('https://raw.githubusercontent.com/mafudge/datasets/master/zipcodes/free-zipcode-database-Primary.csv', dtype={'Zipcode': object})\n",
    "zipcodes.head()"
   ]
  },
  {
   "cell_type": "markdown",
   "metadata": {},
   "source": [
    "### Part 3: Merge both data sets into a single combined DataFrame\n",
    "\n",
    "Next we must merge the `moviegoers` DataFrame with the `zipcodes` DataFrame. To do this you must specify which zip code column from `moviegoers` matches the zip cod column from `zipcodes` (as you can see they have different names).\n",
    "\n",
    "```\n",
    "Help on method merge in module pandas.core.frame:\n",
    "\n",
    "merge(right, how='inner', on=None, left_on=None, right_on=None, left_index=False, right_index=False, sort=False, suffixes=('_x', '_y'), copy=True, indicator=False) method of pandas.core.frame.DataFrame instance\n",
    "    Merge DataFrame objects by performing a database-style join operation by\n",
    "    columns or indexes.\n",
    "```\n",
    "\n",
    "The type of merge we will do is an `inner`, because we only want rows when the zip codes match. This is called an *intersection*.\n",
    "\n",
    "To complete a merge we must specify the column names from the left and right DataFrames.  Most of the code has been written for you. Your task is to complete the columns for the merge, replacing `????` with the appropriate column names."
   ]
  },
  {
   "cell_type": "code",
   "execution_count": 7,
   "metadata": {
    "collapsed": false
   },
   "outputs": [],
   "source": [
    "merge = moviegoers.merge(zipcodes, how='inner', on=None, left_on='zip_code', right_on='Zipcode', left_index=False, right_index=False, sort=False, suffixes=('_x', '_y'), copy=True, indicator=False)"
   ]
  },
  {
   "cell_type": "markdown",
   "metadata": {},
   "source": [
    "### Part 4: Merge both data sets into a single combined DataFrame\n",
    "\n",
    "Finally, produce the desired output a list of states and counts of movie goers from the survey in each state.\n",
    "\n",
    "Here's the top 5 for reference:\n",
    "\n",
    "```\n",
    "CA    116\n",
    "MN     78\n",
    "NY     60\n",
    "TX     51\n",
    "IL     50\n",
    "```"
   ]
  },
  {
   "cell_type": "code",
   "execution_count": 9,
   "metadata": {
    "collapsed": false
   },
   "outputs": [
    {
     "data": {
      "text/plain": [
       "CA    116\n",
       "MN     78\n",
       "NY     60\n",
       "TX     51\n",
       "IL     50\n",
       "PA     34\n",
       "OH     32\n",
       "MD     27\n",
       "VA     27\n",
       "WA     24\n",
       "FL     24\n",
       "MI     23\n",
       "WI     22\n",
       "OR     20\n",
       "CO     20\n",
       "GA     19\n",
       "NC     19\n",
       "MO     17\n",
       "AZ     14\n",
       "IA     14\n",
       "DC     14\n",
       "TN     12\n",
       "SC     11\n",
       "KY     11\n",
       "OK      9\n",
       "UT      9\n",
       "IN      9\n",
       "ID      7\n",
       "LA      6\n",
       "NE      6\n",
       "AK      5\n",
       "KS      4\n",
       "DE      3\n",
       "WV      3\n",
       "AL      3\n",
       "NV      3\n",
       "MS      3\n",
       "NM      2\n",
       "ND      2\n",
       "HI      2\n",
       "MT      2\n",
       "SD      1\n",
       "AP      1\n",
       "AR      1\n",
       "WY      1\n",
       "Name: State, dtype: int64"
      ]
     },
     "execution_count": 9,
     "metadata": {},
     "output_type": "execute_result"
    }
   ],
   "source": [
    "merge.State.value_counts()"
   ]
  },
  {
   "cell_type": "code",
   "execution_count": null,
   "metadata": {
    "collapsed": true
   },
   "outputs": [],
   "source": []
  }
 ],
 "metadata": {
  "anaconda-cloud": {},
  "kernelspec": {
   "display_name": "Python [default]",
   "language": "python",
   "name": "python3"
  },
  "language_info": {
   "codemirror_mode": {
    "name": "ipython",
    "version": 3
   },
   "file_extension": ".py",
   "mimetype": "text/x-python",
   "name": "python",
   "nbconvert_exporter": "python",
   "pygments_lexer": "ipython3",
   "version": "3.5.2"
  }
 },
 "nbformat": 4,
 "nbformat_minor": 0
}
