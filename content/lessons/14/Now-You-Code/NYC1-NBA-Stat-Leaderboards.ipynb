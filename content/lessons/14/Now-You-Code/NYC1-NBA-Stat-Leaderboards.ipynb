{
 "cells": [
  {
   "cell_type": "markdown",
   "metadata": {},
   "source": [
    "# Now You Code 1: NBA Stat Leaderboards\n",
    "\n",
    "Get the current leader of each stat provided by http://www.espn.com/nba/statistics and print the stat title and the list of player in order.\n",
    "\n",
    "ex:\n",
    "```\n",
    "Offensive Leaders:\n",
    "Name                              ppg\n",
    "1. Russell Westbrook, OKC\t     31.4\n",
    "2. Anthony Davis, NO\t          28.6\n",
    "3. DeMarcus Cousins, SAC\t      28.5\n",
    "4. James Harden, HOU\t          27.9\n",
    "5. Isaiah Thomas, BOS\t         27.7\n",
    "```\n",
    "\n",
    "Suggested approach:\n",
    "- Use requests to download the page html\n",
    "- Use BeautifulSoup to extract the data\n",
    "- Create a function to process each stat box.\n",
    "- Loop through each stat box and process the stat\n",
    "- Use string format functions to format the output\n"
   ]
  },
  {
   "cell_type": "code",
   "execution_count": 25,
   "metadata": {
    "collapsed": true
   },
   "outputs": [],
   "source": [
    "# retrieve the HTML\n",
    "# find information\n",
    "# retrieve stat title and player with team\n",
    "# print stats neatly\n",
    "import requests\n",
    "from bs4 import BeautifulSoup"
   ]
  },
  {
   "cell_type": "code",
   "execution_count": 33,
   "metadata": {
    "collapsed": false
   },
   "outputs": [
    {
     "data": {
      "text/plain": [
       "[<div class=\"mod-container mod-table mod-no-footer\"><div class=\"mod-header stathead\"><h4>Offensive Leaders</h4></div><div class=\"mod-content\"><table cellpadding=\"3\" cellspacing=\"1\" class=\"tablehead\">\n",
       " <tr class=\"colhead\"><td colspan=\"2\">POINTS</td>\n",
       " <td align=\"right\">PPG</td>\n",
       " </tr><tr class=\"oddrow player-46-3468\"><td align=\"center\" rowspan=\"5\" style=\"background: none; border: 0;\"><a href=\"http://www.espn.com/nba/player/_/id/3468/russell-westbrook\"><img alt=\"\" border=\"0\" height=\"90\" src=\"http://a.espncdn.com/combiner/i?img=/i/headshots/nba/players/full/3468.png&amp;w=65&amp;h=90&amp;scale=crop&amp;background=0xcccccc&amp;transparent=false\" title=\"\" width=\"65\"/>\n",
       " </a><br/><a href=\"http://www.espn.com/nba/player/_/id/3468/russell-westbrook\">Russell<br/>Westbrook</a></td><td>1. <a href=\"http://www.espn.com/nba/player/_/id/3468/russell-westbrook\">Russell Westbrook</a>, OKC</td><td align=\"right\">37.4</td></tr>\n",
       " <tr class=\"evenrow player-46-3992\"><td>2. <a href=\"http://www.espn.com/nba/player/_/id/3992/james-harden\">James Harden</a>, HOU</td><td align=\"right\">33.2</td></tr>\n",
       " <tr class=\"oddrow player-46-1966\"><td>3. <a href=\"http://www.espn.com/nba/player/_/id/1966/lebron-james\">LeBron James</a>, CLE</td><td align=\"right\">32.8</td></tr>\n",
       " <tr class=\"evenrow player-46-6450\"><td>4. <a href=\"http://www.espn.com/nba/player/_/id/6450/kawhi-leonard\">Kawhi Leonard</a>, SA</td><td align=\"right\">31.2</td></tr>\n",
       " <tr class=\"oddrow player-46-3975\"><td>5. <a href=\"http://www.espn.com/nba/player/_/id/3975/stephen-curry\">Stephen Curry</a>, GS</td><td align=\"right\">29.8</td></tr>\n",
       " <tr class=\"evenrow\">\n",
       " <td align=\"center\" colspan=\"3\"><a class=\"bi\" href=\"//www.espn.com/nba/statistics/player/_/stat/scoring-per-game/sort/avgPoints/year/2017/seasontype/3\">Complete Leaders</a></td>\n",
       " </tr>\n",
       " </table>\n",
       " </div></div>,\n",
       " <div class=\"mod-container mod-table mod-no-footer mod-no-header\"><div class=\"mod-content\"><table cellpadding=\"3\" cellspacing=\"1\" class=\"tablehead\">\n",
       " <tr class=\"colhead\"><td colspan=\"2\">ASSISTS</td>\n",
       " <td align=\"right\">APG</td>\n",
       " </tr><tr class=\"oddrow player-46-3468\"><td align=\"center\" rowspan=\"5\" style=\"background: none; border: 0;\"><a href=\"http://www.espn.com/nba/player/_/id/3468/russell-westbrook\"><img alt=\"\" border=\"0\" height=\"90\" src=\"http://a.espncdn.com/combiner/i?img=/i/headshots/nba/players/full/3468.png&amp;w=65&amp;h=90&amp;scale=crop&amp;background=0xcccccc&amp;transparent=false\" title=\"\" width=\"65\"/>\n",
       " </a><br/><a href=\"http://www.espn.com/nba/player/_/id/3468/russell-westbrook\">Russell<br/>Westbrook</a></td><td>1. <a href=\"http://www.espn.com/nba/player/_/id/3468/russell-westbrook\">Russell Westbrook</a>, OKC</td><td align=\"right\">10.8</td></tr>\n",
       " <tr class=\"evenrow player-46-4237\"><td>2. <a href=\"http://www.espn.com/nba/player/_/id/4237/john-wall\">John Wall</a>, WSH</td><td align=\"right\">10.3</td></tr>\n",
       " <tr class=\"oddrow player-46-2779\"><td>3. <a href=\"http://www.espn.com/nba/player/_/id/2779/chris-paul\">Chris Paul</a>, LAC</td><td align=\"right\">10.0</td></tr>\n",
       " <tr class=\"evenrow player-46-1966\"><td>4. <a href=\"http://www.espn.com/nba/player/_/id/1966/lebron-james\">LeBron James</a>, CLE</td><td align=\"right\">9.0</td></tr>\n",
       " <tr class=\"oddrow player-46-3032979\"><td>5. <a href=\"http://www.espn.com/nba/player/_/id/3032979/dennis-schroder\">Dennis Schroder</a>, ATL</td><td align=\"right\">7.7</td></tr>\n",
       " <tr class=\"evenrow\">\n",
       " <td align=\"center\" colspan=\"3\"><a class=\"bi\" href=\"//www.espn.com/nba/statistics/player/_/stat/assists/sort/avgAssists/year/2017/seasontype/3\">Complete Leaders</a></td>\n",
       " </tr>\n",
       " </table>\n",
       " </div></div>,\n",
       " <div class=\"mod-container mod-table mod-no-footer mod-no-header\"><div class=\"mod-content\"><table cellpadding=\"3\" cellspacing=\"1\" class=\"tablehead\">\n",
       " <tr class=\"colhead\"><td colspan=\"2\">FIELD GOAL %</td>\n",
       " <td align=\"right\">FG%</td>\n",
       " </tr><tr class=\"oddrow player-46-1713\"><td align=\"center\" rowspan=\"5\" style=\"background: none; border: 0;\"><a href=\"http://www.espn.com/nba/player/_/id/1713/nene-hilario\"><img alt=\"\" border=\"0\" height=\"90\" src=\"http://a.espncdn.com/combiner/i?img=/i/headshots/nba/players/full/1713.png&amp;w=65&amp;h=90&amp;scale=crop&amp;background=0xcccccc&amp;transparent=false\" title=\"\" width=\"65\"/>\n",
       " </a><br/><a href=\"http://www.espn.com/nba/player/_/id/1713/nene-hilario\">Nene<br/>Hilario</a></td><td>1. <a href=\"http://www.espn.com/nba/player/_/id/1713/nene-hilario\">Nene Hilario</a>, HOU</td><td align=\"right\">.848</td></tr>\n",
       " <tr class=\"evenrow player-46-3452\"><td>2. <a href=\"http://www.espn.com/nba/player/_/id/3452/javale-mcgee\">JaVale McGee</a>, GS</td><td align=\"right\">.783</td></tr>\n",
       " <tr class=\"oddrow player-46-3442\"><td>3. <a href=\"http://www.espn.com/nba/player/_/id/3442/deandre-jordan\">DeAndre Jordan</a>, LAC</td><td align=\"right\">.694</td></tr>\n",
       " <tr class=\"evenrow player-46-3447\"><td>4. <a href=\"http://www.espn.com/nba/player/_/id/3447/robin-lopez\">Robin Lopez</a>, CHI</td><td align=\"right\">.654</td></tr>\n",
       " <tr class=\"oddrow player-46-2991070\"><td>5. <a href=\"http://www.espn.com/nba/player/_/id/2991070/jerami-grant\">Jerami Grant</a>, OKC</td><td align=\"right\">.613</td></tr>\n",
       " <tr class=\"evenrow\">\n",
       " <td align=\"center\" colspan=\"3\"><a class=\"bi\" href=\"//www.espn.com/nba/statistics/player/_/stat/field-goals/sort/fieldGoalPct/year/2017/seasontype/3\">Complete Leaders</a></td>\n",
       " </tr>\n",
       " </table>\n",
       " </div></div>,\n",
       " <div class=\"mod-container mod-table mod-no-footer\"><div class=\"mod-header stathead\"><h4>Defensive Leaders</h4></div><div class=\"mod-content\"><table cellpadding=\"3\" cellspacing=\"1\" class=\"tablehead\">\n",
       " <tr class=\"colhead\"><td colspan=\"2\">REBOUNDS</td>\n",
       " <td align=\"right\">RPG</td>\n",
       " </tr><tr class=\"oddrow player-46-3442\"><td align=\"center\" rowspan=\"5\" style=\"background: none; border: 0;\"><a href=\"http://www.espn.com/nba/player/_/id/3442/deandre-jordan\"><img alt=\"\" border=\"0\" height=\"90\" src=\"http://a.espncdn.com/combiner/i?img=/i/headshots/nba/players/full/3442.png&amp;w=65&amp;h=90&amp;scale=crop&amp;background=0xcccccc&amp;transparent=false\" title=\"\" width=\"65\"/>\n",
       " </a><br/><a href=\"http://www.espn.com/nba/player/_/id/3442/deandre-jordan\">DeAndre<br/>Jordan</a></td><td>1. <a href=\"http://www.espn.com/nba/player/_/id/3442/deandre-jordan\">DeAndre Jordan</a>, LAC</td><td align=\"right\">13.8</td></tr>\n",
       " <tr class=\"evenrow player-46-3468\"><td>2. <a href=\"http://www.espn.com/nba/player/_/id/3468/russell-westbrook\">Russell Westbrook</a>, OKC</td><td align=\"right\">11.6</td></tr>\n",
       " <tr class=\"oddrow player-46-6474\"><td>3. <a href=\"http://www.espn.com/nba/player/_/id/6474/tristan-thompson\">Tristan Thompson</a>, CLE</td><td align=\"right\">11.0</td></tr>\n",
       " <tr class=\"evenrow player-46-2384\"><td>4. <a href=\"http://www.espn.com/nba/player/_/id/2384/dwight-howard\">Dwight Howard</a>, ATL</td><td align=\"right\">10.7</td></tr>\n",
       " <tr class=\"oddrow player-46-2758\"><td>5. <a href=\"http://www.espn.com/nba/player/_/id/2758/marcin-gortat\">Marcin Gortat</a>, WSH</td><td align=\"right\">10.7</td></tr>\n",
       " <tr class=\"evenrow\">\n",
       " <td align=\"center\" colspan=\"3\"><a class=\"bi\" href=\"//www.espn.com/nba/statistics/player/_/stat/rebounds/sort/avgRebounds/year/2017/seasontype/3\">Complete Leaders</a></td>\n",
       " </tr>\n",
       " </table>\n",
       " </div></div>,\n",
       " <div class=\"mod-container mod-table mod-no-footer mod-no-header\"><div class=\"mod-content\"><table cellpadding=\"3\" cellspacing=\"1\" class=\"tablehead\">\n",
       " <tr class=\"colhead\"><td colspan=\"2\">BLOCKS</td>\n",
       " <td align=\"right\">BLKPG</td>\n",
       " </tr><tr class=\"oddrow player-46-6589\"><td align=\"center\" rowspan=\"5\" style=\"background: none; border: 0;\"><a href=\"http://www.espn.com/nba/player/_/id/6589/draymond-green\"><img alt=\"\" border=\"0\" height=\"90\" src=\"http://a.espncdn.com/combiner/i?img=/i/headshots/nba/players/full/6589.png&amp;w=65&amp;h=90&amp;scale=crop&amp;background=0xcccccc&amp;transparent=false\" title=\"\" width=\"65\"/>\n",
       " </a><br/><a href=\"http://www.espn.com/nba/player/_/id/6589/draymond-green\">Draymond<br/>Green</a></td><td>1. <a href=\"http://www.espn.com/nba/player/_/id/6589/draymond-green\">Draymond Green</a>, GS</td><td align=\"right\">4.25</td></tr>\n",
       " <tr class=\"evenrow player-46-2530596\"><td>2. <a href=\"http://www.espn.com/nba/player/_/id/2530596/andre-roberson\">Andre Roberson</a>, OKC</td><td align=\"right\">3.40</td></tr>\n",
       " <tr class=\"oddrow player-46-3102529\"><td>3. <a href=\"http://www.espn.com/nba/player/_/id/3102529/clint-capela\">Clint Capela</a>, HOU</td><td align=\"right\">2.60</td></tr>\n",
       " <tr class=\"evenrow player-46-2758\"><td>4. <a href=\"http://www.espn.com/nba/player/_/id/2758/marcin-gortat\">Marcin Gortat</a>, WSH</td><td align=\"right\">2.33</td></tr>\n",
       " <tr class=\"oddrow player-46-3439\"><td>5. <a href=\"http://www.espn.com/nba/player/_/id/3439/serge-ibaka\">Serge Ibaka</a>, TOR</td><td align=\"right\">2.33</td></tr>\n",
       " <tr class=\"evenrow\">\n",
       " <td align=\"center\" colspan=\"3\"><a class=\"bi\" href=\"//www.espn.com/nba/statistics/player/_/stat/blocks/sort/avgBlocks/year/2017/seasontype/3\">Complete Leaders</a></td>\n",
       " </tr>\n",
       " </table>\n",
       " </div></div>,\n",
       " <div class=\"mod-container mod-table mod-no-footer mod-no-header\"><div class=\"mod-content\"><table cellpadding=\"3\" cellspacing=\"1\" class=\"tablehead\">\n",
       " <tr class=\"colhead\"><td colspan=\"2\">STEALS</td>\n",
       " <td align=\"right\">STPG</td>\n",
       " </tr><tr class=\"oddrow player-46-1966\"><td align=\"center\" rowspan=\"5\" style=\"background: none; border: 0;\"><a href=\"http://www.espn.com/nba/player/_/id/1966/lebron-james\"><img alt=\"\" border=\"0\" height=\"90\" src=\"http://a.espncdn.com/combiner/i?img=/i/headshots/nba/players/full/1966.png&amp;w=65&amp;h=90&amp;scale=crop&amp;background=0xcccccc&amp;transparent=false\" title=\"\" width=\"65\"/>\n",
       " </a><br/><a href=\"http://www.espn.com/nba/player/_/id/1966/lebron-james\">LeBron<br/>James</a></td><td>1. <a href=\"http://www.espn.com/nba/player/_/id/1966/lebron-james\">LeBron James</a>, CLE</td><td align=\"right\">3.00</td></tr>\n",
       " <tr class=\"evenrow player-46-2530596\"><td>2. <a href=\"http://www.espn.com/nba/player/_/id/2530596/andre-roberson\">Andre Roberson</a>, OKC</td><td align=\"right\">2.40</td></tr>\n",
       " <tr class=\"oddrow player-46-3468\"><td>3. <a href=\"http://www.espn.com/nba/player/_/id/3468/russell-westbrook\">Russell Westbrook</a>, OKC</td><td align=\"right\">2.40</td></tr>\n",
       " <tr class=\"evenrow player-46-6580\"><td>4. <a href=\"http://www.espn.com/nba/player/_/id/6580/bradley-beal\">Bradley Beal</a>, WSH</td><td align=\"right\">2.33</td></tr>\n",
       " <tr class=\"oddrow player-46-3032977\"><td>5. <a href=\"http://www.espn.com/nba/player/_/id/3032977/giannis-antetokounmpo\">Giannis Antetokounmpo</a>, MIL</td><td align=\"right\">2.17</td></tr>\n",
       " <tr class=\"evenrow\">\n",
       " <td align=\"center\" colspan=\"3\"><a class=\"bi\" href=\"//www.espn.com/nba/statistics/player/_/stat/steals/sort/avgSteals/year/2017/seasontype/3\">Complete Leaders</a></td>\n",
       " </tr>\n",
       " </table>\n",
       " </div></div>]"
      ]
     },
     "execution_count": 33,
     "metadata": {},
     "output_type": "execute_result"
    }
   ],
   "source": [
    "html = requests.get('http://www.espn.com/nba/statistics').text\n",
    "parse = BeautifulSoup(html, 'lxml')\n",
    "container = parse.select('#my-players-table .span-2 .mod-container')\n",
    "container"
   ]
  },
  {
   "cell_type": "code",
   "execution_count": 34,
   "metadata": {
    "collapsed": false
   },
   "outputs": [
    {
     "name": "stdout",
     "output_type": "stream",
     "text": [
      "POINTS                                            PPG\n",
      "1. Russell Westbrook, OKC                         37.4\n",
      "2. James Harden, HOU                              33.2\n",
      "3. LeBron James, CLE                              32.8\n",
      "4. Kawhi Leonard, SA                              31.2\n",
      "5. Stephen Curry, GS                              29.8\n",
      "-------------------------------------------------------\n",
      "ASSISTS                                           APG\n",
      "1. Russell Westbrook, OKC                         10.8\n",
      "2. John Wall, WSH                                 10.3\n",
      "3. Chris Paul, LAC                                10.0\n",
      "4. LeBron James, CLE                              9.0\n",
      "5. Dennis Schroder, ATL                           7.7\n",
      "-------------------------------------------------------\n",
      "FIELD GOAL %                                      FG%\n",
      "1. Nene Hilario, HOU                              .848\n",
      "2. JaVale McGee, GS                               .783\n",
      "3. DeAndre Jordan, LAC                            .694\n",
      "4. Robin Lopez, CHI                               .654\n",
      "5. Jerami Grant, OKC                              .613\n",
      "-------------------------------------------------------\n",
      "REBOUNDS                                          RPG\n",
      "1. DeAndre Jordan, LAC                            13.8\n",
      "2. Russell Westbrook, OKC                         11.6\n",
      "3. Tristan Thompson, CLE                          11.0\n",
      "4. Dwight Howard, ATL                             10.7\n",
      "5. Marcin Gortat, WSH                             10.7\n",
      "-------------------------------------------------------\n",
      "BLOCKS                                            BLKPG\n",
      "1. Draymond Green, GS                             4.25\n",
      "2. Andre Roberson, OKC                            3.40\n",
      "3. Clint Capela, HOU                              2.60\n",
      "4. Marcin Gortat, WSH                             2.33\n",
      "5. Serge Ibaka, TOR                               2.33\n",
      "-------------------------------------------------------\n",
      "STEALS                                            STPG\n",
      "1. LeBron James, CLE                              3.00\n",
      "2. Andre Roberson, OKC                            2.40\n",
      "3. Russell Westbrook, OKC                         2.40\n",
      "4. Bradley Beal, WSH                              2.33\n",
      "5. Giannis Antetokounmpo, MIL                     2.17\n",
      "-------------------------------------------------------\n"
     ]
    }
   ],
   "source": [
    "for i in container:\n",
    "    for row in i.select('table tr'):\n",
    "        items = row.find_all('td')\n",
    "        if len(items) > 2:\n",
    "            items = items[1:]\n",
    "        if len(items) > 1:\n",
    "            print('{:50}{}'.format(items[0].get_text(), items[1].get_text()))\n",
    "    print('-' * 55)"
   ]
  },
  {
   "cell_type": "code",
   "execution_count": null,
   "metadata": {
    "collapsed": true
   },
   "outputs": [],
   "source": []
  }
 ],
 "metadata": {
  "anaconda-cloud": {},
  "kernelspec": {
   "display_name": "Python [default]",
   "language": "python",
   "name": "python3"
  },
  "language_info": {
   "codemirror_mode": {
    "name": "ipython",
    "version": 3
   },
   "file_extension": ".py",
   "mimetype": "text/x-python",
   "name": "python",
   "nbconvert_exporter": "python",
   "pygments_lexer": "ipython3",
   "version": "3.5.2"
  }
 },
 "nbformat": 4,
 "nbformat_minor": 0
}
