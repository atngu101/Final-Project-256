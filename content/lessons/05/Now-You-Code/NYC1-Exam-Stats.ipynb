{
 "cells": [
  {
   "cell_type": "markdown",
   "metadata": {},
   "source": [
    "# Now You Code 1: Exam Stats\n",
    "\n",
    "Write a program to input exam scores (out of 100) until you enter 'quit'. After you finish entering exam scores the program will print out the average of all the exam scores.\n",
    "\n",
    "**HINTS:** \n",
    "\n",
    "- To figure out the average you must keep a running total of exam scores and a count of the number entered.\n",
    "- Try to make the program work 1 time, then figure out the exit condition and use a while True: loop.\n",
    "\n",
    "Example Run:\n",
    "\n",
    "```\n",
    "Enter exam score or type 'quit': 100\n",
    "Enter exam score or type 'quit': 100\n",
    "Enter exam score or type 'quit': 50\n",
    "Enter exam score or type 'quit': quit\n",
    "Number of scores 3. Average is 83.33\n",
    "```"
   ]
  },
  {
   "cell_type": "code",
   "execution_count": null,
   "metadata": {
    "collapsed": true
   },
   "outputs": [],
   "source": [
    "#Write TODO list here\n",
    "#1 scores = 0\n",
    "#2 grade = 0\n",
    "#3 final_grade = 0\n",
    "#4 Indefinite Loop\n",
    "#5 Enter Exam Score\n",
    "#6 Increment scores\n",
    "#7 Average the scores\n",
    "#8 if count is equal to quit stop looping \n",
    "#9 print exam score and count\n"
   ]
  },
  {
   "cell_type": "code",
   "execution_count": 13,
   "metadata": {
    "collapsed": false
   },
   "outputs": [
    {
     "name": "stdout",
     "output_type": "stream",
     "text": [
      "Enter a grade or type 'quit': 110\n",
      "You can only have a calculated grade between 0 and 100\n"
     ]
    }
   ],
   "source": [
    "# Write code here\n",
    "scores = 0\n",
    "grade = 0\n",
    "final_grade= 0\n",
    "try:\n",
    "    while True:\n",
    "        # set condition for grades\n",
    "        if grade <= 100 and grade >= 0:\n",
    "            #calculate the average\n",
    "            grade=int(input(\"Enter a grade or type 'quit': \"))\n",
    "            scores = scores + 1\n",
    "            final_grade += grade\n",
    "            final_score = final_grade / scores\n",
    "        else:\n",
    "            print('You can only have a calculated grade between 0 and 100')\n",
    "            break\n",
    "#encompass the 'quit'\n",
    "except ValueError:\n",
    "    print('The number of scores is', scores,'.' , 'Average is', '%.2f' % final_score,'%')\n"
   ]
  },
  {
   "cell_type": "code",
   "execution_count": null,
   "metadata": {
    "collapsed": true
   },
   "outputs": [],
   "source": []
  }
 ],
 "metadata": {
  "anaconda-cloud": {},
  "kernelspec": {
   "display_name": "Python [default]",
   "language": "python",
   "name": "python3"
  },
  "language_info": {
   "codemirror_mode": {
    "name": "ipython",
    "version": 3
   },
   "file_extension": ".py",
   "mimetype": "text/x-python",
   "name": "python",
   "nbconvert_exporter": "python",
   "pygments_lexer": "ipython3",
   "version": "3.5.2"
  }
 },
 "nbformat": 4,
 "nbformat_minor": 0
}
