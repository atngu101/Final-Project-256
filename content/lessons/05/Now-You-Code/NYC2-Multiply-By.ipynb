{
 "cells": [
  {
   "cell_type": "markdown",
   "metadata": {},
   "source": [
    "# Now You Code 2: Multiply By\n",
    "\n",
    "Write a program to ask for a number to multiply by and then lists the multiplication table for that number from 1 to 10. This process will repeat until you enter quit as which point the program will exit.\n",
    "\n",
    "Example Run:\n",
    "\n",
    "```\n",
    "Enter number to multiply by or type 'quit': 10\n",
    "1 x 10 = 10\n",
    "2 x 10 = 20\n",
    "3 x 10 = 30\n",
    "4 x 10 = 40\n",
    "5 x 10 = 50\n",
    "6 x 10 = 60\n",
    "7 x 10 = 70\n",
    "8 x 10 = 80\n",
    "9 x 10 = 90\n",
    "10 x 10 = 100\n",
    "Enter number to multiply by or type 'quit': 5\n",
    "1 x 5 = 5\n",
    "2 x 5 = 10\n",
    "3 x 5 = 15\n",
    "4 x 5 = 20\n",
    "5 x 5 = 25\n",
    "6 x 5 = 30\n",
    "7 x 5 = 35\n",
    "8 x 5 = 40\n",
    "9 x 5 = 45\n",
    "10 x 5 = 50\n",
    "Enter number to multiply by or type 'quit': quit\n",
    "```\n",
    "\n",
    "**NOTE:** you need two loops to complete this program. You'll need an indefinite loop to process the input, and a definite loop to print the multiplication table. We suggest starting out by getting the program to work once and then figuring out the exit condition for the indefinite loop. "
   ]
  },
  {
   "cell_type": "code",
   "execution_count": 1,
   "metadata": {
    "collapsed": true
   },
   "outputs": [],
   "source": [
    "#Write TODO list here\n",
    "#Enter number to multiply by or type 'quit':\n",
    "#try\n",
    "#Indefinite Loop\n",
    "#number input\n",
    "#Definite Loop\n",
    "#value (multiplied values)\n",
    "#continued the loop\n",
    "#except 'integer'\n",
    "\n"
   ]
  },
  {
   "cell_type": "code",
   "execution_count": null,
   "metadata": {
    "collapsed": false
   },
   "outputs": [
    {
     "name": "stdout",
     "output_type": "stream",
     "text": [
      "Enter number to multiply by or type 'quit': 90\n",
      "1 x 90 = 90\n",
      "2 x 90 = 180\n",
      "3 x 90 = 270\n",
      "4 x 90 = 360\n",
      "5 x 90 = 450\n",
      "6 x 90 = 540\n",
      "7 x 90 = 630\n",
      "8 x 90 = 720\n",
      "9 x 90 = 810\n",
      "10 x 90 = 900\n"
     ]
    }
   ],
   "source": [
    "# Write code here\n",
    "number = 0\n",
    "try:\n",
    "    while True: \n",
    "        while True:\n",
    "            number = int(input(\"Enter number to multiply by or type 'quit': \"))\n",
    "            if number != '':\n",
    "                break\n",
    "            else:\n",
    "                continue\n",
    "        for count in range(1,11):\n",
    "            multiple= number * count\n",
    "            print(count, 'x', number, '=', multiple)\n",
    "            count = count + 1\n",
    "except ValueError:\n",
    "    print('')\n",
    "        "
   ]
  },
  {
   "cell_type": "code",
   "execution_count": null,
   "metadata": {
    "collapsed": true
   },
   "outputs": [],
   "source": []
  }
 ],
 "metadata": {
  "anaconda-cloud": {},
  "kernelspec": {
   "display_name": "Python [default]",
   "language": "python",
   "name": "python3"
  },
  "language_info": {
   "codemirror_mode": {
    "name": "ipython",
    "version": 3
   },
   "file_extension": ".py",
   "mimetype": "text/x-python",
   "name": "python",
   "nbconvert_exporter": "python",
   "pygments_lexer": "ipython3",
   "version": "3.5.2"
  }
 },
 "nbformat": 4,
 "nbformat_minor": 0
}
