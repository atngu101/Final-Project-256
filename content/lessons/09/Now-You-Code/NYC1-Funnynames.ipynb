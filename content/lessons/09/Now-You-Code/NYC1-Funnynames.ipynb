{
 "cells": [
  {
   "cell_type": "markdown",
   "metadata": {},
   "source": [
    "# Now You Code 1: Funny Names\n",
    "\n",
    "Write a program to \n",
    "\n",
    " 1. read the file `NYC1-funnynames.txt` into a list, by completing the function provided.\n",
    " 2. sort the list of names\n",
    " 3. print the list of names one name per line.\n",
    "\n",
    "\n",
    "Program Output:\n",
    "```\n",
    "Alma Frienzergon\n",
    "Kent Belevit\n",
    "Mitch Again\n",
    "Oliver Stuffismisson\n",
    "Sandi Shores\n",
    "Sarah Bellum\n",
    "Willie Pas-D'course\n",
    "Yolanda Ismyland\n",
    "```\n"
   ]
  },
  {
   "cell_type": "code",
   "execution_count": 8,
   "metadata": {
    "collapsed": false
   },
   "outputs": [
    {
     "name": "stdout",
     "output_type": "stream",
     "text": [
      "Alma Frienzergon\n",
      "Kent Belevit\n",
      "Mitch Again\n",
      "Oliver Stuffismisson\n",
      "Sandi Shores\n",
      "Sarah Bellum\n",
      "Willie Pas-D'course\n",
      "Yolanda Ismyland\n"
     ]
    }
   ],
   "source": [
    "# this function reads from \"NYC-funnynames.txt\" places the names in a list.\n",
    "# program should return a list of names\n",
    "def read_names():\n",
    "    names = []\n",
    "    filename = \"NYC1-funnynames.txt\"\n",
    "    with open(\"NYC1-funnynames.txt\", 'r') as f:\n",
    "        for line in f:\n",
    "            names.append(line.strip())\n",
    "            names.sort()\n",
    "    return names\n",
    "   \n",
    "    #todo write code here\n",
    "    # call file\n",
    "    # def read_names\n",
    "    # sort the names\n",
    "    # For loop to print each variable on each line\n",
    "    \n",
    "# TODO: MAIN PROGRAM HERE (call read_names, sort names, then print names)\n",
    "\n",
    "for name in read_names():\n",
    "    print(name)\n",
    "    \n"
   ]
  },
  {
   "cell_type": "code",
   "execution_count": null,
   "metadata": {
    "collapsed": true
   },
   "outputs": [],
   "source": []
  }
 ],
 "metadata": {
  "anaconda-cloud": {},
  "kernelspec": {
   "display_name": "Python [default]",
   "language": "python",
   "name": "python3"
  },
  "language_info": {
   "codemirror_mode": {
    "name": "ipython",
    "version": 3
   },
   "file_extension": ".py",
   "mimetype": "text/x-python",
   "name": "python",
   "nbconvert_exporter": "python",
   "pygments_lexer": "ipython3",
   "version": "3.5.2"
  }
 },
 "nbformat": 4,
 "nbformat_minor": 0
}
